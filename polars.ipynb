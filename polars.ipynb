{
  "nbformat": 4,
  "nbformat_minor": 0,
  "metadata": {
    "colab": {
      "provenance": []
    },
    "kernelspec": {
      "name": "python3",
      "display_name": "Python 3"
    },
    "language_info": {
      "name": "python"
    }
  },
  "cells": [
    {
      "cell_type": "markdown",
      "source": [
        "# The notebook corresponds to studying and practicing python library Polars"
      ],
      "metadata": {
        "id": "nf7UfMrCvrjP"
      }
    },
    {
      "cell_type": "markdown",
      "source": [
        "### Polars advange is a parallel processing"
      ],
      "metadata": {
        "id": "OXk1x0IqAkwg"
      }
    },
    {
      "cell_type": "code",
      "execution_count": 2,
      "metadata": {
        "id": "UL6k4UVLwZOL"
      },
      "outputs": [],
      "source": [
        "import polars as pl"
      ]
    },
    {
      "cell_type": "code",
      "source": [
        "# Read the table\n",
        "data = pl.read_csv('ObesityDataSet_raw_and_data_sinthetic.csv', ignore_errors=True)"
      ],
      "metadata": {
        "id": "jdEIMlOB0DfN"
      },
      "execution_count": 3,
      "outputs": []
    },
    {
      "cell_type": "code",
      "source": [
        "data"
      ],
      "metadata": {
        "colab": {
          "base_uri": "https://localhost:8080/",
          "height": 458
        },
        "id": "oiwe8qgJ0hBB",
        "outputId": "f3826c69-541c-4f81-9c7d-8beb365b444a"
      },
      "execution_count": 4,
      "outputs": [
        {
          "output_type": "execute_result",
          "data": {
            "text/plain": [
              "shape: (2_111, 17)\n",
              "┌────────┬──────┬──────────┬────────────┬───┬──────┬────────────┬─────────────────┬────────────────┐\n",
              "│ Gender ┆ Age  ┆ Height   ┆ Weight     ┆ … ┆ TUE  ┆ CALC       ┆ MTRANS          ┆ NObeyesdad     │\n",
              "│ ---    ┆ ---  ┆ ---      ┆ ---        ┆   ┆ ---  ┆ ---        ┆ ---             ┆ ---            │\n",
              "│ str    ┆ i64  ┆ f64      ┆ f64        ┆   ┆ i64  ┆ str        ┆ str             ┆ str            │\n",
              "╞════════╪══════╪══════════╪════════════╪═══╪══════╪════════════╪═════════════════╪════════════════╡\n",
              "│ Female ┆ 21   ┆ 1.62     ┆ 64.0       ┆ … ┆ 1    ┆ no         ┆ Public_Transpor ┆ Normal_Weight  │\n",
              "│        ┆      ┆          ┆            ┆   ┆      ┆            ┆ tation          ┆                │\n",
              "│ Female ┆ 21   ┆ 1.52     ┆ 56.0       ┆ … ┆ 0    ┆ Sometimes  ┆ Public_Transpor ┆ Normal_Weight  │\n",
              "│        ┆      ┆          ┆            ┆   ┆      ┆            ┆ tation          ┆                │\n",
              "│ Male   ┆ 23   ┆ 1.8      ┆ 77.0       ┆ … ┆ 1    ┆ Frequently ┆ Public_Transpor ┆ Normal_Weight  │\n",
              "│        ┆      ┆          ┆            ┆   ┆      ┆            ┆ tation          ┆                │\n",
              "│ Male   ┆ 27   ┆ 1.8      ┆ 87.0       ┆ … ┆ 0    ┆ Frequently ┆ Walking         ┆ Overweight_Lev │\n",
              "│        ┆      ┆          ┆            ┆   ┆      ┆            ┆                 ┆ el_I           │\n",
              "│ Male   ┆ 22   ┆ 1.78     ┆ 89.8       ┆ … ┆ 0    ┆ Sometimes  ┆ Public_Transpor ┆ Overweight_Lev │\n",
              "│        ┆      ┆          ┆            ┆   ┆      ┆            ┆ tation          ┆ el_II          │\n",
              "│ …      ┆ …    ┆ …        ┆ …          ┆ … ┆ …    ┆ …          ┆ …               ┆ …              │\n",
              "│ Female ┆ null ┆ 1.71073  ┆ 131.408528 ┆ … ┆ null ┆ Sometimes  ┆ Public_Transpor ┆ Obesity_Type_I │\n",
              "│        ┆      ┆          ┆            ┆   ┆      ┆            ┆ tation          ┆ II             │\n",
              "│ Female ┆ null ┆ 1.748584 ┆ 133.742943 ┆ … ┆ null ┆ Sometimes  ┆ Public_Transpor ┆ Obesity_Type_I │\n",
              "│        ┆      ┆          ┆            ┆   ┆      ┆            ┆ tation          ┆ II             │\n",
              "│ Female ┆ null ┆ 1.752206 ┆ 133.689352 ┆ … ┆ null ┆ Sometimes  ┆ Public_Transpor ┆ Obesity_Type_I │\n",
              "│        ┆      ┆          ┆            ┆   ┆      ┆            ┆ tation          ┆ II             │\n",
              "│ Female ┆ null ┆ 1.73945  ┆ 133.346641 ┆ … ┆ null ┆ Sometimes  ┆ Public_Transpor ┆ Obesity_Type_I │\n",
              "│        ┆      ┆          ┆            ┆   ┆      ┆            ┆ tation          ┆ II             │\n",
              "│ Female ┆ null ┆ 1.738836 ┆ 133.472641 ┆ … ┆ null ┆ Sometimes  ┆ Public_Transpor ┆ Obesity_Type_I │\n",
              "│        ┆      ┆          ┆            ┆   ┆      ┆            ┆ tation          ┆ II             │\n",
              "└────────┴──────┴──────────┴────────────┴───┴──────┴────────────┴─────────────────┴────────────────┘"
            ],
            "text/html": [
              "<div><style>\n",
              ".dataframe > thead > tr,\n",
              ".dataframe > tbody > tr {\n",
              "  text-align: right;\n",
              "  white-space: pre-wrap;\n",
              "}\n",
              "</style>\n",
              "<small>shape: (2_111, 17)</small><table border=\"1\" class=\"dataframe\"><thead><tr><th>Gender</th><th>Age</th><th>Height</th><th>Weight</th><th>family_history_with_overweight</th><th>FAVC</th><th>FCVC</th><th>NCP</th><th>CAEC</th><th>SMOKE</th><th>CH2O</th><th>SCC</th><th>FAF</th><th>TUE</th><th>CALC</th><th>MTRANS</th><th>NObeyesdad</th></tr><tr><td>str</td><td>i64</td><td>f64</td><td>f64</td><td>str</td><td>str</td><td>i64</td><td>i64</td><td>str</td><td>str</td><td>i64</td><td>str</td><td>i64</td><td>i64</td><td>str</td><td>str</td><td>str</td></tr></thead><tbody><tr><td>&quot;Female&quot;</td><td>21</td><td>1.62</td><td>64.0</td><td>&quot;yes&quot;</td><td>&quot;no&quot;</td><td>2</td><td>3</td><td>&quot;Sometimes&quot;</td><td>&quot;no&quot;</td><td>2</td><td>&quot;no&quot;</td><td>0</td><td>1</td><td>&quot;no&quot;</td><td>&quot;Public_Transportation&quot;</td><td>&quot;Normal_Weight&quot;</td></tr><tr><td>&quot;Female&quot;</td><td>21</td><td>1.52</td><td>56.0</td><td>&quot;yes&quot;</td><td>&quot;no&quot;</td><td>3</td><td>3</td><td>&quot;Sometimes&quot;</td><td>&quot;yes&quot;</td><td>3</td><td>&quot;yes&quot;</td><td>3</td><td>0</td><td>&quot;Sometimes&quot;</td><td>&quot;Public_Transportation&quot;</td><td>&quot;Normal_Weight&quot;</td></tr><tr><td>&quot;Male&quot;</td><td>23</td><td>1.8</td><td>77.0</td><td>&quot;yes&quot;</td><td>&quot;no&quot;</td><td>2</td><td>3</td><td>&quot;Sometimes&quot;</td><td>&quot;no&quot;</td><td>2</td><td>&quot;no&quot;</td><td>2</td><td>1</td><td>&quot;Frequently&quot;</td><td>&quot;Public_Transportation&quot;</td><td>&quot;Normal_Weight&quot;</td></tr><tr><td>&quot;Male&quot;</td><td>27</td><td>1.8</td><td>87.0</td><td>&quot;no&quot;</td><td>&quot;no&quot;</td><td>3</td><td>3</td><td>&quot;Sometimes&quot;</td><td>&quot;no&quot;</td><td>2</td><td>&quot;no&quot;</td><td>2</td><td>0</td><td>&quot;Frequently&quot;</td><td>&quot;Walking&quot;</td><td>&quot;Overweight_Level_I&quot;</td></tr><tr><td>&quot;Male&quot;</td><td>22</td><td>1.78</td><td>89.8</td><td>&quot;no&quot;</td><td>&quot;no&quot;</td><td>2</td><td>1</td><td>&quot;Sometimes&quot;</td><td>&quot;no&quot;</td><td>2</td><td>&quot;no&quot;</td><td>0</td><td>0</td><td>&quot;Sometimes&quot;</td><td>&quot;Public_Transportation&quot;</td><td>&quot;Overweight_Level_II&quot;</td></tr><tr><td>&hellip;</td><td>&hellip;</td><td>&hellip;</td><td>&hellip;</td><td>&hellip;</td><td>&hellip;</td><td>&hellip;</td><td>&hellip;</td><td>&hellip;</td><td>&hellip;</td><td>&hellip;</td><td>&hellip;</td><td>&hellip;</td><td>&hellip;</td><td>&hellip;</td><td>&hellip;</td><td>&hellip;</td></tr><tr><td>&quot;Female&quot;</td><td>null</td><td>1.71073</td><td>131.408528</td><td>&quot;yes&quot;</td><td>&quot;yes&quot;</td><td>3</td><td>3</td><td>&quot;Sometimes&quot;</td><td>&quot;no&quot;</td><td>null</td><td>&quot;no&quot;</td><td>null</td><td>null</td><td>&quot;Sometimes&quot;</td><td>&quot;Public_Transportation&quot;</td><td>&quot;Obesity_Type_III&quot;</td></tr><tr><td>&quot;Female&quot;</td><td>null</td><td>1.748584</td><td>133.742943</td><td>&quot;yes&quot;</td><td>&quot;yes&quot;</td><td>3</td><td>3</td><td>&quot;Sometimes&quot;</td><td>&quot;no&quot;</td><td>null</td><td>&quot;no&quot;</td><td>null</td><td>null</td><td>&quot;Sometimes&quot;</td><td>&quot;Public_Transportation&quot;</td><td>&quot;Obesity_Type_III&quot;</td></tr><tr><td>&quot;Female&quot;</td><td>null</td><td>1.752206</td><td>133.689352</td><td>&quot;yes&quot;</td><td>&quot;yes&quot;</td><td>3</td><td>3</td><td>&quot;Sometimes&quot;</td><td>&quot;no&quot;</td><td>null</td><td>&quot;no&quot;</td><td>null</td><td>null</td><td>&quot;Sometimes&quot;</td><td>&quot;Public_Transportation&quot;</td><td>&quot;Obesity_Type_III&quot;</td></tr><tr><td>&quot;Female&quot;</td><td>null</td><td>1.73945</td><td>133.346641</td><td>&quot;yes&quot;</td><td>&quot;yes&quot;</td><td>3</td><td>3</td><td>&quot;Sometimes&quot;</td><td>&quot;no&quot;</td><td>null</td><td>&quot;no&quot;</td><td>null</td><td>null</td><td>&quot;Sometimes&quot;</td><td>&quot;Public_Transportation&quot;</td><td>&quot;Obesity_Type_III&quot;</td></tr><tr><td>&quot;Female&quot;</td><td>null</td><td>1.738836</td><td>133.472641</td><td>&quot;yes&quot;</td><td>&quot;yes&quot;</td><td>3</td><td>3</td><td>&quot;Sometimes&quot;</td><td>&quot;no&quot;</td><td>null</td><td>&quot;no&quot;</td><td>null</td><td>null</td><td>&quot;Sometimes&quot;</td><td>&quot;Public_Transportation&quot;</td><td>&quot;Obesity_Type_III&quot;</td></tr></tbody></table></div>"
            ]
          },
          "metadata": {},
          "execution_count": 4
        }
      ]
    },
    {
      "cell_type": "markdown",
      "source": [
        "### Data overview"
      ],
      "metadata": {
        "id": "qcBJ8JcP6Nkt"
      }
    },
    {
      "cell_type": "code",
      "source": [
        "data.tail()"
      ],
      "metadata": {
        "colab": {
          "base_uri": "https://localhost:8080/",
          "height": 272
        },
        "id": "Y9sZuQFc0qUo",
        "outputId": "493cdc87-47f1-4658-a369-834a5a45c8c2"
      },
      "execution_count": 5,
      "outputs": [
        {
          "output_type": "execute_result",
          "data": {
            "text/plain": [
              "shape: (5, 17)\n",
              "┌────────┬──────┬──────────┬────────────┬───┬──────┬───────────┬─────────────────┬─────────────────┐\n",
              "│ Gender ┆ Age  ┆ Height   ┆ Weight     ┆ … ┆ TUE  ┆ CALC      ┆ MTRANS          ┆ NObeyesdad      │\n",
              "│ ---    ┆ ---  ┆ ---      ┆ ---        ┆   ┆ ---  ┆ ---       ┆ ---             ┆ ---             │\n",
              "│ str    ┆ i64  ┆ f64      ┆ f64        ┆   ┆ i64  ┆ str       ┆ str             ┆ str             │\n",
              "╞════════╪══════╪══════════╪════════════╪═══╪══════╪═══════════╪═════════════════╪═════════════════╡\n",
              "│ Female ┆ null ┆ 1.71073  ┆ 131.408528 ┆ … ┆ null ┆ Sometimes ┆ Public_Transpor ┆ Obesity_Type_II │\n",
              "│        ┆      ┆          ┆            ┆   ┆      ┆           ┆ tation          ┆ I               │\n",
              "│ Female ┆ null ┆ 1.748584 ┆ 133.742943 ┆ … ┆ null ┆ Sometimes ┆ Public_Transpor ┆ Obesity_Type_II │\n",
              "│        ┆      ┆          ┆            ┆   ┆      ┆           ┆ tation          ┆ I               │\n",
              "│ Female ┆ null ┆ 1.752206 ┆ 133.689352 ┆ … ┆ null ┆ Sometimes ┆ Public_Transpor ┆ Obesity_Type_II │\n",
              "│        ┆      ┆          ┆            ┆   ┆      ┆           ┆ tation          ┆ I               │\n",
              "│ Female ┆ null ┆ 1.73945  ┆ 133.346641 ┆ … ┆ null ┆ Sometimes ┆ Public_Transpor ┆ Obesity_Type_II │\n",
              "│        ┆      ┆          ┆            ┆   ┆      ┆           ┆ tation          ┆ I               │\n",
              "│ Female ┆ null ┆ 1.738836 ┆ 133.472641 ┆ … ┆ null ┆ Sometimes ┆ Public_Transpor ┆ Obesity_Type_II │\n",
              "│        ┆      ┆          ┆            ┆   ┆      ┆           ┆ tation          ┆ I               │\n",
              "└────────┴──────┴──────────┴────────────┴───┴──────┴───────────┴─────────────────┴─────────────────┘"
            ],
            "text/html": [
              "<div><style>\n",
              ".dataframe > thead > tr,\n",
              ".dataframe > tbody > tr {\n",
              "  text-align: right;\n",
              "  white-space: pre-wrap;\n",
              "}\n",
              "</style>\n",
              "<small>shape: (5, 17)</small><table border=\"1\" class=\"dataframe\"><thead><tr><th>Gender</th><th>Age</th><th>Height</th><th>Weight</th><th>family_history_with_overweight</th><th>FAVC</th><th>FCVC</th><th>NCP</th><th>CAEC</th><th>SMOKE</th><th>CH2O</th><th>SCC</th><th>FAF</th><th>TUE</th><th>CALC</th><th>MTRANS</th><th>NObeyesdad</th></tr><tr><td>str</td><td>i64</td><td>f64</td><td>f64</td><td>str</td><td>str</td><td>i64</td><td>i64</td><td>str</td><td>str</td><td>i64</td><td>str</td><td>i64</td><td>i64</td><td>str</td><td>str</td><td>str</td></tr></thead><tbody><tr><td>&quot;Female&quot;</td><td>null</td><td>1.71073</td><td>131.408528</td><td>&quot;yes&quot;</td><td>&quot;yes&quot;</td><td>3</td><td>3</td><td>&quot;Sometimes&quot;</td><td>&quot;no&quot;</td><td>null</td><td>&quot;no&quot;</td><td>null</td><td>null</td><td>&quot;Sometimes&quot;</td><td>&quot;Public_Transportation&quot;</td><td>&quot;Obesity_Type_III&quot;</td></tr><tr><td>&quot;Female&quot;</td><td>null</td><td>1.748584</td><td>133.742943</td><td>&quot;yes&quot;</td><td>&quot;yes&quot;</td><td>3</td><td>3</td><td>&quot;Sometimes&quot;</td><td>&quot;no&quot;</td><td>null</td><td>&quot;no&quot;</td><td>null</td><td>null</td><td>&quot;Sometimes&quot;</td><td>&quot;Public_Transportation&quot;</td><td>&quot;Obesity_Type_III&quot;</td></tr><tr><td>&quot;Female&quot;</td><td>null</td><td>1.752206</td><td>133.689352</td><td>&quot;yes&quot;</td><td>&quot;yes&quot;</td><td>3</td><td>3</td><td>&quot;Sometimes&quot;</td><td>&quot;no&quot;</td><td>null</td><td>&quot;no&quot;</td><td>null</td><td>null</td><td>&quot;Sometimes&quot;</td><td>&quot;Public_Transportation&quot;</td><td>&quot;Obesity_Type_III&quot;</td></tr><tr><td>&quot;Female&quot;</td><td>null</td><td>1.73945</td><td>133.346641</td><td>&quot;yes&quot;</td><td>&quot;yes&quot;</td><td>3</td><td>3</td><td>&quot;Sometimes&quot;</td><td>&quot;no&quot;</td><td>null</td><td>&quot;no&quot;</td><td>null</td><td>null</td><td>&quot;Sometimes&quot;</td><td>&quot;Public_Transportation&quot;</td><td>&quot;Obesity_Type_III&quot;</td></tr><tr><td>&quot;Female&quot;</td><td>null</td><td>1.738836</td><td>133.472641</td><td>&quot;yes&quot;</td><td>&quot;yes&quot;</td><td>3</td><td>3</td><td>&quot;Sometimes&quot;</td><td>&quot;no&quot;</td><td>null</td><td>&quot;no&quot;</td><td>null</td><td>null</td><td>&quot;Sometimes&quot;</td><td>&quot;Public_Transportation&quot;</td><td>&quot;Obesity_Type_III&quot;</td></tr></tbody></table></div>"
            ]
          },
          "metadata": {},
          "execution_count": 5
        }
      ]
    },
    {
      "cell_type": "code",
      "source": [
        "data.head()"
      ],
      "metadata": {
        "colab": {
          "base_uri": "https://localhost:8080/",
          "height": 272
        },
        "id": "JZQR0tht00pP",
        "outputId": "3b0dfc79-f0b0-4067-f08c-1de89d685980"
      },
      "execution_count": 6,
      "outputs": [
        {
          "output_type": "execute_result",
          "data": {
            "text/plain": [
              "shape: (5, 17)\n",
              "┌────────┬─────┬────────┬────────┬───┬─────┬────────────┬─────────────────────┬────────────────────┐\n",
              "│ Gender ┆ Age ┆ Height ┆ Weight ┆ … ┆ TUE ┆ CALC       ┆ MTRANS              ┆ NObeyesdad         │\n",
              "│ ---    ┆ --- ┆ ---    ┆ ---    ┆   ┆ --- ┆ ---        ┆ ---                 ┆ ---                │\n",
              "│ str    ┆ i64 ┆ f64    ┆ f64    ┆   ┆ i64 ┆ str        ┆ str                 ┆ str                │\n",
              "╞════════╪═════╪════════╪════════╪═══╪═════╪════════════╪═════════════════════╪════════════════════╡\n",
              "│ Female ┆ 21  ┆ 1.62   ┆ 64.0   ┆ … ┆ 1   ┆ no         ┆ Public_Transportati ┆ Normal_Weight      │\n",
              "│        ┆     ┆        ┆        ┆   ┆     ┆            ┆ on                  ┆                    │\n",
              "│ Female ┆ 21  ┆ 1.52   ┆ 56.0   ┆ … ┆ 0   ┆ Sometimes  ┆ Public_Transportati ┆ Normal_Weight      │\n",
              "│        ┆     ┆        ┆        ┆   ┆     ┆            ┆ on                  ┆                    │\n",
              "│ Male   ┆ 23  ┆ 1.8    ┆ 77.0   ┆ … ┆ 1   ┆ Frequently ┆ Public_Transportati ┆ Normal_Weight      │\n",
              "│        ┆     ┆        ┆        ┆   ┆     ┆            ┆ on                  ┆                    │\n",
              "│ Male   ┆ 27  ┆ 1.8    ┆ 87.0   ┆ … ┆ 0   ┆ Frequently ┆ Walking             ┆ Overweight_Level_I │\n",
              "│ Male   ┆ 22  ┆ 1.78   ┆ 89.8   ┆ … ┆ 0   ┆ Sometimes  ┆ Public_Transportati ┆ Overweight_Level_I │\n",
              "│        ┆     ┆        ┆        ┆   ┆     ┆            ┆ on                  ┆ I                  │\n",
              "└────────┴─────┴────────┴────────┴───┴─────┴────────────┴─────────────────────┴────────────────────┘"
            ],
            "text/html": [
              "<div><style>\n",
              ".dataframe > thead > tr,\n",
              ".dataframe > tbody > tr {\n",
              "  text-align: right;\n",
              "  white-space: pre-wrap;\n",
              "}\n",
              "</style>\n",
              "<small>shape: (5, 17)</small><table border=\"1\" class=\"dataframe\"><thead><tr><th>Gender</th><th>Age</th><th>Height</th><th>Weight</th><th>family_history_with_overweight</th><th>FAVC</th><th>FCVC</th><th>NCP</th><th>CAEC</th><th>SMOKE</th><th>CH2O</th><th>SCC</th><th>FAF</th><th>TUE</th><th>CALC</th><th>MTRANS</th><th>NObeyesdad</th></tr><tr><td>str</td><td>i64</td><td>f64</td><td>f64</td><td>str</td><td>str</td><td>i64</td><td>i64</td><td>str</td><td>str</td><td>i64</td><td>str</td><td>i64</td><td>i64</td><td>str</td><td>str</td><td>str</td></tr></thead><tbody><tr><td>&quot;Female&quot;</td><td>21</td><td>1.62</td><td>64.0</td><td>&quot;yes&quot;</td><td>&quot;no&quot;</td><td>2</td><td>3</td><td>&quot;Sometimes&quot;</td><td>&quot;no&quot;</td><td>2</td><td>&quot;no&quot;</td><td>0</td><td>1</td><td>&quot;no&quot;</td><td>&quot;Public_Transportation&quot;</td><td>&quot;Normal_Weight&quot;</td></tr><tr><td>&quot;Female&quot;</td><td>21</td><td>1.52</td><td>56.0</td><td>&quot;yes&quot;</td><td>&quot;no&quot;</td><td>3</td><td>3</td><td>&quot;Sometimes&quot;</td><td>&quot;yes&quot;</td><td>3</td><td>&quot;yes&quot;</td><td>3</td><td>0</td><td>&quot;Sometimes&quot;</td><td>&quot;Public_Transportation&quot;</td><td>&quot;Normal_Weight&quot;</td></tr><tr><td>&quot;Male&quot;</td><td>23</td><td>1.8</td><td>77.0</td><td>&quot;yes&quot;</td><td>&quot;no&quot;</td><td>2</td><td>3</td><td>&quot;Sometimes&quot;</td><td>&quot;no&quot;</td><td>2</td><td>&quot;no&quot;</td><td>2</td><td>1</td><td>&quot;Frequently&quot;</td><td>&quot;Public_Transportation&quot;</td><td>&quot;Normal_Weight&quot;</td></tr><tr><td>&quot;Male&quot;</td><td>27</td><td>1.8</td><td>87.0</td><td>&quot;no&quot;</td><td>&quot;no&quot;</td><td>3</td><td>3</td><td>&quot;Sometimes&quot;</td><td>&quot;no&quot;</td><td>2</td><td>&quot;no&quot;</td><td>2</td><td>0</td><td>&quot;Frequently&quot;</td><td>&quot;Walking&quot;</td><td>&quot;Overweight_Level_I&quot;</td></tr><tr><td>&quot;Male&quot;</td><td>22</td><td>1.78</td><td>89.8</td><td>&quot;no&quot;</td><td>&quot;no&quot;</td><td>2</td><td>1</td><td>&quot;Sometimes&quot;</td><td>&quot;no&quot;</td><td>2</td><td>&quot;no&quot;</td><td>0</td><td>0</td><td>&quot;Sometimes&quot;</td><td>&quot;Public_Transportation&quot;</td><td>&quot;Overweight_Level_II&quot;</td></tr></tbody></table></div>"
            ]
          },
          "metadata": {},
          "execution_count": 6
        }
      ]
    },
    {
      "cell_type": "code",
      "source": [
        "data.glimpse()"
      ],
      "metadata": {
        "colab": {
          "base_uri": "https://localhost:8080/"
        },
        "id": "dYk3V1Yv04jh",
        "outputId": "5cb5e4d5-93c0-49e6-c1ad-a9fbc44c2d88"
      },
      "execution_count": 7,
      "outputs": [
        {
          "output_type": "stream",
          "name": "stdout",
          "text": [
            "Rows: 2111\n",
            "Columns: 17\n",
            "$ Gender                         <str> 'Female', 'Female', 'Male', 'Male', 'Male', 'Male', 'Female', 'Male', 'Male', 'Male'\n",
            "$ Age                            <i64> 21, 21, 23, 27, 22, 29, 23, 22, 24, 22\n",
            "$ Height                         <f64> 1.62, 1.52, 1.8, 1.8, 1.78, 1.62, 1.5, 1.64, 1.78, 1.72\n",
            "$ Weight                         <f64> 64.0, 56.0, 77.0, 87.0, 89.8, 53.0, 55.0, 53.0, 64.0, 68.0\n",
            "$ family_history_with_overweight <str> 'yes', 'yes', 'yes', 'no', 'no', 'no', 'yes', 'no', 'yes', 'yes'\n",
            "$ FAVC                           <str> 'no', 'no', 'no', 'no', 'no', 'yes', 'yes', 'no', 'yes', 'yes'\n",
            "$ FCVC                           <i64> 2, 3, 2, 3, 2, 2, 3, 2, 3, 2\n",
            "$ NCP                            <i64> 3, 3, 3, 3, 1, 3, 3, 3, 3, 3\n",
            "$ CAEC                           <str> 'Sometimes', 'Sometimes', 'Sometimes', 'Sometimes', 'Sometimes', 'Sometimes', 'Sometimes', 'Sometimes', 'Sometimes', 'Sometimes'\n",
            "$ SMOKE                          <str> 'no', 'yes', 'no', 'no', 'no', 'no', 'no', 'no', 'no', 'no'\n",
            "$ CH2O                           <i64> 2, 3, 2, 2, 2, 2, 2, 2, 2, 2\n",
            "$ SCC                            <str> 'no', 'yes', 'no', 'no', 'no', 'no', 'no', 'no', 'no', 'no'\n",
            "$ FAF                            <i64> 0, 3, 2, 2, 0, 0, 1, 3, 1, 1\n",
            "$ TUE                            <i64> 1, 0, 1, 0, 0, 0, 0, 0, 1, 1\n",
            "$ CALC                           <str> 'no', 'Sometimes', 'Frequently', 'Frequently', 'Sometimes', 'Sometimes', 'Sometimes', 'Sometimes', 'Frequently', 'no'\n",
            "$ MTRANS                         <str> 'Public_Transportation', 'Public_Transportation', 'Public_Transportation', 'Walking', 'Public_Transportation', 'Automobile', 'Motorbike', 'Public_Transportation', 'Public_Transportation', 'Public_Transportation'\n",
            "$ NObeyesdad                     <str> 'Normal_Weight', 'Normal_Weight', 'Normal_Weight', 'Overweight_Level_I', 'Overweight_Level_II', 'Normal_Weight', 'Normal_Weight', 'Normal_Weight', 'Normal_Weight', 'Normal_Weight'\n",
            "\n"
          ]
        }
      ]
    },
    {
      "cell_type": "code",
      "source": [
        "data.schema"
      ],
      "metadata": {
        "colab": {
          "base_uri": "https://localhost:8080/"
        },
        "id": "tp4E4_Qc08fE",
        "outputId": "6a3040cb-578e-4a78-8b2c-9df592031279"
      },
      "execution_count": 8,
      "outputs": [
        {
          "output_type": "execute_result",
          "data": {
            "text/plain": [
              "Schema([('Gender', String),\n",
              "        ('Age', Int64),\n",
              "        ('Height', Float64),\n",
              "        ('Weight', Float64),\n",
              "        ('family_history_with_overweight', String),\n",
              "        ('FAVC', String),\n",
              "        ('FCVC', Int64),\n",
              "        ('NCP', Int64),\n",
              "        ('CAEC', String),\n",
              "        ('SMOKE', String),\n",
              "        ('CH2O', Int64),\n",
              "        ('SCC', String),\n",
              "        ('FAF', Int64),\n",
              "        ('TUE', Int64),\n",
              "        ('CALC', String),\n",
              "        ('MTRANS', String),\n",
              "        ('NObeyesdad', String)])"
            ]
          },
          "metadata": {},
          "execution_count": 8
        }
      ]
    },
    {
      "cell_type": "code",
      "source": [
        "data.columns"
      ],
      "metadata": {
        "colab": {
          "base_uri": "https://localhost:8080/"
        },
        "id": "H8NjMnOT1GIk",
        "outputId": "1b576468-d189-4861-ddf4-e23629a0cf08"
      },
      "execution_count": 9,
      "outputs": [
        {
          "output_type": "execute_result",
          "data": {
            "text/plain": [
              "['Gender',\n",
              " 'Age',\n",
              " 'Height',\n",
              " 'Weight',\n",
              " 'family_history_with_overweight',\n",
              " 'FAVC',\n",
              " 'FCVC',\n",
              " 'NCP',\n",
              " 'CAEC',\n",
              " 'SMOKE',\n",
              " 'CH2O',\n",
              " 'SCC',\n",
              " 'FAF',\n",
              " 'TUE',\n",
              " 'CALC',\n",
              " 'MTRANS',\n",
              " 'NObeyesdad']"
            ]
          },
          "metadata": {},
          "execution_count": 9
        }
      ]
    },
    {
      "cell_type": "markdown",
      "source": [
        "### Some info extraction"
      ],
      "metadata": {
        "id": "7q0OxIHc6VqY"
      }
    },
    {
      "cell_type": "code",
      "source": [
        "data[0] # first row"
      ],
      "metadata": {
        "colab": {
          "base_uri": "https://localhost:8080/",
          "height": 148
        },
        "id": "UxS2U0Gb1NlG",
        "outputId": "0efb72b9-3242-421a-a395-59bfc4eea0a0"
      },
      "execution_count": 10,
      "outputs": [
        {
          "output_type": "execute_result",
          "data": {
            "text/plain": [
              "shape: (1, 17)\n",
              "┌────────┬─────┬────────┬────────┬───┬─────┬──────┬───────────────────────┬───────────────┐\n",
              "│ Gender ┆ Age ┆ Height ┆ Weight ┆ … ┆ TUE ┆ CALC ┆ MTRANS                ┆ NObeyesdad    │\n",
              "│ ---    ┆ --- ┆ ---    ┆ ---    ┆   ┆ --- ┆ ---  ┆ ---                   ┆ ---           │\n",
              "│ str    ┆ i64 ┆ f64    ┆ f64    ┆   ┆ i64 ┆ str  ┆ str                   ┆ str           │\n",
              "╞════════╪═════╪════════╪════════╪═══╪═════╪══════╪═══════════════════════╪═══════════════╡\n",
              "│ Female ┆ 21  ┆ 1.62   ┆ 64.0   ┆ … ┆ 1   ┆ no   ┆ Public_Transportation ┆ Normal_Weight │\n",
              "└────────┴─────┴────────┴────────┴───┴─────┴──────┴───────────────────────┴───────────────┘"
            ],
            "text/html": [
              "<div><style>\n",
              ".dataframe > thead > tr,\n",
              ".dataframe > tbody > tr {\n",
              "  text-align: right;\n",
              "  white-space: pre-wrap;\n",
              "}\n",
              "</style>\n",
              "<small>shape: (1, 17)</small><table border=\"1\" class=\"dataframe\"><thead><tr><th>Gender</th><th>Age</th><th>Height</th><th>Weight</th><th>family_history_with_overweight</th><th>FAVC</th><th>FCVC</th><th>NCP</th><th>CAEC</th><th>SMOKE</th><th>CH2O</th><th>SCC</th><th>FAF</th><th>TUE</th><th>CALC</th><th>MTRANS</th><th>NObeyesdad</th></tr><tr><td>str</td><td>i64</td><td>f64</td><td>f64</td><td>str</td><td>str</td><td>i64</td><td>i64</td><td>str</td><td>str</td><td>i64</td><td>str</td><td>i64</td><td>i64</td><td>str</td><td>str</td><td>str</td></tr></thead><tbody><tr><td>&quot;Female&quot;</td><td>21</td><td>1.62</td><td>64.0</td><td>&quot;yes&quot;</td><td>&quot;no&quot;</td><td>2</td><td>3</td><td>&quot;Sometimes&quot;</td><td>&quot;no&quot;</td><td>2</td><td>&quot;no&quot;</td><td>0</td><td>1</td><td>&quot;no&quot;</td><td>&quot;Public_Transportation&quot;</td><td>&quot;Normal_Weight&quot;</td></tr></tbody></table></div>"
            ]
          },
          "metadata": {},
          "execution_count": 10
        }
      ]
    },
    {
      "cell_type": "code",
      "source": [
        "data[-1] # last row"
      ],
      "metadata": {
        "colab": {
          "base_uri": "https://localhost:8080/",
          "height": 148
        },
        "id": "bdm0MLeS1SLm",
        "outputId": "567d167b-b700-4d03-8543-6b56d81ee59f"
      },
      "execution_count": 11,
      "outputs": [
        {
          "output_type": "execute_result",
          "data": {
            "text/plain": [
              "shape: (1, 17)\n",
              "┌────────┬──────┬──────────┬────────────┬───┬──────┬───────────┬─────────────────┬─────────────────┐\n",
              "│ Gender ┆ Age  ┆ Height   ┆ Weight     ┆ … ┆ TUE  ┆ CALC      ┆ MTRANS          ┆ NObeyesdad      │\n",
              "│ ---    ┆ ---  ┆ ---      ┆ ---        ┆   ┆ ---  ┆ ---       ┆ ---             ┆ ---             │\n",
              "│ str    ┆ i64  ┆ f64      ┆ f64        ┆   ┆ i64  ┆ str       ┆ str             ┆ str             │\n",
              "╞════════╪══════╪══════════╪════════════╪═══╪══════╪═══════════╪═════════════════╪═════════════════╡\n",
              "│ Female ┆ null ┆ 1.738836 ┆ 133.472641 ┆ … ┆ null ┆ Sometimes ┆ Public_Transpor ┆ Obesity_Type_II │\n",
              "│        ┆      ┆          ┆            ┆   ┆      ┆           ┆ tation          ┆ I               │\n",
              "└────────┴──────┴──────────┴────────────┴───┴──────┴───────────┴─────────────────┴─────────────────┘"
            ],
            "text/html": [
              "<div><style>\n",
              ".dataframe > thead > tr,\n",
              ".dataframe > tbody > tr {\n",
              "  text-align: right;\n",
              "  white-space: pre-wrap;\n",
              "}\n",
              "</style>\n",
              "<small>shape: (1, 17)</small><table border=\"1\" class=\"dataframe\"><thead><tr><th>Gender</th><th>Age</th><th>Height</th><th>Weight</th><th>family_history_with_overweight</th><th>FAVC</th><th>FCVC</th><th>NCP</th><th>CAEC</th><th>SMOKE</th><th>CH2O</th><th>SCC</th><th>FAF</th><th>TUE</th><th>CALC</th><th>MTRANS</th><th>NObeyesdad</th></tr><tr><td>str</td><td>i64</td><td>f64</td><td>f64</td><td>str</td><td>str</td><td>i64</td><td>i64</td><td>str</td><td>str</td><td>i64</td><td>str</td><td>i64</td><td>i64</td><td>str</td><td>str</td><td>str</td></tr></thead><tbody><tr><td>&quot;Female&quot;</td><td>null</td><td>1.738836</td><td>133.472641</td><td>&quot;yes&quot;</td><td>&quot;yes&quot;</td><td>3</td><td>3</td><td>&quot;Sometimes&quot;</td><td>&quot;no&quot;</td><td>null</td><td>&quot;no&quot;</td><td>null</td><td>null</td><td>&quot;Sometimes&quot;</td><td>&quot;Public_Transportation&quot;</td><td>&quot;Obesity_Type_III&quot;</td></tr></tbody></table></div>"
            ]
          },
          "metadata": {},
          "execution_count": 11
        }
      ]
    },
    {
      "cell_type": "code",
      "source": [
        "data[1:3]"
      ],
      "metadata": {
        "colab": {
          "base_uri": "https://localhost:8080/",
          "height": 179
        },
        "id": "xonJj5yZ1VAH",
        "outputId": "71391783-98e0-4874-d406-1672f662231d"
      },
      "execution_count": 12,
      "outputs": [
        {
          "output_type": "execute_result",
          "data": {
            "text/plain": [
              "shape: (2, 17)\n",
              "┌────────┬─────┬────────┬────────┬───┬─────┬────────────┬───────────────────────┬───────────────┐\n",
              "│ Gender ┆ Age ┆ Height ┆ Weight ┆ … ┆ TUE ┆ CALC       ┆ MTRANS                ┆ NObeyesdad    │\n",
              "│ ---    ┆ --- ┆ ---    ┆ ---    ┆   ┆ --- ┆ ---        ┆ ---                   ┆ ---           │\n",
              "│ str    ┆ i64 ┆ f64    ┆ f64    ┆   ┆ i64 ┆ str        ┆ str                   ┆ str           │\n",
              "╞════════╪═════╪════════╪════════╪═══╪═════╪════════════╪═══════════════════════╪═══════════════╡\n",
              "│ Female ┆ 21  ┆ 1.52   ┆ 56.0   ┆ … ┆ 0   ┆ Sometimes  ┆ Public_Transportation ┆ Normal_Weight │\n",
              "│ Male   ┆ 23  ┆ 1.8    ┆ 77.0   ┆ … ┆ 1   ┆ Frequently ┆ Public_Transportation ┆ Normal_Weight │\n",
              "└────────┴─────┴────────┴────────┴───┴─────┴────────────┴───────────────────────┴───────────────┘"
            ],
            "text/html": [
              "<div><style>\n",
              ".dataframe > thead > tr,\n",
              ".dataframe > tbody > tr {\n",
              "  text-align: right;\n",
              "  white-space: pre-wrap;\n",
              "}\n",
              "</style>\n",
              "<small>shape: (2, 17)</small><table border=\"1\" class=\"dataframe\"><thead><tr><th>Gender</th><th>Age</th><th>Height</th><th>Weight</th><th>family_history_with_overweight</th><th>FAVC</th><th>FCVC</th><th>NCP</th><th>CAEC</th><th>SMOKE</th><th>CH2O</th><th>SCC</th><th>FAF</th><th>TUE</th><th>CALC</th><th>MTRANS</th><th>NObeyesdad</th></tr><tr><td>str</td><td>i64</td><td>f64</td><td>f64</td><td>str</td><td>str</td><td>i64</td><td>i64</td><td>str</td><td>str</td><td>i64</td><td>str</td><td>i64</td><td>i64</td><td>str</td><td>str</td><td>str</td></tr></thead><tbody><tr><td>&quot;Female&quot;</td><td>21</td><td>1.52</td><td>56.0</td><td>&quot;yes&quot;</td><td>&quot;no&quot;</td><td>3</td><td>3</td><td>&quot;Sometimes&quot;</td><td>&quot;yes&quot;</td><td>3</td><td>&quot;yes&quot;</td><td>3</td><td>0</td><td>&quot;Sometimes&quot;</td><td>&quot;Public_Transportation&quot;</td><td>&quot;Normal_Weight&quot;</td></tr><tr><td>&quot;Male&quot;</td><td>23</td><td>1.8</td><td>77.0</td><td>&quot;yes&quot;</td><td>&quot;no&quot;</td><td>2</td><td>3</td><td>&quot;Sometimes&quot;</td><td>&quot;no&quot;</td><td>2</td><td>&quot;no&quot;</td><td>2</td><td>1</td><td>&quot;Frequently&quot;</td><td>&quot;Public_Transportation&quot;</td><td>&quot;Normal_Weight&quot;</td></tr></tbody></table></div>"
            ]
          },
          "metadata": {},
          "execution_count": 12
        }
      ]
    },
    {
      "cell_type": "code",
      "source": [
        "data['Age'] # column extraction"
      ],
      "metadata": {
        "colab": {
          "base_uri": "https://localhost:8080/",
          "height": 438
        },
        "id": "wNGmJtUb1aDu",
        "outputId": "83d3a60d-7d42-4daf-ec99-9def1d10f0cc"
      },
      "execution_count": 13,
      "outputs": [
        {
          "output_type": "execute_result",
          "data": {
            "text/plain": [
              "shape: (2_111,)\n",
              "Series: 'Age' [i64]\n",
              "[\n",
              "\t21\n",
              "\t21\n",
              "\t23\n",
              "\t27\n",
              "\t22\n",
              "\t…\n",
              "\tnull\n",
              "\tnull\n",
              "\tnull\n",
              "\tnull\n",
              "\tnull\n",
              "]"
            ],
            "text/html": [
              "<div><style>\n",
              ".dataframe > thead > tr,\n",
              ".dataframe > tbody > tr {\n",
              "  text-align: right;\n",
              "  white-space: pre-wrap;\n",
              "}\n",
              "</style>\n",
              "<small>shape: (2_111,)</small><table border=\"1\" class=\"dataframe\"><thead><tr><th>Age</th></tr><tr><td>i64</td></tr></thead><tbody><tr><td>21</td></tr><tr><td>21</td></tr><tr><td>23</td></tr><tr><td>27</td></tr><tr><td>22</td></tr><tr><td>&hellip;</td></tr><tr><td>null</td></tr><tr><td>null</td></tr><tr><td>null</td></tr><tr><td>null</td></tr><tr><td>null</td></tr></tbody></table></div>"
            ]
          },
          "metadata": {},
          "execution_count": 13
        }
      ]
    },
    {
      "cell_type": "code",
      "source": [
        "data['Age', 'Weight']"
      ],
      "metadata": {
        "colab": {
          "base_uri": "https://localhost:8080/",
          "height": 438
        },
        "id": "PEJTaOel1hAy",
        "outputId": "7f45ded6-35c6-4142-fd8e-67db0acbf9cb"
      },
      "execution_count": 14,
      "outputs": [
        {
          "output_type": "execute_result",
          "data": {
            "text/plain": [
              "shape: (2_111, 2)\n",
              "┌──────┬────────────┐\n",
              "│ Age  ┆ Weight     │\n",
              "│ ---  ┆ ---        │\n",
              "│ i64  ┆ f64        │\n",
              "╞══════╪════════════╡\n",
              "│ 21   ┆ 64.0       │\n",
              "│ 21   ┆ 56.0       │\n",
              "│ 23   ┆ 77.0       │\n",
              "│ 27   ┆ 87.0       │\n",
              "│ 22   ┆ 89.8       │\n",
              "│ …    ┆ …          │\n",
              "│ null ┆ 131.408528 │\n",
              "│ null ┆ 133.742943 │\n",
              "│ null ┆ 133.689352 │\n",
              "│ null ┆ 133.346641 │\n",
              "│ null ┆ 133.472641 │\n",
              "└──────┴────────────┘"
            ],
            "text/html": [
              "<div><style>\n",
              ".dataframe > thead > tr,\n",
              ".dataframe > tbody > tr {\n",
              "  text-align: right;\n",
              "  white-space: pre-wrap;\n",
              "}\n",
              "</style>\n",
              "<small>shape: (2_111, 2)</small><table border=\"1\" class=\"dataframe\"><thead><tr><th>Age</th><th>Weight</th></tr><tr><td>i64</td><td>f64</td></tr></thead><tbody><tr><td>21</td><td>64.0</td></tr><tr><td>21</td><td>56.0</td></tr><tr><td>23</td><td>77.0</td></tr><tr><td>27</td><td>87.0</td></tr><tr><td>22</td><td>89.8</td></tr><tr><td>&hellip;</td><td>&hellip;</td></tr><tr><td>null</td><td>131.408528</td></tr><tr><td>null</td><td>133.742943</td></tr><tr><td>null</td><td>133.689352</td></tr><tr><td>null</td><td>133.346641</td></tr><tr><td>null</td><td>133.472641</td></tr></tbody></table></div>"
            ]
          },
          "metadata": {},
          "execution_count": 14
        }
      ]
    },
    {
      "cell_type": "code",
      "source": [
        "data[:3, ['Gender', 'SMOKE']]"
      ],
      "metadata": {
        "colab": {
          "base_uri": "https://localhost:8080/",
          "height": 190
        },
        "id": "wfOeTCGw1pVH",
        "outputId": "2c1176d6-3ecc-4e7b-c9e0-8ebdf2d6eb9a"
      },
      "execution_count": 15,
      "outputs": [
        {
          "output_type": "execute_result",
          "data": {
            "text/plain": [
              "shape: (3, 2)\n",
              "┌────────┬───────┐\n",
              "│ Gender ┆ SMOKE │\n",
              "│ ---    ┆ ---   │\n",
              "│ str    ┆ str   │\n",
              "╞════════╪═══════╡\n",
              "│ Female ┆ no    │\n",
              "│ Female ┆ yes   │\n",
              "│ Male   ┆ no    │\n",
              "└────────┴───────┘"
            ],
            "text/html": [
              "<div><style>\n",
              ".dataframe > thead > tr,\n",
              ".dataframe > tbody > tr {\n",
              "  text-align: right;\n",
              "  white-space: pre-wrap;\n",
              "}\n",
              "</style>\n",
              "<small>shape: (3, 2)</small><table border=\"1\" class=\"dataframe\"><thead><tr><th>Gender</th><th>SMOKE</th></tr><tr><td>str</td><td>str</td></tr></thead><tbody><tr><td>&quot;Female&quot;</td><td>&quot;no&quot;</td></tr><tr><td>&quot;Female&quot;</td><td>&quot;yes&quot;</td></tr><tr><td>&quot;Male&quot;</td><td>&quot;no&quot;</td></tr></tbody></table></div>"
            ]
          },
          "metadata": {},
          "execution_count": 15
        }
      ]
    },
    {
      "cell_type": "code",
      "source": [
        "data.select('Gender', 'SMOKE')"
      ],
      "metadata": {
        "colab": {
          "base_uri": "https://localhost:8080/",
          "height": 438
        },
        "id": "qLaVvolj17Pt",
        "outputId": "d81ca20c-c61e-467f-8a5d-17f9fd94f47c"
      },
      "execution_count": 16,
      "outputs": [
        {
          "output_type": "execute_result",
          "data": {
            "text/plain": [
              "shape: (2_111, 2)\n",
              "┌────────┬───────┐\n",
              "│ Gender ┆ SMOKE │\n",
              "│ ---    ┆ ---   │\n",
              "│ str    ┆ str   │\n",
              "╞════════╪═══════╡\n",
              "│ Female ┆ no    │\n",
              "│ Female ┆ yes   │\n",
              "│ Male   ┆ no    │\n",
              "│ Male   ┆ no    │\n",
              "│ Male   ┆ no    │\n",
              "│ …      ┆ …     │\n",
              "│ Female ┆ no    │\n",
              "│ Female ┆ no    │\n",
              "│ Female ┆ no    │\n",
              "│ Female ┆ no    │\n",
              "│ Female ┆ no    │\n",
              "└────────┴───────┘"
            ],
            "text/html": [
              "<div><style>\n",
              ".dataframe > thead > tr,\n",
              ".dataframe > tbody > tr {\n",
              "  text-align: right;\n",
              "  white-space: pre-wrap;\n",
              "}\n",
              "</style>\n",
              "<small>shape: (2_111, 2)</small><table border=\"1\" class=\"dataframe\"><thead><tr><th>Gender</th><th>SMOKE</th></tr><tr><td>str</td><td>str</td></tr></thead><tbody><tr><td>&quot;Female&quot;</td><td>&quot;no&quot;</td></tr><tr><td>&quot;Female&quot;</td><td>&quot;yes&quot;</td></tr><tr><td>&quot;Male&quot;</td><td>&quot;no&quot;</td></tr><tr><td>&quot;Male&quot;</td><td>&quot;no&quot;</td></tr><tr><td>&quot;Male&quot;</td><td>&quot;no&quot;</td></tr><tr><td>&hellip;</td><td>&hellip;</td></tr><tr><td>&quot;Female&quot;</td><td>&quot;no&quot;</td></tr><tr><td>&quot;Female&quot;</td><td>&quot;no&quot;</td></tr><tr><td>&quot;Female&quot;</td><td>&quot;no&quot;</td></tr><tr><td>&quot;Female&quot;</td><td>&quot;no&quot;</td></tr><tr><td>&quot;Female&quot;</td><td>&quot;no&quot;</td></tr></tbody></table></div>"
            ]
          },
          "metadata": {},
          "execution_count": 16
        }
      ]
    },
    {
      "cell_type": "code",
      "source": [
        "# Sorting by age in descending order\n",
        "data.sort('Age', descending=True)"
      ],
      "metadata": {
        "colab": {
          "base_uri": "https://localhost:8080/",
          "height": 458
        },
        "id": "-P3lm2AJ4tf1",
        "outputId": "4da5c944-9f1a-485b-fce7-097ffae7cf50"
      },
      "execution_count": 17,
      "outputs": [
        {
          "output_type": "execute_result",
          "data": {
            "text/plain": [
              "shape: (2_111, 17)\n",
              "┌────────┬──────┬──────────┬────────────┬───┬──────┬───────────┬─────────────────┬─────────────────┐\n",
              "│ Gender ┆ Age  ┆ Height   ┆ Weight     ┆ … ┆ TUE  ┆ CALC      ┆ MTRANS          ┆ NObeyesdad      │\n",
              "│ ---    ┆ ---  ┆ ---      ┆ ---        ┆   ┆ ---  ┆ ---       ┆ ---             ┆ ---             │\n",
              "│ str    ┆ i64  ┆ f64      ┆ f64        ┆   ┆ i64  ┆ str       ┆ str             ┆ str             │\n",
              "╞════════╪══════╪══════════╪════════════╪═══╪══════╪═══════════╪═════════════════╪═════════════════╡\n",
              "│ Female ┆ null ┆ 1.686306 ┆ 104.572712 ┆ … ┆ 1    ┆ Sometimes ┆ Public_Transpor ┆ Obesity_Type_II │\n",
              "│        ┆      ┆          ┆            ┆   ┆      ┆           ┆ tation          ┆ I               │\n",
              "│ Female ┆ null ┆ 1.683124 ┆ 126.67378  ┆ … ┆ 1    ┆ Sometimes ┆ Public_Transpor ┆ Obesity_Type_II │\n",
              "│        ┆      ┆          ┆            ┆   ┆      ┆           ┆ tation          ┆ I               │\n",
              "│ Female ┆ null ┆ 1.755643 ┆ 137.796884 ┆ … ┆ null ┆ Sometimes ┆ Public_Transpor ┆ Obesity_Type_II │\n",
              "│        ┆      ┆          ┆            ┆   ┆      ┆           ┆ tation          ┆ I               │\n",
              "│ Female ┆ null ┆ 1.843419 ┆ 165.057269 ┆ … ┆ null ┆ Sometimes ┆ Public_Transpor ┆ Obesity_Type_II │\n",
              "│        ┆      ┆          ┆            ┆   ┆      ┆           ┆ tation          ┆ I               │\n",
              "│ Female ┆ null ┆ 1.7456   ┆ 133.03441  ┆ … ┆ null ┆ Sometimes ┆ Public_Transpor ┆ Obesity_Type_II │\n",
              "│        ┆      ┆          ┆            ┆   ┆      ┆           ┆ tation          ┆ I               │\n",
              "│ …      ┆ …    ┆ …        ┆ …          ┆ … ┆ …    ┆ …         ┆ …               ┆ …               │\n",
              "│ Female ┆ 16   ┆ 1.6      ┆ 57.0       ┆ … ┆ 0    ┆ no        ┆ Public_Transpor ┆ Normal_Weight   │\n",
              "│        ┆      ┆          ┆            ┆   ┆      ┆           ┆ tation          ┆                 │\n",
              "│ Female ┆ 16   ┆ 1.55     ┆ 45.0       ┆ … ┆ 1    ┆ no        ┆ Public_Transpor ┆ Normal_Weight   │\n",
              "│        ┆      ┆          ┆            ┆   ┆      ┆           ┆ tation          ┆                 │\n",
              "│ Female ┆ 16   ┆ 1.61     ┆ 65.0       ┆ … ┆ 0    ┆ no        ┆ Public_Transpor ┆ Overweight_Leve │\n",
              "│        ┆      ┆          ┆            ┆   ┆      ┆           ┆ tation          ┆ l_I             │\n",
              "│ Female ┆ 15   ┆ 1.65     ┆ 86.0       ┆ … ┆ 2    ┆ no        ┆ Walking         ┆ Obesity_Type_I  │\n",
              "│ Male   ┆ 14   ┆ 1.71     ┆ 72.0       ┆ … ┆ 1    ┆ no        ┆ Walking         ┆ Normal_Weight   │\n",
              "└────────┴──────┴──────────┴────────────┴───┴──────┴───────────┴─────────────────┴─────────────────┘"
            ],
            "text/html": [
              "<div><style>\n",
              ".dataframe > thead > tr,\n",
              ".dataframe > tbody > tr {\n",
              "  text-align: right;\n",
              "  white-space: pre-wrap;\n",
              "}\n",
              "</style>\n",
              "<small>shape: (2_111, 17)</small><table border=\"1\" class=\"dataframe\"><thead><tr><th>Gender</th><th>Age</th><th>Height</th><th>Weight</th><th>family_history_with_overweight</th><th>FAVC</th><th>FCVC</th><th>NCP</th><th>CAEC</th><th>SMOKE</th><th>CH2O</th><th>SCC</th><th>FAF</th><th>TUE</th><th>CALC</th><th>MTRANS</th><th>NObeyesdad</th></tr><tr><td>str</td><td>i64</td><td>f64</td><td>f64</td><td>str</td><td>str</td><td>i64</td><td>i64</td><td>str</td><td>str</td><td>i64</td><td>str</td><td>i64</td><td>i64</td><td>str</td><td>str</td><td>str</td></tr></thead><tbody><tr><td>&quot;Female&quot;</td><td>null</td><td>1.686306</td><td>104.572712</td><td>&quot;yes&quot;</td><td>&quot;yes&quot;</td><td>3</td><td>3</td><td>&quot;Sometimes&quot;</td><td>&quot;no&quot;</td><td>null</td><td>&quot;no&quot;</td><td>null</td><td>1</td><td>&quot;Sometimes&quot;</td><td>&quot;Public_Transportation&quot;</td><td>&quot;Obesity_Type_III&quot;</td></tr><tr><td>&quot;Female&quot;</td><td>null</td><td>1.683124</td><td>126.67378</td><td>&quot;yes&quot;</td><td>&quot;yes&quot;</td><td>3</td><td>3</td><td>&quot;Sometimes&quot;</td><td>&quot;no&quot;</td><td>null</td><td>&quot;no&quot;</td><td>null</td><td>1</td><td>&quot;Sometimes&quot;</td><td>&quot;Public_Transportation&quot;</td><td>&quot;Obesity_Type_III&quot;</td></tr><tr><td>&quot;Female&quot;</td><td>null</td><td>1.755643</td><td>137.796884</td><td>&quot;yes&quot;</td><td>&quot;yes&quot;</td><td>3</td><td>3</td><td>&quot;Sometimes&quot;</td><td>&quot;no&quot;</td><td>null</td><td>&quot;no&quot;</td><td>null</td><td>null</td><td>&quot;Sometimes&quot;</td><td>&quot;Public_Transportation&quot;</td><td>&quot;Obesity_Type_III&quot;</td></tr><tr><td>&quot;Female&quot;</td><td>null</td><td>1.843419</td><td>165.057269</td><td>&quot;yes&quot;</td><td>&quot;yes&quot;</td><td>3</td><td>3</td><td>&quot;Sometimes&quot;</td><td>&quot;no&quot;</td><td>null</td><td>&quot;no&quot;</td><td>null</td><td>null</td><td>&quot;Sometimes&quot;</td><td>&quot;Public_Transportation&quot;</td><td>&quot;Obesity_Type_III&quot;</td></tr><tr><td>&quot;Female&quot;</td><td>null</td><td>1.7456</td><td>133.03441</td><td>&quot;yes&quot;</td><td>&quot;yes&quot;</td><td>3</td><td>3</td><td>&quot;Sometimes&quot;</td><td>&quot;no&quot;</td><td>null</td><td>&quot;no&quot;</td><td>null</td><td>null</td><td>&quot;Sometimes&quot;</td><td>&quot;Public_Transportation&quot;</td><td>&quot;Obesity_Type_III&quot;</td></tr><tr><td>&hellip;</td><td>&hellip;</td><td>&hellip;</td><td>&hellip;</td><td>&hellip;</td><td>&hellip;</td><td>&hellip;</td><td>&hellip;</td><td>&hellip;</td><td>&hellip;</td><td>&hellip;</td><td>&hellip;</td><td>&hellip;</td><td>&hellip;</td><td>&hellip;</td><td>&hellip;</td><td>&hellip;</td></tr><tr><td>&quot;Female&quot;</td><td>16</td><td>1.6</td><td>57.0</td><td>&quot;no&quot;</td><td>&quot;yes&quot;</td><td>3</td><td>3</td><td>&quot;Sometimes&quot;</td><td>&quot;no&quot;</td><td>1</td><td>&quot;no&quot;</td><td>3</td><td>0</td><td>&quot;no&quot;</td><td>&quot;Public_Transportation&quot;</td><td>&quot;Normal_Weight&quot;</td></tr><tr><td>&quot;Female&quot;</td><td>16</td><td>1.55</td><td>45.0</td><td>&quot;no&quot;</td><td>&quot;yes&quot;</td><td>2</td><td>3</td><td>&quot;Frequently&quot;</td><td>&quot;no&quot;</td><td>2</td><td>&quot;no&quot;</td><td>1</td><td>1</td><td>&quot;no&quot;</td><td>&quot;Public_Transportation&quot;</td><td>&quot;Normal_Weight&quot;</td></tr><tr><td>&quot;Female&quot;</td><td>16</td><td>1.61</td><td>65.0</td><td>&quot;yes&quot;</td><td>&quot;yes&quot;</td><td>1</td><td>1</td><td>&quot;Sometimes&quot;</td><td>&quot;no&quot;</td><td>2</td><td>&quot;no&quot;</td><td>0</td><td>0</td><td>&quot;no&quot;</td><td>&quot;Public_Transportation&quot;</td><td>&quot;Overweight_Level_I&quot;</td></tr><tr><td>&quot;Female&quot;</td><td>15</td><td>1.65</td><td>86.0</td><td>&quot;yes&quot;</td><td>&quot;yes&quot;</td><td>3</td><td>3</td><td>&quot;Sometimes&quot;</td><td>&quot;no&quot;</td><td>1</td><td>&quot;no&quot;</td><td>3</td><td>2</td><td>&quot;no&quot;</td><td>&quot;Walking&quot;</td><td>&quot;Obesity_Type_I&quot;</td></tr><tr><td>&quot;Male&quot;</td><td>14</td><td>1.71</td><td>72.0</td><td>&quot;yes&quot;</td><td>&quot;yes&quot;</td><td>3</td><td>3</td><td>&quot;Sometimes&quot;</td><td>&quot;no&quot;</td><td>3</td><td>&quot;no&quot;</td><td>2</td><td>1</td><td>&quot;no&quot;</td><td>&quot;Walking&quot;</td><td>&quot;Normal_Weight&quot;</td></tr></tbody></table></div>"
            ]
          },
          "metadata": {},
          "execution_count": 17
        }
      ]
    },
    {
      "cell_type": "code",
      "source": [
        "data.sort('Height', 'Weight')"
      ],
      "metadata": {
        "colab": {
          "base_uri": "https://localhost:8080/",
          "height": 458
        },
        "id": "Kpqs9Yjw5Ez5",
        "outputId": "2e805497-7477-4ea5-e024-6662aeec67a4"
      },
      "execution_count": 18,
      "outputs": [
        {
          "output_type": "execute_result",
          "data": {
            "text/plain": [
              "shape: (2_111, 17)\n",
              "┌────────┬──────┬──────────┬────────────┬───┬──────┬────────────┬─────────────────┬────────────────┐\n",
              "│ Gender ┆ Age  ┆ Height   ┆ Weight     ┆ … ┆ TUE  ┆ CALC       ┆ MTRANS          ┆ NObeyesdad     │\n",
              "│ ---    ┆ ---  ┆ ---      ┆ ---        ┆   ┆ ---  ┆ ---        ┆ ---             ┆ ---            │\n",
              "│ str    ┆ i64  ┆ f64      ┆ f64        ┆   ┆ i64  ┆ str        ┆ str             ┆ str            │\n",
              "╞════════╪══════╪══════════╪════════════╪═══╪══════╪════════════╪═════════════════╪════════════════╡\n",
              "│ Female ┆ 18   ┆ 1.45     ┆ 53.0       ┆ … ┆ 2    ┆ Frequently ┆ Public_Transpor ┆ Overweight_Lev │\n",
              "│        ┆      ┆          ┆            ┆   ┆      ┆            ┆ tation          ┆ el_I           │\n",
              "│ Female ┆ 18   ┆ 1.456346 ┆ 55.523481  ┆ … ┆ null ┆ Sometimes  ┆ Public_Transpor ┆ Overweight_Lev │\n",
              "│        ┆      ┆          ┆            ┆   ┆      ┆            ┆ tation          ┆ el_I           │\n",
              "│ Female ┆ 23   ┆ 1.48     ┆ 60.0       ┆ … ┆ 0    ┆ Sometimes  ┆ Public_Transpor ┆ Overweight_Lev │\n",
              "│        ┆      ┆          ┆            ┆   ┆      ┆            ┆ tation          ┆ el_II          │\n",
              "│ Female ┆ null ┆ 1.481682 ┆ 61.373868  ┆ … ┆ null ┆ no         ┆ Public_Transpor ┆ Overweight_Lev │\n",
              "│        ┆      ┆          ┆            ┆   ┆      ┆            ┆ tation          ┆ el_II          │\n",
              "│ Female ┆ null ┆ 1.483284 ┆ 62.894283  ┆ … ┆ null ┆ no         ┆ Public_Transpor ┆ Overweight_Lev │\n",
              "│        ┆      ┆          ┆            ┆   ┆      ┆            ┆ tation          ┆ el_II          │\n",
              "│ …      ┆ …    ┆ …        ┆ …          ┆ … ┆ …    ┆ …          ┆ …               ┆ …              │\n",
              "│ Male   ┆ null ┆ 1.931263 ┆ 118.20313  ┆ … ┆ 1    ┆ Sometimes  ┆ Public_Transpor ┆ Obesity_Type_I │\n",
              "│        ┆      ┆          ┆            ┆   ┆      ┆            ┆ tation          ┆                │\n",
              "│ Male   ┆ null ┆ 1.942725 ┆ 121.657979 ┆ … ┆ null ┆ Sometimes  ┆ Public_Transpor ┆ Obesity_Type_I │\n",
              "│        ┆      ┆          ┆            ┆   ┆      ┆            ┆ tation          ┆                │\n",
              "│ Male   ┆ null ┆ 1.947406 ┆ 116.893105 ┆ … ┆ 1    ┆ Sometimes  ┆ Public_Transpor ┆ Obesity_Type_I │\n",
              "│        ┆      ┆          ┆            ┆   ┆      ┆            ┆ tation          ┆                │\n",
              "│ Male   ┆ null ┆ 1.975663 ┆ 120.702935 ┆ … ┆ 1    ┆ Sometimes  ┆ Public_Transpor ┆ Obesity_Type_I │\n",
              "│        ┆      ┆          ┆            ┆   ┆      ┆            ┆ tation          ┆                │\n",
              "│ Male   ┆ 20   ┆ 1.98     ┆ 125.0      ┆ … ┆ 1    ┆ Sometimes  ┆ Public_Transpor ┆ Obesity_Type_I │\n",
              "│        ┆      ┆          ┆            ┆   ┆      ┆            ┆ tation          ┆                │\n",
              "└────────┴──────┴──────────┴────────────┴───┴──────┴────────────┴─────────────────┴────────────────┘"
            ],
            "text/html": [
              "<div><style>\n",
              ".dataframe > thead > tr,\n",
              ".dataframe > tbody > tr {\n",
              "  text-align: right;\n",
              "  white-space: pre-wrap;\n",
              "}\n",
              "</style>\n",
              "<small>shape: (2_111, 17)</small><table border=\"1\" class=\"dataframe\"><thead><tr><th>Gender</th><th>Age</th><th>Height</th><th>Weight</th><th>family_history_with_overweight</th><th>FAVC</th><th>FCVC</th><th>NCP</th><th>CAEC</th><th>SMOKE</th><th>CH2O</th><th>SCC</th><th>FAF</th><th>TUE</th><th>CALC</th><th>MTRANS</th><th>NObeyesdad</th></tr><tr><td>str</td><td>i64</td><td>f64</td><td>f64</td><td>str</td><td>str</td><td>i64</td><td>i64</td><td>str</td><td>str</td><td>i64</td><td>str</td><td>i64</td><td>i64</td><td>str</td><td>str</td><td>str</td></tr></thead><tbody><tr><td>&quot;Female&quot;</td><td>18</td><td>1.45</td><td>53.0</td><td>&quot;no&quot;</td><td>&quot;yes&quot;</td><td>2</td><td>3</td><td>&quot;Frequently&quot;</td><td>&quot;no&quot;</td><td>2</td><td>&quot;yes&quot;</td><td>1</td><td>2</td><td>&quot;Frequently&quot;</td><td>&quot;Public_Transportation&quot;</td><td>&quot;Overweight_Level_I&quot;</td></tr><tr><td>&quot;Female&quot;</td><td>18</td><td>1.456346</td><td>55.523481</td><td>&quot;no&quot;</td><td>&quot;yes&quot;</td><td>2</td><td>3</td><td>&quot;Sometimes&quot;</td><td>&quot;no&quot;</td><td>null</td><td>&quot;yes&quot;</td><td>null</td><td>null</td><td>&quot;Sometimes&quot;</td><td>&quot;Public_Transportation&quot;</td><td>&quot;Overweight_Level_I&quot;</td></tr><tr><td>&quot;Female&quot;</td><td>23</td><td>1.48</td><td>60.0</td><td>&quot;yes&quot;</td><td>&quot;yes&quot;</td><td>2</td><td>1</td><td>&quot;Sometimes&quot;</td><td>&quot;yes&quot;</td><td>1</td><td>&quot;no&quot;</td><td>0</td><td>0</td><td>&quot;Sometimes&quot;</td><td>&quot;Public_Transportation&quot;</td><td>&quot;Overweight_Level_II&quot;</td></tr><tr><td>&quot;Female&quot;</td><td>null</td><td>1.481682</td><td>61.373868</td><td>&quot;yes&quot;</td><td>&quot;no&quot;</td><td>2</td><td>null</td><td>&quot;Sometimes&quot;</td><td>&quot;no&quot;</td><td>null</td><td>&quot;no&quot;</td><td>null</td><td>null</td><td>&quot;no&quot;</td><td>&quot;Public_Transportation&quot;</td><td>&quot;Overweight_Level_II&quot;</td></tr><tr><td>&quot;Female&quot;</td><td>null</td><td>1.483284</td><td>62.894283</td><td>&quot;yes&quot;</td><td>&quot;no&quot;</td><td>2</td><td>null</td><td>&quot;Sometimes&quot;</td><td>&quot;no&quot;</td><td>null</td><td>&quot;no&quot;</td><td>null</td><td>null</td><td>&quot;no&quot;</td><td>&quot;Public_Transportation&quot;</td><td>&quot;Overweight_Level_II&quot;</td></tr><tr><td>&hellip;</td><td>&hellip;</td><td>&hellip;</td><td>&hellip;</td><td>&hellip;</td><td>&hellip;</td><td>&hellip;</td><td>&hellip;</td><td>&hellip;</td><td>&hellip;</td><td>&hellip;</td><td>&hellip;</td><td>&hellip;</td><td>&hellip;</td><td>&hellip;</td><td>&hellip;</td><td>&hellip;</td></tr><tr><td>&quot;Male&quot;</td><td>null</td><td>1.931263</td><td>118.20313</td><td>&quot;yes&quot;</td><td>&quot;yes&quot;</td><td>2</td><td>3</td><td>&quot;Sometimes&quot;</td><td>&quot;no&quot;</td><td>3</td><td>&quot;no&quot;</td><td>null</td><td>1</td><td>&quot;Sometimes&quot;</td><td>&quot;Public_Transportation&quot;</td><td>&quot;Obesity_Type_I&quot;</td></tr><tr><td>&quot;Male&quot;</td><td>null</td><td>1.942725</td><td>121.657979</td><td>&quot;yes&quot;</td><td>&quot;yes&quot;</td><td>2</td><td>3</td><td>&quot;Sometimes&quot;</td><td>&quot;no&quot;</td><td>3</td><td>&quot;no&quot;</td><td>1</td><td>null</td><td>&quot;Sometimes&quot;</td><td>&quot;Public_Transportation&quot;</td><td>&quot;Obesity_Type_I&quot;</td></tr><tr><td>&quot;Male&quot;</td><td>null</td><td>1.947406</td><td>116.893105</td><td>&quot;yes&quot;</td><td>&quot;yes&quot;</td><td>2</td><td>3</td><td>&quot;Sometimes&quot;</td><td>&quot;no&quot;</td><td>3</td><td>&quot;no&quot;</td><td>null</td><td>1</td><td>&quot;Sometimes&quot;</td><td>&quot;Public_Transportation&quot;</td><td>&quot;Obesity_Type_I&quot;</td></tr><tr><td>&quot;Male&quot;</td><td>null</td><td>1.975663</td><td>120.702935</td><td>&quot;yes&quot;</td><td>&quot;yes&quot;</td><td>2</td><td>3</td><td>&quot;Sometimes&quot;</td><td>&quot;no&quot;</td><td>3</td><td>&quot;no&quot;</td><td>null</td><td>1</td><td>&quot;Sometimes&quot;</td><td>&quot;Public_Transportation&quot;</td><td>&quot;Obesity_Type_I&quot;</td></tr><tr><td>&quot;Male&quot;</td><td>20</td><td>1.98</td><td>125.0</td><td>&quot;yes&quot;</td><td>&quot;yes&quot;</td><td>2</td><td>3</td><td>&quot;Always&quot;</td><td>&quot;no&quot;</td><td>3</td><td>&quot;no&quot;</td><td>1</td><td>1</td><td>&quot;Sometimes&quot;</td><td>&quot;Public_Transportation&quot;</td><td>&quot;Obesity_Type_I&quot;</td></tr></tbody></table></div>"
            ]
          },
          "metadata": {},
          "execution_count": 18
        }
      ]
    },
    {
      "cell_type": "code",
      "source": [
        "# Finding extreme values\n",
        "data.top_k(3, by='Weight')"
      ],
      "metadata": {
        "colab": {
          "base_uri": "https://localhost:8080/",
          "height": 210
        },
        "id": "iM_JSLVL5P4B",
        "outputId": "202c17a4-1f62-4fce-87f3-4ecdffe39a2d"
      },
      "execution_count": 19,
      "outputs": [
        {
          "output_type": "execute_result",
          "data": {
            "text/plain": [
              "shape: (3, 17)\n",
              "┌────────┬──────┬──────────┬────────────┬───┬──────┬───────────┬─────────────────┬─────────────────┐\n",
              "│ Gender ┆ Age  ┆ Height   ┆ Weight     ┆ … ┆ TUE  ┆ CALC      ┆ MTRANS          ┆ NObeyesdad      │\n",
              "│ ---    ┆ ---  ┆ ---      ┆ ---        ┆   ┆ ---  ┆ ---       ┆ ---             ┆ ---             │\n",
              "│ str    ┆ i64  ┆ f64      ┆ f64        ┆   ┆ i64  ┆ str       ┆ str             ┆ str             │\n",
              "╞════════╪══════╪══════════╪════════════╪═══╪══════╪═══════════╪═════════════════╪═════════════════╡\n",
              "│ Male   ┆ 18   ┆ 1.87     ┆ 173.0      ┆ … ┆ 1    ┆ Sometimes ┆ Public_Transpor ┆ Obesity_Type_II │\n",
              "│        ┆      ┆          ┆            ┆   ┆      ┆           ┆ tation          ┆ I               │\n",
              "│ Female ┆ null ┆ 1.843419 ┆ 165.057269 ┆ … ┆ null ┆ Sometimes ┆ Public_Transpor ┆ Obesity_Type_II │\n",
              "│        ┆      ┆          ┆            ┆   ┆      ┆           ┆ tation          ┆ I               │\n",
              "│ Female ┆ null ┆ 1.793824 ┆ 160.935351 ┆ … ┆ null ┆ Sometimes ┆ Public_Transpor ┆ Obesity_Type_II │\n",
              "│        ┆      ┆          ┆            ┆   ┆      ┆           ┆ tation          ┆ I               │\n",
              "└────────┴──────┴──────────┴────────────┴───┴──────┴───────────┴─────────────────┴─────────────────┘"
            ],
            "text/html": [
              "<div><style>\n",
              ".dataframe > thead > tr,\n",
              ".dataframe > tbody > tr {\n",
              "  text-align: right;\n",
              "  white-space: pre-wrap;\n",
              "}\n",
              "</style>\n",
              "<small>shape: (3, 17)</small><table border=\"1\" class=\"dataframe\"><thead><tr><th>Gender</th><th>Age</th><th>Height</th><th>Weight</th><th>family_history_with_overweight</th><th>FAVC</th><th>FCVC</th><th>NCP</th><th>CAEC</th><th>SMOKE</th><th>CH2O</th><th>SCC</th><th>FAF</th><th>TUE</th><th>CALC</th><th>MTRANS</th><th>NObeyesdad</th></tr><tr><td>str</td><td>i64</td><td>f64</td><td>f64</td><td>str</td><td>str</td><td>i64</td><td>i64</td><td>str</td><td>str</td><td>i64</td><td>str</td><td>i64</td><td>i64</td><td>str</td><td>str</td><td>str</td></tr></thead><tbody><tr><td>&quot;Male&quot;</td><td>18</td><td>1.87</td><td>173.0</td><td>&quot;yes&quot;</td><td>&quot;yes&quot;</td><td>3</td><td>3</td><td>&quot;Frequently&quot;</td><td>&quot;no&quot;</td><td>2</td><td>&quot;no&quot;</td><td>2</td><td>1</td><td>&quot;Sometimes&quot;</td><td>&quot;Public_Transportation&quot;</td><td>&quot;Obesity_Type_III&quot;</td></tr><tr><td>&quot;Female&quot;</td><td>null</td><td>1.843419</td><td>165.057269</td><td>&quot;yes&quot;</td><td>&quot;yes&quot;</td><td>3</td><td>3</td><td>&quot;Sometimes&quot;</td><td>&quot;no&quot;</td><td>null</td><td>&quot;no&quot;</td><td>null</td><td>null</td><td>&quot;Sometimes&quot;</td><td>&quot;Public_Transportation&quot;</td><td>&quot;Obesity_Type_III&quot;</td></tr><tr><td>&quot;Female&quot;</td><td>null</td><td>1.793824</td><td>160.935351</td><td>&quot;yes&quot;</td><td>&quot;yes&quot;</td><td>3</td><td>3</td><td>&quot;Sometimes&quot;</td><td>&quot;no&quot;</td><td>null</td><td>&quot;no&quot;</td><td>null</td><td>null</td><td>&quot;Sometimes&quot;</td><td>&quot;Public_Transportation&quot;</td><td>&quot;Obesity_Type_III&quot;</td></tr></tbody></table></div>"
            ]
          },
          "metadata": {},
          "execution_count": 19
        }
      ]
    },
    {
      "cell_type": "code",
      "source": [
        "data.bottom_k(3, by='Weight')"
      ],
      "metadata": {
        "colab": {
          "base_uri": "https://localhost:8080/",
          "height": 210
        },
        "id": "MpoosTc_5hlF",
        "outputId": "3672a7b9-6eaa-4efb-c40c-c84647aba521"
      },
      "execution_count": 20,
      "outputs": [
        {
          "output_type": "execute_result",
          "data": {
            "text/plain": [
              "shape: (3, 17)\n",
              "┌────────┬──────┬──────────┬───────────┬───┬──────┬───────────┬──────────────────┬─────────────────┐\n",
              "│ Gender ┆ Age  ┆ Height   ┆ Weight    ┆ … ┆ TUE  ┆ CALC      ┆ MTRANS           ┆ NObeyesdad      │\n",
              "│ ---    ┆ ---  ┆ ---      ┆ ---       ┆   ┆ ---  ┆ ---       ┆ ---              ┆ ---             │\n",
              "│ str    ┆ i64  ┆ f64      ┆ f64       ┆   ┆ i64  ┆ str       ┆ str              ┆ str             │\n",
              "╞════════╪══════╪══════════╪═══════════╪═══╪══════╪═══════════╪══════════════════╪═════════════════╡\n",
              "│ Female ┆ 20   ┆ 1.54     ┆ 39.0      ┆ … ┆ 2    ┆ Sometimes ┆ Public_Transport ┆ Insufficient_We │\n",
              "│        ┆      ┆          ┆           ┆   ┆      ┆           ┆ ation            ┆ ight            │\n",
              "│ Female ┆ null ┆ 1.537739 ┆ 39.101805 ┆ … ┆ null ┆ Sometimes ┆ Public_Transport ┆ Insufficient_We │\n",
              "│        ┆      ┆          ┆           ┆   ┆      ┆           ┆ ation            ┆ ight            │\n",
              "│ Female ┆ null ┆ 1.530884 ┆ 39.371523 ┆ … ┆ null ┆ Sometimes ┆ Public_Transport ┆ Insufficient_We │\n",
              "│        ┆      ┆          ┆           ┆   ┆      ┆           ┆ ation            ┆ ight            │\n",
              "└────────┴──────┴──────────┴───────────┴───┴──────┴───────────┴──────────────────┴─────────────────┘"
            ],
            "text/html": [
              "<div><style>\n",
              ".dataframe > thead > tr,\n",
              ".dataframe > tbody > tr {\n",
              "  text-align: right;\n",
              "  white-space: pre-wrap;\n",
              "}\n",
              "</style>\n",
              "<small>shape: (3, 17)</small><table border=\"1\" class=\"dataframe\"><thead><tr><th>Gender</th><th>Age</th><th>Height</th><th>Weight</th><th>family_history_with_overweight</th><th>FAVC</th><th>FCVC</th><th>NCP</th><th>CAEC</th><th>SMOKE</th><th>CH2O</th><th>SCC</th><th>FAF</th><th>TUE</th><th>CALC</th><th>MTRANS</th><th>NObeyesdad</th></tr><tr><td>str</td><td>i64</td><td>f64</td><td>f64</td><td>str</td><td>str</td><td>i64</td><td>i64</td><td>str</td><td>str</td><td>i64</td><td>str</td><td>i64</td><td>i64</td><td>str</td><td>str</td><td>str</td></tr></thead><tbody><tr><td>&quot;Female&quot;</td><td>20</td><td>1.54</td><td>39.0</td><td>&quot;yes&quot;</td><td>&quot;yes&quot;</td><td>1</td><td>3</td><td>&quot;Sometimes&quot;</td><td>&quot;no&quot;</td><td>2</td><td>&quot;no&quot;</td><td>3</td><td>2</td><td>&quot;Sometimes&quot;</td><td>&quot;Public_Transportation&quot;</td><td>&quot;Insufficient_Weight&quot;</td></tr><tr><td>&quot;Female&quot;</td><td>null</td><td>1.537739</td><td>39.101805</td><td>&quot;no&quot;</td><td>&quot;yes&quot;</td><td>null</td><td>3</td><td>&quot;Sometimes&quot;</td><td>&quot;no&quot;</td><td>null</td><td>&quot;no&quot;</td><td>null</td><td>null</td><td>&quot;Sometimes&quot;</td><td>&quot;Public_Transportation&quot;</td><td>&quot;Insufficient_Weight&quot;</td></tr><tr><td>&quot;Female&quot;</td><td>null</td><td>1.530884</td><td>39.371523</td><td>&quot;no&quot;</td><td>&quot;yes&quot;</td><td>null</td><td>3</td><td>&quot;Sometimes&quot;</td><td>&quot;no&quot;</td><td>null</td><td>&quot;no&quot;</td><td>null</td><td>null</td><td>&quot;Sometimes&quot;</td><td>&quot;Public_Transportation&quot;</td><td>&quot;Insufficient_Weight&quot;</td></tr></tbody></table></div>"
            ]
          },
          "metadata": {},
          "execution_count": 20
        }
      ]
    },
    {
      "cell_type": "code",
      "source": [
        "# Look into statistics\n",
        "data.describe()"
      ],
      "metadata": {
        "colab": {
          "base_uri": "https://localhost:8080/",
          "height": 396
        },
        "id": "0cLAJJun5p42",
        "outputId": "04318557-cc75-43dc-9631-9fb54b7d980d"
      },
      "execution_count": 21,
      "outputs": [
        {
          "output_type": "execute_result",
          "data": {
            "text/plain": [
              "shape: (9, 18)\n",
              "┌────────────┬────────┬─────────┬──────────┬───┬──────────┬────────┬────────────┬──────────────────┐\n",
              "│ statistic  ┆ Gender ┆ Age     ┆ Height   ┆ … ┆ TUE      ┆ CALC   ┆ MTRANS     ┆ NObeyesdad       │\n",
              "│ ---        ┆ ---    ┆ ---     ┆ ---      ┆   ┆ ---      ┆ ---    ┆ ---        ┆ ---              │\n",
              "│ str        ┆ str    ┆ f64     ┆ f64      ┆   ┆ f64      ┆ str    ┆ str        ┆ str              │\n",
              "╞════════════╪════════╪═════════╪══════════╪═══╪══════════╪════════╪════════════╪══════════════════╡\n",
              "│ count      ┆ 2111   ┆ 736.0   ┆ 2111.0   ┆ … ┆ 958.0    ┆ 2111   ┆ 2111       ┆ 2111             │\n",
              "│ null_count ┆ 0      ┆ 1375.0  ┆ 0.0      ┆ … ┆ 1153.0   ┆ 0      ┆ 0          ┆ 0                │\n",
              "│ mean       ┆ null   ┆ 23.0625 ┆ 1.701677 ┆ … ┆ 0.532359 ┆ null   ┆ null       ┆ null             │\n",
              "│ std        ┆ null   ┆ 6.06822 ┆ 0.093305 ┆ … ┆ 0.690658 ┆ null   ┆ null       ┆ null             │\n",
              "│ min        ┆ Female ┆ 14.0    ┆ 1.45     ┆ … ┆ 0.0      ┆ Always ┆ Automobile ┆ Insufficient_Wei │\n",
              "│            ┆        ┆         ┆          ┆   ┆          ┆        ┆            ┆ ght              │\n",
              "│ 25%        ┆ null   ┆ 19.0    ┆ 1.63     ┆ … ┆ 0.0      ┆ null   ┆ null       ┆ null             │\n",
              "│ 50%        ┆ null   ┆ 21.0    ┆ 1.700499 ┆ … ┆ 0.0      ┆ null   ┆ null       ┆ null             │\n",
              "│ 75%        ┆ null   ┆ 26.0    ┆ 1.768493 ┆ … ┆ 1.0      ┆ null   ┆ null       ┆ null             │\n",
              "│ max        ┆ Male   ┆ 61.0    ┆ 1.98     ┆ … ┆ 2.0      ┆ no     ┆ Walking    ┆ Overweight_Level │\n",
              "│            ┆        ┆         ┆          ┆   ┆          ┆        ┆            ┆ _II              │\n",
              "└────────────┴────────┴─────────┴──────────┴───┴──────────┴────────┴────────────┴──────────────────┘"
            ],
            "text/html": [
              "<div><style>\n",
              ".dataframe > thead > tr,\n",
              ".dataframe > tbody > tr {\n",
              "  text-align: right;\n",
              "  white-space: pre-wrap;\n",
              "}\n",
              "</style>\n",
              "<small>shape: (9, 18)</small><table border=\"1\" class=\"dataframe\"><thead><tr><th>statistic</th><th>Gender</th><th>Age</th><th>Height</th><th>Weight</th><th>family_history_with_overweight</th><th>FAVC</th><th>FCVC</th><th>NCP</th><th>CAEC</th><th>SMOKE</th><th>CH2O</th><th>SCC</th><th>FAF</th><th>TUE</th><th>CALC</th><th>MTRANS</th><th>NObeyesdad</th></tr><tr><td>str</td><td>str</td><td>f64</td><td>f64</td><td>f64</td><td>str</td><td>str</td><td>f64</td><td>f64</td><td>str</td><td>str</td><td>f64</td><td>str</td><td>f64</td><td>f64</td><td>str</td><td>str</td><td>str</td></tr></thead><tbody><tr><td>&quot;count&quot;</td><td>&quot;2111&quot;</td><td>736.0</td><td>2111.0</td><td>2111.0</td><td>&quot;2111&quot;</td><td>&quot;2111&quot;</td><td>1285.0</td><td>1471.0</td><td>&quot;2111&quot;</td><td>&quot;2111&quot;</td><td>821.0</td><td>&quot;2111&quot;</td><td>903.0</td><td>958.0</td><td>&quot;2111&quot;</td><td>&quot;2111&quot;</td><td>&quot;2111&quot;</td></tr><tr><td>&quot;null_count&quot;</td><td>&quot;0&quot;</td><td>1375.0</td><td>0.0</td><td>0.0</td><td>&quot;0&quot;</td><td>&quot;0&quot;</td><td>826.0</td><td>640.0</td><td>&quot;0&quot;</td><td>&quot;0&quot;</td><td>1290.0</td><td>&quot;0&quot;</td><td>1208.0</td><td>1153.0</td><td>&quot;0&quot;</td><td>&quot;0&quot;</td><td>&quot;0&quot;</td></tr><tr><td>&quot;mean&quot;</td><td>null</td><td>23.0625</td><td>1.701677</td><td>86.586058</td><td>null</td><td>null</td><td>2.481712</td><td>2.776343</td><td>null</td><td>null</td><td>1.940317</td><td>null</td><td>0.913621</td><td>0.532359</td><td>null</td><td>null</td><td>null</td></tr><tr><td>&quot;std&quot;</td><td>null</td><td>6.06822</td><td>0.093305</td><td>26.191172</td><td>null</td><td>null</td><td>0.548873</td><td>0.733743</td><td>null</td><td>null</td><td>0.671797</td><td>null</td><td>0.991797</td><td>0.690658</td><td>null</td><td>null</td><td>null</td></tr><tr><td>&quot;min&quot;</td><td>&quot;Female&quot;</td><td>14.0</td><td>1.45</td><td>39.0</td><td>&quot;no&quot;</td><td>&quot;no&quot;</td><td>1.0</td><td>1.0</td><td>&quot;Always&quot;</td><td>&quot;no&quot;</td><td>1.0</td><td>&quot;no&quot;</td><td>0.0</td><td>0.0</td><td>&quot;Always&quot;</td><td>&quot;Automobile&quot;</td><td>&quot;Insufficient_Weight&quot;</td></tr><tr><td>&quot;25%&quot;</td><td>null</td><td>19.0</td><td>1.63</td><td>65.522744</td><td>null</td><td>null</td><td>2.0</td><td>3.0</td><td>null</td><td>null</td><td>1.0</td><td>null</td><td>0.0</td><td>0.0</td><td>null</td><td>null</td><td>null</td></tr><tr><td>&quot;50%&quot;</td><td>null</td><td>21.0</td><td>1.700499</td><td>83.0</td><td>null</td><td>null</td><td>3.0</td><td>3.0</td><td>null</td><td>null</td><td>2.0</td><td>null</td><td>1.0</td><td>0.0</td><td>null</td><td>null</td><td>null</td></tr><tr><td>&quot;75%&quot;</td><td>null</td><td>26.0</td><td>1.768493</td><td>107.482662</td><td>null</td><td>null</td><td>3.0</td><td>3.0</td><td>null</td><td>null</td><td>2.0</td><td>null</td><td>2.0</td><td>1.0</td><td>null</td><td>null</td><td>null</td></tr><tr><td>&quot;max&quot;</td><td>&quot;Male&quot;</td><td>61.0</td><td>1.98</td><td>173.0</td><td>&quot;yes&quot;</td><td>&quot;yes&quot;</td><td>3.0</td><td>4.0</td><td>&quot;no&quot;</td><td>&quot;yes&quot;</td><td>3.0</td><td>&quot;yes&quot;</td><td>3.0</td><td>2.0</td><td>&quot;no&quot;</td><td>&quot;Walking&quot;</td><td>&quot;Overweight_Level_II&quot;</td></tr></tbody></table></div>"
            ]
          },
          "metadata": {},
          "execution_count": 21
        }
      ]
    },
    {
      "cell_type": "markdown",
      "source": [
        "### Transforming columns"
      ],
      "metadata": {
        "id": "OZwu0bu_95-C"
      }
    },
    {
      "cell_type": "code",
      "source": [
        "# Creating expressions\n",
        "data.select(\"Gender\", pl.col(\"Height\"))"
      ],
      "metadata": {
        "colab": {
          "base_uri": "https://localhost:8080/",
          "height": 438
        },
        "id": "dVEc43mv98qI",
        "outputId": "5aec4b5a-a57f-4c08-9083-8ccfcac79859"
      },
      "execution_count": 22,
      "outputs": [
        {
          "output_type": "execute_result",
          "data": {
            "text/plain": [
              "shape: (2_111, 2)\n",
              "┌────────┬──────────┐\n",
              "│ Gender ┆ Height   │\n",
              "│ ---    ┆ ---      │\n",
              "│ str    ┆ f64      │\n",
              "╞════════╪══════════╡\n",
              "│ Female ┆ 1.62     │\n",
              "│ Female ┆ 1.52     │\n",
              "│ Male   ┆ 1.8      │\n",
              "│ Male   ┆ 1.8      │\n",
              "│ Male   ┆ 1.78     │\n",
              "│ …      ┆ …        │\n",
              "│ Female ┆ 1.71073  │\n",
              "│ Female ┆ 1.748584 │\n",
              "│ Female ┆ 1.752206 │\n",
              "│ Female ┆ 1.73945  │\n",
              "│ Female ┆ 1.738836 │\n",
              "└────────┴──────────┘"
            ],
            "text/html": [
              "<div><style>\n",
              ".dataframe > thead > tr,\n",
              ".dataframe > tbody > tr {\n",
              "  text-align: right;\n",
              "  white-space: pre-wrap;\n",
              "}\n",
              "</style>\n",
              "<small>shape: (2_111, 2)</small><table border=\"1\" class=\"dataframe\"><thead><tr><th>Gender</th><th>Height</th></tr><tr><td>str</td><td>f64</td></tr></thead><tbody><tr><td>&quot;Female&quot;</td><td>1.62</td></tr><tr><td>&quot;Female&quot;</td><td>1.52</td></tr><tr><td>&quot;Male&quot;</td><td>1.8</td></tr><tr><td>&quot;Male&quot;</td><td>1.8</td></tr><tr><td>&quot;Male&quot;</td><td>1.78</td></tr><tr><td>&hellip;</td><td>&hellip;</td></tr><tr><td>&quot;Female&quot;</td><td>1.71073</td></tr><tr><td>&quot;Female&quot;</td><td>1.748584</td></tr><tr><td>&quot;Female&quot;</td><td>1.752206</td></tr><tr><td>&quot;Female&quot;</td><td>1.73945</td></tr><tr><td>&quot;Female&quot;</td><td>1.738836</td></tr></tbody></table></div>"
            ]
          },
          "metadata": {},
          "execution_count": 22
        }
      ]
    },
    {
      "cell_type": "code",
      "source": [
        "# Arithmetic with expressions\n",
        "data.select(\"Gender\", pl.col(\"Height\") * 0.8)"
      ],
      "metadata": {
        "colab": {
          "base_uri": "https://localhost:8080/",
          "height": 438
        },
        "id": "DdZ704Ci-iP7",
        "outputId": "27924475-5160-4832-dcc3-36dcc8ec9806"
      },
      "execution_count": 23,
      "outputs": [
        {
          "output_type": "execute_result",
          "data": {
            "text/plain": [
              "shape: (2_111, 2)\n",
              "┌────────┬───────────┐\n",
              "│ Gender ┆ Height    │\n",
              "│ ---    ┆ ---       │\n",
              "│ str    ┆ f64       │\n",
              "╞════════╪═══════════╡\n",
              "│ Female ┆ 1.296     │\n",
              "│ Female ┆ 1.216     │\n",
              "│ Male   ┆ 1.44      │\n",
              "│ Male   ┆ 1.44      │\n",
              "│ Male   ┆ 1.424     │\n",
              "│ …      ┆ …         │\n",
              "│ Female ┆ 1.368584  │\n",
              "│ Female ┆ 1.3988672 │\n",
              "│ Female ┆ 1.4017648 │\n",
              "│ Female ┆ 1.39156   │\n",
              "│ Female ┆ 1.391069  │\n",
              "└────────┴───────────┘"
            ],
            "text/html": [
              "<div><style>\n",
              ".dataframe > thead > tr,\n",
              ".dataframe > tbody > tr {\n",
              "  text-align: right;\n",
              "  white-space: pre-wrap;\n",
              "}\n",
              "</style>\n",
              "<small>shape: (2_111, 2)</small><table border=\"1\" class=\"dataframe\"><thead><tr><th>Gender</th><th>Height</th></tr><tr><td>str</td><td>f64</td></tr></thead><tbody><tr><td>&quot;Female&quot;</td><td>1.296</td></tr><tr><td>&quot;Female&quot;</td><td>1.216</td></tr><tr><td>&quot;Male&quot;</td><td>1.44</td></tr><tr><td>&quot;Male&quot;</td><td>1.44</td></tr><tr><td>&quot;Male&quot;</td><td>1.424</td></tr><tr><td>&hellip;</td><td>&hellip;</td></tr><tr><td>&quot;Female&quot;</td><td>1.368584</td></tr><tr><td>&quot;Female&quot;</td><td>1.3988672</td></tr><tr><td>&quot;Female&quot;</td><td>1.4017648</td></tr><tr><td>&quot;Female&quot;</td><td>1.39156</td></tr><tr><td>&quot;Female&quot;</td><td>1.391069</td></tr></tbody></table></div>"
            ]
          },
          "metadata": {},
          "execution_count": 23
        }
      ]
    },
    {
      "cell_type": "code",
      "source": [
        "# Chaining transformations\n",
        "data.select(\"Gender\", (pl.col(\"Height\") * 0.8).round(1))"
      ],
      "metadata": {
        "colab": {
          "base_uri": "https://localhost:8080/",
          "height": 438
        },
        "id": "5yMvtKb5-zyh",
        "outputId": "71a2f505-a8b3-44be-c264-594ce1b85b3d"
      },
      "execution_count": 24,
      "outputs": [
        {
          "output_type": "execute_result",
          "data": {
            "text/plain": [
              "shape: (2_111, 2)\n",
              "┌────────┬────────┐\n",
              "│ Gender ┆ Height │\n",
              "│ ---    ┆ ---    │\n",
              "│ str    ┆ f64    │\n",
              "╞════════╪════════╡\n",
              "│ Female ┆ 1.3    │\n",
              "│ Female ┆ 1.2    │\n",
              "│ Male   ┆ 1.4    │\n",
              "│ Male   ┆ 1.4    │\n",
              "│ Male   ┆ 1.4    │\n",
              "│ …      ┆ …      │\n",
              "│ Female ┆ 1.4    │\n",
              "│ Female ┆ 1.4    │\n",
              "│ Female ┆ 1.4    │\n",
              "│ Female ┆ 1.4    │\n",
              "│ Female ┆ 1.4    │\n",
              "└────────┴────────┘"
            ],
            "text/html": [
              "<div><style>\n",
              ".dataframe > thead > tr,\n",
              ".dataframe > tbody > tr {\n",
              "  text-align: right;\n",
              "  white-space: pre-wrap;\n",
              "}\n",
              "</style>\n",
              "<small>shape: (2_111, 2)</small><table border=\"1\" class=\"dataframe\"><thead><tr><th>Gender</th><th>Height</th></tr><tr><td>str</td><td>f64</td></tr></thead><tbody><tr><td>&quot;Female&quot;</td><td>1.3</td></tr><tr><td>&quot;Female&quot;</td><td>1.2</td></tr><tr><td>&quot;Male&quot;</td><td>1.4</td></tr><tr><td>&quot;Male&quot;</td><td>1.4</td></tr><tr><td>&quot;Male&quot;</td><td>1.4</td></tr><tr><td>&hellip;</td><td>&hellip;</td></tr><tr><td>&quot;Female&quot;</td><td>1.4</td></tr><tr><td>&quot;Female&quot;</td><td>1.4</td></tr><tr><td>&quot;Female&quot;</td><td>1.4</td></tr><tr><td>&quot;Female&quot;</td><td>1.4</td></tr><tr><td>&quot;Female&quot;</td><td>1.4</td></tr></tbody></table></div>"
            ]
          },
          "metadata": {},
          "execution_count": 24
        }
      ]
    },
    {
      "cell_type": "code",
      "source": [
        "# Renaming an expression\n",
        "data.select(\"Gender\", (pl.col(\"Height\") * 0.8).round(1).alias(\"Height recalculated\"))"
      ],
      "metadata": {
        "colab": {
          "base_uri": "https://localhost:8080/",
          "height": 438
        },
        "id": "ATIk2-_O_UXf",
        "outputId": "bd5d978e-f423-4039-e7f4-32850b1b16ca"
      },
      "execution_count": 25,
      "outputs": [
        {
          "output_type": "execute_result",
          "data": {
            "text/plain": [
              "shape: (2_111, 2)\n",
              "┌────────┬─────────────────────┐\n",
              "│ Gender ┆ Height recalculated │\n",
              "│ ---    ┆ ---                 │\n",
              "│ str    ┆ f64                 │\n",
              "╞════════╪═════════════════════╡\n",
              "│ Female ┆ 1.3                 │\n",
              "│ Female ┆ 1.2                 │\n",
              "│ Male   ┆ 1.4                 │\n",
              "│ Male   ┆ 1.4                 │\n",
              "│ Male   ┆ 1.4                 │\n",
              "│ …      ┆ …                   │\n",
              "│ Female ┆ 1.4                 │\n",
              "│ Female ┆ 1.4                 │\n",
              "│ Female ┆ 1.4                 │\n",
              "│ Female ┆ 1.4                 │\n",
              "│ Female ┆ 1.4                 │\n",
              "└────────┴─────────────────────┘"
            ],
            "text/html": [
              "<div><style>\n",
              ".dataframe > thead > tr,\n",
              ".dataframe > tbody > tr {\n",
              "  text-align: right;\n",
              "  white-space: pre-wrap;\n",
              "}\n",
              "</style>\n",
              "<small>shape: (2_111, 2)</small><table border=\"1\" class=\"dataframe\"><thead><tr><th>Gender</th><th>Height recalculated</th></tr><tr><td>str</td><td>f64</td></tr></thead><tbody><tr><td>&quot;Female&quot;</td><td>1.3</td></tr><tr><td>&quot;Female&quot;</td><td>1.2</td></tr><tr><td>&quot;Male&quot;</td><td>1.4</td></tr><tr><td>&quot;Male&quot;</td><td>1.4</td></tr><tr><td>&quot;Male&quot;</td><td>1.4</td></tr><tr><td>&hellip;</td><td>&hellip;</td></tr><tr><td>&quot;Female&quot;</td><td>1.4</td></tr><tr><td>&quot;Female&quot;</td><td>1.4</td></tr><tr><td>&quot;Female&quot;</td><td>1.4</td></tr><tr><td>&quot;Female&quot;</td><td>1.4</td></tr><tr><td>&quot;Female&quot;</td><td>1.4</td></tr></tbody></table></div>"
            ]
          },
          "metadata": {},
          "execution_count": 25
        }
      ]
    },
    {
      "cell_type": "code",
      "source": [
        "# Creating expression from a constant\n",
        "data.select(\"Gender\", (pl.col(\"Height\") * 0.8).round(1).alias(\"Height recalculated\"), pl.lit(True).alias(\"Is_human\"))"
      ],
      "metadata": {
        "colab": {
          "base_uri": "https://localhost:8080/",
          "height": 438
        },
        "id": "VVty1VnKADT3",
        "outputId": "4f462984-b3f6-4443-b852-359c69bd44a1"
      },
      "execution_count": 26,
      "outputs": [
        {
          "output_type": "execute_result",
          "data": {
            "text/plain": [
              "shape: (2_111, 3)\n",
              "┌────────┬─────────────────────┬──────────┐\n",
              "│ Gender ┆ Height recalculated ┆ Is_human │\n",
              "│ ---    ┆ ---                 ┆ ---      │\n",
              "│ str    ┆ f64                 ┆ bool     │\n",
              "╞════════╪═════════════════════╪══════════╡\n",
              "│ Female ┆ 1.3                 ┆ true     │\n",
              "│ Female ┆ 1.2                 ┆ true     │\n",
              "│ Male   ┆ 1.4                 ┆ true     │\n",
              "│ Male   ┆ 1.4                 ┆ true     │\n",
              "│ Male   ┆ 1.4                 ┆ true     │\n",
              "│ …      ┆ …                   ┆ …        │\n",
              "│ Female ┆ 1.4                 ┆ true     │\n",
              "│ Female ┆ 1.4                 ┆ true     │\n",
              "│ Female ┆ 1.4                 ┆ true     │\n",
              "│ Female ┆ 1.4                 ┆ true     │\n",
              "│ Female ┆ 1.4                 ┆ true     │\n",
              "└────────┴─────────────────────┴──────────┘"
            ],
            "text/html": [
              "<div><style>\n",
              ".dataframe > thead > tr,\n",
              ".dataframe > tbody > tr {\n",
              "  text-align: right;\n",
              "  white-space: pre-wrap;\n",
              "}\n",
              "</style>\n",
              "<small>shape: (2_111, 3)</small><table border=\"1\" class=\"dataframe\"><thead><tr><th>Gender</th><th>Height recalculated</th><th>Is_human</th></tr><tr><td>str</td><td>f64</td><td>bool</td></tr></thead><tbody><tr><td>&quot;Female&quot;</td><td>1.3</td><td>true</td></tr><tr><td>&quot;Female&quot;</td><td>1.2</td><td>true</td></tr><tr><td>&quot;Male&quot;</td><td>1.4</td><td>true</td></tr><tr><td>&quot;Male&quot;</td><td>1.4</td><td>true</td></tr><tr><td>&quot;Male&quot;</td><td>1.4</td><td>true</td></tr><tr><td>&hellip;</td><td>&hellip;</td><td>&hellip;</td></tr><tr><td>&quot;Female&quot;</td><td>1.4</td><td>true</td></tr><tr><td>&quot;Female&quot;</td><td>1.4</td><td>true</td></tr><tr><td>&quot;Female&quot;</td><td>1.4</td><td>true</td></tr><tr><td>&quot;Female&quot;</td><td>1.4</td><td>true</td></tr><tr><td>&quot;Female&quot;</td><td>1.4</td><td>true</td></tr></tbody></table></div>"
            ]
          },
          "metadata": {},
          "execution_count": 26
        }
      ]
    },
    {
      "cell_type": "code",
      "source": [
        "# Aggregating a column (if we want to compare each value with max or mean)\n",
        "data.select(\"Gender\", \"Height\", pl.col(\"Height\").mean().alias(\"Mean_height\"),\n",
        "            pl.col(\"Height\").max().alias(\"Max_height\"))"
      ],
      "metadata": {
        "colab": {
          "base_uri": "https://localhost:8080/",
          "height": 438
        },
        "id": "t1r9yZ7BAGyQ",
        "outputId": "7160dc98-705d-47fa-b52a-63c2382e313f"
      },
      "execution_count": 27,
      "outputs": [
        {
          "output_type": "execute_result",
          "data": {
            "text/plain": [
              "shape: (2_111, 4)\n",
              "┌────────┬──────────┬─────────────┬────────────┐\n",
              "│ Gender ┆ Height   ┆ Mean_height ┆ Max_height │\n",
              "│ ---    ┆ ---      ┆ ---         ┆ ---        │\n",
              "│ str    ┆ f64      ┆ f64         ┆ f64        │\n",
              "╞════════╪══════════╪═════════════╪════════════╡\n",
              "│ Female ┆ 1.62     ┆ 1.701677    ┆ 1.98       │\n",
              "│ Female ┆ 1.52     ┆ 1.701677    ┆ 1.98       │\n",
              "│ Male   ┆ 1.8      ┆ 1.701677    ┆ 1.98       │\n",
              "│ Male   ┆ 1.8      ┆ 1.701677    ┆ 1.98       │\n",
              "│ Male   ┆ 1.78     ┆ 1.701677    ┆ 1.98       │\n",
              "│ …      ┆ …        ┆ …           ┆ …          │\n",
              "│ Female ┆ 1.71073  ┆ 1.701677    ┆ 1.98       │\n",
              "│ Female ┆ 1.748584 ┆ 1.701677    ┆ 1.98       │\n",
              "│ Female ┆ 1.752206 ┆ 1.701677    ┆ 1.98       │\n",
              "│ Female ┆ 1.73945  ┆ 1.701677    ┆ 1.98       │\n",
              "│ Female ┆ 1.738836 ┆ 1.701677    ┆ 1.98       │\n",
              "└────────┴──────────┴─────────────┴────────────┘"
            ],
            "text/html": [
              "<div><style>\n",
              ".dataframe > thead > tr,\n",
              ".dataframe > tbody > tr {\n",
              "  text-align: right;\n",
              "  white-space: pre-wrap;\n",
              "}\n",
              "</style>\n",
              "<small>shape: (2_111, 4)</small><table border=\"1\" class=\"dataframe\"><thead><tr><th>Gender</th><th>Height</th><th>Mean_height</th><th>Max_height</th></tr><tr><td>str</td><td>f64</td><td>f64</td><td>f64</td></tr></thead><tbody><tr><td>&quot;Female&quot;</td><td>1.62</td><td>1.701677</td><td>1.98</td></tr><tr><td>&quot;Female&quot;</td><td>1.52</td><td>1.701677</td><td>1.98</td></tr><tr><td>&quot;Male&quot;</td><td>1.8</td><td>1.701677</td><td>1.98</td></tr><tr><td>&quot;Male&quot;</td><td>1.8</td><td>1.701677</td><td>1.98</td></tr><tr><td>&quot;Male&quot;</td><td>1.78</td><td>1.701677</td><td>1.98</td></tr><tr><td>&hellip;</td><td>&hellip;</td><td>&hellip;</td><td>&hellip;</td></tr><tr><td>&quot;Female&quot;</td><td>1.71073</td><td>1.701677</td><td>1.98</td></tr><tr><td>&quot;Female&quot;</td><td>1.748584</td><td>1.701677</td><td>1.98</td></tr><tr><td>&quot;Female&quot;</td><td>1.752206</td><td>1.701677</td><td>1.98</td></tr><tr><td>&quot;Female&quot;</td><td>1.73945</td><td>1.701677</td><td>1.98</td></tr><tr><td>&quot;Female&quot;</td><td>1.738836</td><td>1.701677</td><td>1.98</td></tr></tbody></table></div>"
            ]
          },
          "metadata": {},
          "execution_count": 27
        }
      ]
    },
    {
      "cell_type": "code",
      "source": [
        "# Built-in transformations\n",
        "data.select(\"Gender\", \"Height\", pl.col(\"Height\").rank().alias(\"rank_height\"))"
      ],
      "metadata": {
        "colab": {
          "base_uri": "https://localhost:8080/",
          "height": 438
        },
        "id": "xBM9YA2KEFO5",
        "outputId": "ff66e93e-9055-4026-d16f-de01fca218e7"
      },
      "execution_count": 28,
      "outputs": [
        {
          "output_type": "execute_result",
          "data": {
            "text/plain": [
              "shape: (2_111, 3)\n",
              "┌────────┬──────────┬─────────────┐\n",
              "│ Gender ┆ Height   ┆ rank_height │\n",
              "│ ---    ┆ ---      ┆ ---         │\n",
              "│ str    ┆ f64      ┆ f64         │\n",
              "╞════════╪══════════╪═════════════╡\n",
              "│ Female ┆ 1.62     ┆ 439.5       │\n",
              "│ Female ┆ 1.52     ┆ 45.0        │\n",
              "│ Male   ┆ 1.8      ┆ 1784.5      │\n",
              "│ Male   ┆ 1.8      ┆ 1784.5      │\n",
              "│ Male   ┆ 1.78     ┆ 1655.0      │\n",
              "│ …      ┆ …        ┆ …           │\n",
              "│ Female ┆ 1.71073  ┆ 1131.0      │\n",
              "│ Female ┆ 1.748584 ┆ 1370.0      │\n",
              "│ Female ┆ 1.752206 ┆ 1432.0      │\n",
              "│ Female ┆ 1.73945  ┆ 1296.0      │\n",
              "│ Female ┆ 1.738836 ┆ 1292.0      │\n",
              "└────────┴──────────┴─────────────┘"
            ],
            "text/html": [
              "<div><style>\n",
              ".dataframe > thead > tr,\n",
              ".dataframe > tbody > tr {\n",
              "  text-align: right;\n",
              "  white-space: pre-wrap;\n",
              "}\n",
              "</style>\n",
              "<small>shape: (2_111, 3)</small><table border=\"1\" class=\"dataframe\"><thead><tr><th>Gender</th><th>Height</th><th>rank_height</th></tr><tr><td>str</td><td>f64</td><td>f64</td></tr></thead><tbody><tr><td>&quot;Female&quot;</td><td>1.62</td><td>439.5</td></tr><tr><td>&quot;Female&quot;</td><td>1.52</td><td>45.0</td></tr><tr><td>&quot;Male&quot;</td><td>1.8</td><td>1784.5</td></tr><tr><td>&quot;Male&quot;</td><td>1.8</td><td>1784.5</td></tr><tr><td>&quot;Male&quot;</td><td>1.78</td><td>1655.0</td></tr><tr><td>&hellip;</td><td>&hellip;</td><td>&hellip;</td></tr><tr><td>&quot;Female&quot;</td><td>1.71073</td><td>1131.0</td></tr><tr><td>&quot;Female&quot;</td><td>1.748584</td><td>1370.0</td></tr><tr><td>&quot;Female&quot;</td><td>1.752206</td><td>1432.0</td></tr><tr><td>&quot;Female&quot;</td><td>1.73945</td><td>1296.0</td></tr><tr><td>&quot;Female&quot;</td><td>1.738836</td><td>1292.0</td></tr></tbody></table></div>"
            ]
          },
          "metadata": {},
          "execution_count": 28
        }
      ]
    },
    {
      "cell_type": "code",
      "source": [
        "# Dtype-specific expressions\n",
        "data.select(\"Gender\", pl.col(\"MTRANS\").str.to_lowercase())"
      ],
      "metadata": {
        "colab": {
          "base_uri": "https://localhost:8080/",
          "height": 438
        },
        "id": "O0GKvG3VEpHm",
        "outputId": "42262f0c-bae1-415d-fea7-fb37d7258794"
      },
      "execution_count": 29,
      "outputs": [
        {
          "output_type": "execute_result",
          "data": {
            "text/plain": [
              "shape: (2_111, 2)\n",
              "┌────────┬───────────────────────┐\n",
              "│ Gender ┆ MTRANS                │\n",
              "│ ---    ┆ ---                   │\n",
              "│ str    ┆ str                   │\n",
              "╞════════╪═══════════════════════╡\n",
              "│ Female ┆ public_transportation │\n",
              "│ Female ┆ public_transportation │\n",
              "│ Male   ┆ public_transportation │\n",
              "│ Male   ┆ walking               │\n",
              "│ Male   ┆ public_transportation │\n",
              "│ …      ┆ …                     │\n",
              "│ Female ┆ public_transportation │\n",
              "│ Female ┆ public_transportation │\n",
              "│ Female ┆ public_transportation │\n",
              "│ Female ┆ public_transportation │\n",
              "│ Female ┆ public_transportation │\n",
              "└────────┴───────────────────────┘"
            ],
            "text/html": [
              "<div><style>\n",
              ".dataframe > thead > tr,\n",
              ".dataframe > tbody > tr {\n",
              "  text-align: right;\n",
              "  white-space: pre-wrap;\n",
              "}\n",
              "</style>\n",
              "<small>shape: (2_111, 2)</small><table border=\"1\" class=\"dataframe\"><thead><tr><th>Gender</th><th>MTRANS</th></tr><tr><td>str</td><td>str</td></tr></thead><tbody><tr><td>&quot;Female&quot;</td><td>&quot;public_transportation&quot;</td></tr><tr><td>&quot;Female&quot;</td><td>&quot;public_transportation&quot;</td></tr><tr><td>&quot;Male&quot;</td><td>&quot;public_transportation&quot;</td></tr><tr><td>&quot;Male&quot;</td><td>&quot;walking&quot;</td></tr><tr><td>&quot;Male&quot;</td><td>&quot;public_transportation&quot;</td></tr><tr><td>&hellip;</td><td>&hellip;</td></tr><tr><td>&quot;Female&quot;</td><td>&quot;public_transportation&quot;</td></tr><tr><td>&quot;Female&quot;</td><td>&quot;public_transportation&quot;</td></tr><tr><td>&quot;Female&quot;</td><td>&quot;public_transportation&quot;</td></tr><tr><td>&quot;Female&quot;</td><td>&quot;public_transportation&quot;</td></tr><tr><td>&quot;Female&quot;</td><td>&quot;public_transportation&quot;</td></tr></tbody></table></div>"
            ]
          },
          "metadata": {},
          "execution_count": 29
        }
      ]
    },
    {
      "cell_type": "markdown",
      "source": [
        "### Adding columns"
      ],
      "metadata": {
        "id": "FqoBwAhUJSEb"
      }
    },
    {
      "cell_type": "code",
      "source": [
        "data.with_columns((pl.col(\"Weight\") / (pl.col(\"Height\") ** 2)).alias(\"BMI\")) # with_columns without alias overwrites the existing column"
      ],
      "metadata": {
        "colab": {
          "base_uri": "https://localhost:8080/",
          "height": 458
        },
        "id": "JS-nGLUANUWy",
        "outputId": "0ce60274-c2ad-461d-f7c6-b877a87ce563"
      },
      "execution_count": 30,
      "outputs": [
        {
          "output_type": "execute_result",
          "data": {
            "text/plain": [
              "shape: (2_111, 18)\n",
              "┌────────┬──────┬──────────┬────────────┬───┬────────────┬──────────────┬──────────────┬───────────┐\n",
              "│ Gender ┆ Age  ┆ Height   ┆ Weight     ┆ … ┆ CALC       ┆ MTRANS       ┆ NObeyesdad   ┆ BMI       │\n",
              "│ ---    ┆ ---  ┆ ---      ┆ ---        ┆   ┆ ---        ┆ ---          ┆ ---          ┆ ---       │\n",
              "│ str    ┆ i64  ┆ f64      ┆ f64        ┆   ┆ str        ┆ str          ┆ str          ┆ f64       │\n",
              "╞════════╪══════╪══════════╪════════════╪═══╪════════════╪══════════════╪══════════════╪═══════════╡\n",
              "│ Female ┆ 21   ┆ 1.62     ┆ 64.0       ┆ … ┆ no         ┆ Public_Trans ┆ Normal_Weigh ┆ 24.386526 │\n",
              "│        ┆      ┆          ┆            ┆   ┆            ┆ portation    ┆ t            ┆           │\n",
              "│ Female ┆ 21   ┆ 1.52     ┆ 56.0       ┆ … ┆ Sometimes  ┆ Public_Trans ┆ Normal_Weigh ┆ 24.238227 │\n",
              "│        ┆      ┆          ┆            ┆   ┆            ┆ portation    ┆ t            ┆           │\n",
              "│ Male   ┆ 23   ┆ 1.8      ┆ 77.0       ┆ … ┆ Frequently ┆ Public_Trans ┆ Normal_Weigh ┆ 23.765432 │\n",
              "│        ┆      ┆          ┆            ┆   ┆            ┆ portation    ┆ t            ┆           │\n",
              "│ Male   ┆ 27   ┆ 1.8      ┆ 87.0       ┆ … ┆ Frequently ┆ Walking      ┆ Overweight_L ┆ 26.851852 │\n",
              "│        ┆      ┆          ┆            ┆   ┆            ┆              ┆ evel_I       ┆           │\n",
              "│ Male   ┆ 22   ┆ 1.78     ┆ 89.8       ┆ … ┆ Sometimes  ┆ Public_Trans ┆ Overweight_L ┆ 28.342381 │\n",
              "│        ┆      ┆          ┆            ┆   ┆            ┆ portation    ┆ evel_II      ┆           │\n",
              "│ …      ┆ …    ┆ …        ┆ …          ┆ … ┆ …          ┆ …            ┆ …            ┆ …         │\n",
              "│ Female ┆ null ┆ 1.71073  ┆ 131.408528 ┆ … ┆ Sometimes  ┆ Public_Trans ┆ Obesity_Type ┆ 44.901475 │\n",
              "│        ┆      ┆          ┆            ┆   ┆            ┆ portation    ┆ _III         ┆           │\n",
              "│ Female ┆ null ┆ 1.748584 ┆ 133.742943 ┆ … ┆ Sometimes  ┆ Public_Trans ┆ Obesity_Type ┆ 43.741923 │\n",
              "│        ┆      ┆          ┆            ┆   ┆            ┆ portation    ┆ _III         ┆           │\n",
              "│ Female ┆ null ┆ 1.752206 ┆ 133.689352 ┆ … ┆ Sometimes  ┆ Public_Trans ┆ Obesity_Type ┆ 43.543817 │\n",
              "│        ┆      ┆          ┆            ┆   ┆            ┆ portation    ┆ _III         ┆           │\n",
              "│ Female ┆ null ┆ 1.73945  ┆ 133.346641 ┆ … ┆ Sometimes  ┆ Public_Trans ┆ Obesity_Type ┆ 44.071535 │\n",
              "│        ┆      ┆          ┆            ┆   ┆            ┆ portation    ┆ _III         ┆           │\n",
              "│ Female ┆ null ┆ 1.738836 ┆ 133.472641 ┆ … ┆ Sometimes  ┆ Public_Trans ┆ Obesity_Type ┆ 44.144338 │\n",
              "│        ┆      ┆          ┆            ┆   ┆            ┆ portation    ┆ _III         ┆           │\n",
              "└────────┴──────┴──────────┴────────────┴───┴────────────┴──────────────┴──────────────┴───────────┘"
            ],
            "text/html": [
              "<div><style>\n",
              ".dataframe > thead > tr,\n",
              ".dataframe > tbody > tr {\n",
              "  text-align: right;\n",
              "  white-space: pre-wrap;\n",
              "}\n",
              "</style>\n",
              "<small>shape: (2_111, 18)</small><table border=\"1\" class=\"dataframe\"><thead><tr><th>Gender</th><th>Age</th><th>Height</th><th>Weight</th><th>family_history_with_overweight</th><th>FAVC</th><th>FCVC</th><th>NCP</th><th>CAEC</th><th>SMOKE</th><th>CH2O</th><th>SCC</th><th>FAF</th><th>TUE</th><th>CALC</th><th>MTRANS</th><th>NObeyesdad</th><th>BMI</th></tr><tr><td>str</td><td>i64</td><td>f64</td><td>f64</td><td>str</td><td>str</td><td>i64</td><td>i64</td><td>str</td><td>str</td><td>i64</td><td>str</td><td>i64</td><td>i64</td><td>str</td><td>str</td><td>str</td><td>f64</td></tr></thead><tbody><tr><td>&quot;Female&quot;</td><td>21</td><td>1.62</td><td>64.0</td><td>&quot;yes&quot;</td><td>&quot;no&quot;</td><td>2</td><td>3</td><td>&quot;Sometimes&quot;</td><td>&quot;no&quot;</td><td>2</td><td>&quot;no&quot;</td><td>0</td><td>1</td><td>&quot;no&quot;</td><td>&quot;Public_Transportation&quot;</td><td>&quot;Normal_Weight&quot;</td><td>24.386526</td></tr><tr><td>&quot;Female&quot;</td><td>21</td><td>1.52</td><td>56.0</td><td>&quot;yes&quot;</td><td>&quot;no&quot;</td><td>3</td><td>3</td><td>&quot;Sometimes&quot;</td><td>&quot;yes&quot;</td><td>3</td><td>&quot;yes&quot;</td><td>3</td><td>0</td><td>&quot;Sometimes&quot;</td><td>&quot;Public_Transportation&quot;</td><td>&quot;Normal_Weight&quot;</td><td>24.238227</td></tr><tr><td>&quot;Male&quot;</td><td>23</td><td>1.8</td><td>77.0</td><td>&quot;yes&quot;</td><td>&quot;no&quot;</td><td>2</td><td>3</td><td>&quot;Sometimes&quot;</td><td>&quot;no&quot;</td><td>2</td><td>&quot;no&quot;</td><td>2</td><td>1</td><td>&quot;Frequently&quot;</td><td>&quot;Public_Transportation&quot;</td><td>&quot;Normal_Weight&quot;</td><td>23.765432</td></tr><tr><td>&quot;Male&quot;</td><td>27</td><td>1.8</td><td>87.0</td><td>&quot;no&quot;</td><td>&quot;no&quot;</td><td>3</td><td>3</td><td>&quot;Sometimes&quot;</td><td>&quot;no&quot;</td><td>2</td><td>&quot;no&quot;</td><td>2</td><td>0</td><td>&quot;Frequently&quot;</td><td>&quot;Walking&quot;</td><td>&quot;Overweight_Level_I&quot;</td><td>26.851852</td></tr><tr><td>&quot;Male&quot;</td><td>22</td><td>1.78</td><td>89.8</td><td>&quot;no&quot;</td><td>&quot;no&quot;</td><td>2</td><td>1</td><td>&quot;Sometimes&quot;</td><td>&quot;no&quot;</td><td>2</td><td>&quot;no&quot;</td><td>0</td><td>0</td><td>&quot;Sometimes&quot;</td><td>&quot;Public_Transportation&quot;</td><td>&quot;Overweight_Level_II&quot;</td><td>28.342381</td></tr><tr><td>&hellip;</td><td>&hellip;</td><td>&hellip;</td><td>&hellip;</td><td>&hellip;</td><td>&hellip;</td><td>&hellip;</td><td>&hellip;</td><td>&hellip;</td><td>&hellip;</td><td>&hellip;</td><td>&hellip;</td><td>&hellip;</td><td>&hellip;</td><td>&hellip;</td><td>&hellip;</td><td>&hellip;</td><td>&hellip;</td></tr><tr><td>&quot;Female&quot;</td><td>null</td><td>1.71073</td><td>131.408528</td><td>&quot;yes&quot;</td><td>&quot;yes&quot;</td><td>3</td><td>3</td><td>&quot;Sometimes&quot;</td><td>&quot;no&quot;</td><td>null</td><td>&quot;no&quot;</td><td>null</td><td>null</td><td>&quot;Sometimes&quot;</td><td>&quot;Public_Transportation&quot;</td><td>&quot;Obesity_Type_III&quot;</td><td>44.901475</td></tr><tr><td>&quot;Female&quot;</td><td>null</td><td>1.748584</td><td>133.742943</td><td>&quot;yes&quot;</td><td>&quot;yes&quot;</td><td>3</td><td>3</td><td>&quot;Sometimes&quot;</td><td>&quot;no&quot;</td><td>null</td><td>&quot;no&quot;</td><td>null</td><td>null</td><td>&quot;Sometimes&quot;</td><td>&quot;Public_Transportation&quot;</td><td>&quot;Obesity_Type_III&quot;</td><td>43.741923</td></tr><tr><td>&quot;Female&quot;</td><td>null</td><td>1.752206</td><td>133.689352</td><td>&quot;yes&quot;</td><td>&quot;yes&quot;</td><td>3</td><td>3</td><td>&quot;Sometimes&quot;</td><td>&quot;no&quot;</td><td>null</td><td>&quot;no&quot;</td><td>null</td><td>null</td><td>&quot;Sometimes&quot;</td><td>&quot;Public_Transportation&quot;</td><td>&quot;Obesity_Type_III&quot;</td><td>43.543817</td></tr><tr><td>&quot;Female&quot;</td><td>null</td><td>1.73945</td><td>133.346641</td><td>&quot;yes&quot;</td><td>&quot;yes&quot;</td><td>3</td><td>3</td><td>&quot;Sometimes&quot;</td><td>&quot;no&quot;</td><td>null</td><td>&quot;no&quot;</td><td>null</td><td>null</td><td>&quot;Sometimes&quot;</td><td>&quot;Public_Transportation&quot;</td><td>&quot;Obesity_Type_III&quot;</td><td>44.071535</td></tr><tr><td>&quot;Female&quot;</td><td>null</td><td>1.738836</td><td>133.472641</td><td>&quot;yes&quot;</td><td>&quot;yes&quot;</td><td>3</td><td>3</td><td>&quot;Sometimes&quot;</td><td>&quot;no&quot;</td><td>null</td><td>&quot;no&quot;</td><td>null</td><td>null</td><td>&quot;Sometimes&quot;</td><td>&quot;Public_Transportation&quot;</td><td>&quot;Obesity_Type_III&quot;</td><td>44.144338</td></tr></tbody></table></div>"
            ]
          },
          "metadata": {},
          "execution_count": 30
        }
      ]
    },
    {
      "cell_type": "code",
      "source": [
        "# Chanding the dtype of a column\n",
        "data.with_columns(pl.col(\"Weight\").cast(pl.Int16))"
      ],
      "metadata": {
        "colab": {
          "base_uri": "https://localhost:8080/",
          "height": 458
        },
        "id": "CRg4tIXgpRiE",
        "outputId": "ab4d847e-4222-4ac7-a196-0e985d30c28f"
      },
      "execution_count": 31,
      "outputs": [
        {
          "output_type": "execute_result",
          "data": {
            "text/plain": [
              "shape: (2_111, 17)\n",
              "┌────────┬──────┬──────────┬────────┬───┬──────┬────────────┬───────────────────┬──────────────────┐\n",
              "│ Gender ┆ Age  ┆ Height   ┆ Weight ┆ … ┆ TUE  ┆ CALC       ┆ MTRANS            ┆ NObeyesdad       │\n",
              "│ ---    ┆ ---  ┆ ---      ┆ ---    ┆   ┆ ---  ┆ ---        ┆ ---               ┆ ---              │\n",
              "│ str    ┆ i64  ┆ f64      ┆ i16    ┆   ┆ i64  ┆ str        ┆ str               ┆ str              │\n",
              "╞════════╪══════╪══════════╪════════╪═══╪══════╪════════════╪═══════════════════╪══════════════════╡\n",
              "│ Female ┆ 21   ┆ 1.62     ┆ 64     ┆ … ┆ 1    ┆ no         ┆ Public_Transporta ┆ Normal_Weight    │\n",
              "│        ┆      ┆          ┆        ┆   ┆      ┆            ┆ tion              ┆                  │\n",
              "│ Female ┆ 21   ┆ 1.52     ┆ 56     ┆ … ┆ 0    ┆ Sometimes  ┆ Public_Transporta ┆ Normal_Weight    │\n",
              "│        ┆      ┆          ┆        ┆   ┆      ┆            ┆ tion              ┆                  │\n",
              "│ Male   ┆ 23   ┆ 1.8      ┆ 77     ┆ … ┆ 1    ┆ Frequently ┆ Public_Transporta ┆ Normal_Weight    │\n",
              "│        ┆      ┆          ┆        ┆   ┆      ┆            ┆ tion              ┆                  │\n",
              "│ Male   ┆ 27   ┆ 1.8      ┆ 87     ┆ … ┆ 0    ┆ Frequently ┆ Walking           ┆ Overweight_Level │\n",
              "│        ┆      ┆          ┆        ┆   ┆      ┆            ┆                   ┆ _I               │\n",
              "│ Male   ┆ 22   ┆ 1.78     ┆ 89     ┆ … ┆ 0    ┆ Sometimes  ┆ Public_Transporta ┆ Overweight_Level │\n",
              "│        ┆      ┆          ┆        ┆   ┆      ┆            ┆ tion              ┆ _II              │\n",
              "│ …      ┆ …    ┆ …        ┆ …      ┆ … ┆ …    ┆ …          ┆ …                 ┆ …                │\n",
              "│ Female ┆ null ┆ 1.71073  ┆ 131    ┆ … ┆ null ┆ Sometimes  ┆ Public_Transporta ┆ Obesity_Type_III │\n",
              "│        ┆      ┆          ┆        ┆   ┆      ┆            ┆ tion              ┆                  │\n",
              "│ Female ┆ null ┆ 1.748584 ┆ 133    ┆ … ┆ null ┆ Sometimes  ┆ Public_Transporta ┆ Obesity_Type_III │\n",
              "│        ┆      ┆          ┆        ┆   ┆      ┆            ┆ tion              ┆                  │\n",
              "│ Female ┆ null ┆ 1.752206 ┆ 133    ┆ … ┆ null ┆ Sometimes  ┆ Public_Transporta ┆ Obesity_Type_III │\n",
              "│        ┆      ┆          ┆        ┆   ┆      ┆            ┆ tion              ┆                  │\n",
              "│ Female ┆ null ┆ 1.73945  ┆ 133    ┆ … ┆ null ┆ Sometimes  ┆ Public_Transporta ┆ Obesity_Type_III │\n",
              "│        ┆      ┆          ┆        ┆   ┆      ┆            ┆ tion              ┆                  │\n",
              "│ Female ┆ null ┆ 1.738836 ┆ 133    ┆ … ┆ null ┆ Sometimes  ┆ Public_Transporta ┆ Obesity_Type_III │\n",
              "│        ┆      ┆          ┆        ┆   ┆      ┆            ┆ tion              ┆                  │\n",
              "└────────┴──────┴──────────┴────────┴───┴──────┴────────────┴───────────────────┴──────────────────┘"
            ],
            "text/html": [
              "<div><style>\n",
              ".dataframe > thead > tr,\n",
              ".dataframe > tbody > tr {\n",
              "  text-align: right;\n",
              "  white-space: pre-wrap;\n",
              "}\n",
              "</style>\n",
              "<small>shape: (2_111, 17)</small><table border=\"1\" class=\"dataframe\"><thead><tr><th>Gender</th><th>Age</th><th>Height</th><th>Weight</th><th>family_history_with_overweight</th><th>FAVC</th><th>FCVC</th><th>NCP</th><th>CAEC</th><th>SMOKE</th><th>CH2O</th><th>SCC</th><th>FAF</th><th>TUE</th><th>CALC</th><th>MTRANS</th><th>NObeyesdad</th></tr><tr><td>str</td><td>i64</td><td>f64</td><td>i16</td><td>str</td><td>str</td><td>i64</td><td>i64</td><td>str</td><td>str</td><td>i64</td><td>str</td><td>i64</td><td>i64</td><td>str</td><td>str</td><td>str</td></tr></thead><tbody><tr><td>&quot;Female&quot;</td><td>21</td><td>1.62</td><td>64</td><td>&quot;yes&quot;</td><td>&quot;no&quot;</td><td>2</td><td>3</td><td>&quot;Sometimes&quot;</td><td>&quot;no&quot;</td><td>2</td><td>&quot;no&quot;</td><td>0</td><td>1</td><td>&quot;no&quot;</td><td>&quot;Public_Transportation&quot;</td><td>&quot;Normal_Weight&quot;</td></tr><tr><td>&quot;Female&quot;</td><td>21</td><td>1.52</td><td>56</td><td>&quot;yes&quot;</td><td>&quot;no&quot;</td><td>3</td><td>3</td><td>&quot;Sometimes&quot;</td><td>&quot;yes&quot;</td><td>3</td><td>&quot;yes&quot;</td><td>3</td><td>0</td><td>&quot;Sometimes&quot;</td><td>&quot;Public_Transportation&quot;</td><td>&quot;Normal_Weight&quot;</td></tr><tr><td>&quot;Male&quot;</td><td>23</td><td>1.8</td><td>77</td><td>&quot;yes&quot;</td><td>&quot;no&quot;</td><td>2</td><td>3</td><td>&quot;Sometimes&quot;</td><td>&quot;no&quot;</td><td>2</td><td>&quot;no&quot;</td><td>2</td><td>1</td><td>&quot;Frequently&quot;</td><td>&quot;Public_Transportation&quot;</td><td>&quot;Normal_Weight&quot;</td></tr><tr><td>&quot;Male&quot;</td><td>27</td><td>1.8</td><td>87</td><td>&quot;no&quot;</td><td>&quot;no&quot;</td><td>3</td><td>3</td><td>&quot;Sometimes&quot;</td><td>&quot;no&quot;</td><td>2</td><td>&quot;no&quot;</td><td>2</td><td>0</td><td>&quot;Frequently&quot;</td><td>&quot;Walking&quot;</td><td>&quot;Overweight_Level_I&quot;</td></tr><tr><td>&quot;Male&quot;</td><td>22</td><td>1.78</td><td>89</td><td>&quot;no&quot;</td><td>&quot;no&quot;</td><td>2</td><td>1</td><td>&quot;Sometimes&quot;</td><td>&quot;no&quot;</td><td>2</td><td>&quot;no&quot;</td><td>0</td><td>0</td><td>&quot;Sometimes&quot;</td><td>&quot;Public_Transportation&quot;</td><td>&quot;Overweight_Level_II&quot;</td></tr><tr><td>&hellip;</td><td>&hellip;</td><td>&hellip;</td><td>&hellip;</td><td>&hellip;</td><td>&hellip;</td><td>&hellip;</td><td>&hellip;</td><td>&hellip;</td><td>&hellip;</td><td>&hellip;</td><td>&hellip;</td><td>&hellip;</td><td>&hellip;</td><td>&hellip;</td><td>&hellip;</td><td>&hellip;</td></tr><tr><td>&quot;Female&quot;</td><td>null</td><td>1.71073</td><td>131</td><td>&quot;yes&quot;</td><td>&quot;yes&quot;</td><td>3</td><td>3</td><td>&quot;Sometimes&quot;</td><td>&quot;no&quot;</td><td>null</td><td>&quot;no&quot;</td><td>null</td><td>null</td><td>&quot;Sometimes&quot;</td><td>&quot;Public_Transportation&quot;</td><td>&quot;Obesity_Type_III&quot;</td></tr><tr><td>&quot;Female&quot;</td><td>null</td><td>1.748584</td><td>133</td><td>&quot;yes&quot;</td><td>&quot;yes&quot;</td><td>3</td><td>3</td><td>&quot;Sometimes&quot;</td><td>&quot;no&quot;</td><td>null</td><td>&quot;no&quot;</td><td>null</td><td>null</td><td>&quot;Sometimes&quot;</td><td>&quot;Public_Transportation&quot;</td><td>&quot;Obesity_Type_III&quot;</td></tr><tr><td>&quot;Female&quot;</td><td>null</td><td>1.752206</td><td>133</td><td>&quot;yes&quot;</td><td>&quot;yes&quot;</td><td>3</td><td>3</td><td>&quot;Sometimes&quot;</td><td>&quot;no&quot;</td><td>null</td><td>&quot;no&quot;</td><td>null</td><td>null</td><td>&quot;Sometimes&quot;</td><td>&quot;Public_Transportation&quot;</td><td>&quot;Obesity_Type_III&quot;</td></tr><tr><td>&quot;Female&quot;</td><td>null</td><td>1.73945</td><td>133</td><td>&quot;yes&quot;</td><td>&quot;yes&quot;</td><td>3</td><td>3</td><td>&quot;Sometimes&quot;</td><td>&quot;no&quot;</td><td>null</td><td>&quot;no&quot;</td><td>null</td><td>null</td><td>&quot;Sometimes&quot;</td><td>&quot;Public_Transportation&quot;</td><td>&quot;Obesity_Type_III&quot;</td></tr><tr><td>&quot;Female&quot;</td><td>null</td><td>1.738836</td><td>133</td><td>&quot;yes&quot;</td><td>&quot;yes&quot;</td><td>3</td><td>3</td><td>&quot;Sometimes&quot;</td><td>&quot;no&quot;</td><td>null</td><td>&quot;no&quot;</td><td>null</td><td>null</td><td>&quot;Sometimes&quot;</td><td>&quot;Public_Transportation&quot;</td><td>&quot;Obesity_Type_III&quot;</td></tr></tbody></table></div>"
            ]
          },
          "metadata": {},
          "execution_count": 31
        }
      ]
    },
    {
      "cell_type": "code",
      "source": [
        "# Renaming columns\n",
        "data.rename({\"Gender\": \"Sex\"})"
      ],
      "metadata": {
        "colab": {
          "base_uri": "https://localhost:8080/",
          "height": 458
        },
        "id": "Gcd4pZwiqTBJ",
        "outputId": "5cf8f942-5427-4760-a514-37b8badb94b9"
      },
      "execution_count": 32,
      "outputs": [
        {
          "output_type": "execute_result",
          "data": {
            "text/plain": [
              "shape: (2_111, 17)\n",
              "┌────────┬──────┬──────────┬────────────┬───┬──────┬────────────┬─────────────────┬────────────────┐\n",
              "│ Sex    ┆ Age  ┆ Height   ┆ Weight     ┆ … ┆ TUE  ┆ CALC       ┆ MTRANS          ┆ NObeyesdad     │\n",
              "│ ---    ┆ ---  ┆ ---      ┆ ---        ┆   ┆ ---  ┆ ---        ┆ ---             ┆ ---            │\n",
              "│ str    ┆ i64  ┆ f64      ┆ f64        ┆   ┆ i64  ┆ str        ┆ str             ┆ str            │\n",
              "╞════════╪══════╪══════════╪════════════╪═══╪══════╪════════════╪═════════════════╪════════════════╡\n",
              "│ Female ┆ 21   ┆ 1.62     ┆ 64.0       ┆ … ┆ 1    ┆ no         ┆ Public_Transpor ┆ Normal_Weight  │\n",
              "│        ┆      ┆          ┆            ┆   ┆      ┆            ┆ tation          ┆                │\n",
              "│ Female ┆ 21   ┆ 1.52     ┆ 56.0       ┆ … ┆ 0    ┆ Sometimes  ┆ Public_Transpor ┆ Normal_Weight  │\n",
              "│        ┆      ┆          ┆            ┆   ┆      ┆            ┆ tation          ┆                │\n",
              "│ Male   ┆ 23   ┆ 1.8      ┆ 77.0       ┆ … ┆ 1    ┆ Frequently ┆ Public_Transpor ┆ Normal_Weight  │\n",
              "│        ┆      ┆          ┆            ┆   ┆      ┆            ┆ tation          ┆                │\n",
              "│ Male   ┆ 27   ┆ 1.8      ┆ 87.0       ┆ … ┆ 0    ┆ Frequently ┆ Walking         ┆ Overweight_Lev │\n",
              "│        ┆      ┆          ┆            ┆   ┆      ┆            ┆                 ┆ el_I           │\n",
              "│ Male   ┆ 22   ┆ 1.78     ┆ 89.8       ┆ … ┆ 0    ┆ Sometimes  ┆ Public_Transpor ┆ Overweight_Lev │\n",
              "│        ┆      ┆          ┆            ┆   ┆      ┆            ┆ tation          ┆ el_II          │\n",
              "│ …      ┆ …    ┆ …        ┆ …          ┆ … ┆ …    ┆ …          ┆ …               ┆ …              │\n",
              "│ Female ┆ null ┆ 1.71073  ┆ 131.408528 ┆ … ┆ null ┆ Sometimes  ┆ Public_Transpor ┆ Obesity_Type_I │\n",
              "│        ┆      ┆          ┆            ┆   ┆      ┆            ┆ tation          ┆ II             │\n",
              "│ Female ┆ null ┆ 1.748584 ┆ 133.742943 ┆ … ┆ null ┆ Sometimes  ┆ Public_Transpor ┆ Obesity_Type_I │\n",
              "│        ┆      ┆          ┆            ┆   ┆      ┆            ┆ tation          ┆ II             │\n",
              "│ Female ┆ null ┆ 1.752206 ┆ 133.689352 ┆ … ┆ null ┆ Sometimes  ┆ Public_Transpor ┆ Obesity_Type_I │\n",
              "│        ┆      ┆          ┆            ┆   ┆      ┆            ┆ tation          ┆ II             │\n",
              "│ Female ┆ null ┆ 1.73945  ┆ 133.346641 ┆ … ┆ null ┆ Sometimes  ┆ Public_Transpor ┆ Obesity_Type_I │\n",
              "│        ┆      ┆          ┆            ┆   ┆      ┆            ┆ tation          ┆ II             │\n",
              "│ Female ┆ null ┆ 1.738836 ┆ 133.472641 ┆ … ┆ null ┆ Sometimes  ┆ Public_Transpor ┆ Obesity_Type_I │\n",
              "│        ┆      ┆          ┆            ┆   ┆      ┆            ┆ tation          ┆ II             │\n",
              "└────────┴──────┴──────────┴────────────┴───┴──────┴────────────┴─────────────────┴────────────────┘"
            ],
            "text/html": [
              "<div><style>\n",
              ".dataframe > thead > tr,\n",
              ".dataframe > tbody > tr {\n",
              "  text-align: right;\n",
              "  white-space: pre-wrap;\n",
              "}\n",
              "</style>\n",
              "<small>shape: (2_111, 17)</small><table border=\"1\" class=\"dataframe\"><thead><tr><th>Sex</th><th>Age</th><th>Height</th><th>Weight</th><th>family_history_with_overweight</th><th>FAVC</th><th>FCVC</th><th>NCP</th><th>CAEC</th><th>SMOKE</th><th>CH2O</th><th>SCC</th><th>FAF</th><th>TUE</th><th>CALC</th><th>MTRANS</th><th>NObeyesdad</th></tr><tr><td>str</td><td>i64</td><td>f64</td><td>f64</td><td>str</td><td>str</td><td>i64</td><td>i64</td><td>str</td><td>str</td><td>i64</td><td>str</td><td>i64</td><td>i64</td><td>str</td><td>str</td><td>str</td></tr></thead><tbody><tr><td>&quot;Female&quot;</td><td>21</td><td>1.62</td><td>64.0</td><td>&quot;yes&quot;</td><td>&quot;no&quot;</td><td>2</td><td>3</td><td>&quot;Sometimes&quot;</td><td>&quot;no&quot;</td><td>2</td><td>&quot;no&quot;</td><td>0</td><td>1</td><td>&quot;no&quot;</td><td>&quot;Public_Transportation&quot;</td><td>&quot;Normal_Weight&quot;</td></tr><tr><td>&quot;Female&quot;</td><td>21</td><td>1.52</td><td>56.0</td><td>&quot;yes&quot;</td><td>&quot;no&quot;</td><td>3</td><td>3</td><td>&quot;Sometimes&quot;</td><td>&quot;yes&quot;</td><td>3</td><td>&quot;yes&quot;</td><td>3</td><td>0</td><td>&quot;Sometimes&quot;</td><td>&quot;Public_Transportation&quot;</td><td>&quot;Normal_Weight&quot;</td></tr><tr><td>&quot;Male&quot;</td><td>23</td><td>1.8</td><td>77.0</td><td>&quot;yes&quot;</td><td>&quot;no&quot;</td><td>2</td><td>3</td><td>&quot;Sometimes&quot;</td><td>&quot;no&quot;</td><td>2</td><td>&quot;no&quot;</td><td>2</td><td>1</td><td>&quot;Frequently&quot;</td><td>&quot;Public_Transportation&quot;</td><td>&quot;Normal_Weight&quot;</td></tr><tr><td>&quot;Male&quot;</td><td>27</td><td>1.8</td><td>87.0</td><td>&quot;no&quot;</td><td>&quot;no&quot;</td><td>3</td><td>3</td><td>&quot;Sometimes&quot;</td><td>&quot;no&quot;</td><td>2</td><td>&quot;no&quot;</td><td>2</td><td>0</td><td>&quot;Frequently&quot;</td><td>&quot;Walking&quot;</td><td>&quot;Overweight_Level_I&quot;</td></tr><tr><td>&quot;Male&quot;</td><td>22</td><td>1.78</td><td>89.8</td><td>&quot;no&quot;</td><td>&quot;no&quot;</td><td>2</td><td>1</td><td>&quot;Sometimes&quot;</td><td>&quot;no&quot;</td><td>2</td><td>&quot;no&quot;</td><td>0</td><td>0</td><td>&quot;Sometimes&quot;</td><td>&quot;Public_Transportation&quot;</td><td>&quot;Overweight_Level_II&quot;</td></tr><tr><td>&hellip;</td><td>&hellip;</td><td>&hellip;</td><td>&hellip;</td><td>&hellip;</td><td>&hellip;</td><td>&hellip;</td><td>&hellip;</td><td>&hellip;</td><td>&hellip;</td><td>&hellip;</td><td>&hellip;</td><td>&hellip;</td><td>&hellip;</td><td>&hellip;</td><td>&hellip;</td><td>&hellip;</td></tr><tr><td>&quot;Female&quot;</td><td>null</td><td>1.71073</td><td>131.408528</td><td>&quot;yes&quot;</td><td>&quot;yes&quot;</td><td>3</td><td>3</td><td>&quot;Sometimes&quot;</td><td>&quot;no&quot;</td><td>null</td><td>&quot;no&quot;</td><td>null</td><td>null</td><td>&quot;Sometimes&quot;</td><td>&quot;Public_Transportation&quot;</td><td>&quot;Obesity_Type_III&quot;</td></tr><tr><td>&quot;Female&quot;</td><td>null</td><td>1.748584</td><td>133.742943</td><td>&quot;yes&quot;</td><td>&quot;yes&quot;</td><td>3</td><td>3</td><td>&quot;Sometimes&quot;</td><td>&quot;no&quot;</td><td>null</td><td>&quot;no&quot;</td><td>null</td><td>null</td><td>&quot;Sometimes&quot;</td><td>&quot;Public_Transportation&quot;</td><td>&quot;Obesity_Type_III&quot;</td></tr><tr><td>&quot;Female&quot;</td><td>null</td><td>1.752206</td><td>133.689352</td><td>&quot;yes&quot;</td><td>&quot;yes&quot;</td><td>3</td><td>3</td><td>&quot;Sometimes&quot;</td><td>&quot;no&quot;</td><td>null</td><td>&quot;no&quot;</td><td>null</td><td>null</td><td>&quot;Sometimes&quot;</td><td>&quot;Public_Transportation&quot;</td><td>&quot;Obesity_Type_III&quot;</td></tr><tr><td>&quot;Female&quot;</td><td>null</td><td>1.73945</td><td>133.346641</td><td>&quot;yes&quot;</td><td>&quot;yes&quot;</td><td>3</td><td>3</td><td>&quot;Sometimes&quot;</td><td>&quot;no&quot;</td><td>null</td><td>&quot;no&quot;</td><td>null</td><td>null</td><td>&quot;Sometimes&quot;</td><td>&quot;Public_Transportation&quot;</td><td>&quot;Obesity_Type_III&quot;</td></tr><tr><td>&quot;Female&quot;</td><td>null</td><td>1.738836</td><td>133.472641</td><td>&quot;yes&quot;</td><td>&quot;yes&quot;</td><td>3</td><td>3</td><td>&quot;Sometimes&quot;</td><td>&quot;no&quot;</td><td>null</td><td>&quot;no&quot;</td><td>null</td><td>null</td><td>&quot;Sometimes&quot;</td><td>&quot;Public_Transportation&quot;</td><td>&quot;Obesity_Type_III&quot;</td></tr></tbody></table></div>"
            ]
          },
          "metadata": {},
          "execution_count": 32
        }
      ]
    },
    {
      "cell_type": "code",
      "source": [
        "# Removing columns\n",
        "data.drop('TUE')"
      ],
      "metadata": {
        "colab": {
          "base_uri": "https://localhost:8080/",
          "height": 458
        },
        "id": "N3TCjWeAqir-",
        "outputId": "4e1a986e-2d0c-4abb-bb35-ef6a4b7eb4e6"
      },
      "execution_count": 33,
      "outputs": [
        {
          "output_type": "execute_result",
          "data": {
            "text/plain": [
              "shape: (2_111, 16)\n",
              "┌────────┬──────┬──────────┬────────────┬───┬──────┬────────────┬─────────────────┬────────────────┐\n",
              "│ Gender ┆ Age  ┆ Height   ┆ Weight     ┆ … ┆ FAF  ┆ CALC       ┆ MTRANS          ┆ NObeyesdad     │\n",
              "│ ---    ┆ ---  ┆ ---      ┆ ---        ┆   ┆ ---  ┆ ---        ┆ ---             ┆ ---            │\n",
              "│ str    ┆ i64  ┆ f64      ┆ f64        ┆   ┆ i64  ┆ str        ┆ str             ┆ str            │\n",
              "╞════════╪══════╪══════════╪════════════╪═══╪══════╪════════════╪═════════════════╪════════════════╡\n",
              "│ Female ┆ 21   ┆ 1.62     ┆ 64.0       ┆ … ┆ 0    ┆ no         ┆ Public_Transpor ┆ Normal_Weight  │\n",
              "│        ┆      ┆          ┆            ┆   ┆      ┆            ┆ tation          ┆                │\n",
              "│ Female ┆ 21   ┆ 1.52     ┆ 56.0       ┆ … ┆ 3    ┆ Sometimes  ┆ Public_Transpor ┆ Normal_Weight  │\n",
              "│        ┆      ┆          ┆            ┆   ┆      ┆            ┆ tation          ┆                │\n",
              "│ Male   ┆ 23   ┆ 1.8      ┆ 77.0       ┆ … ┆ 2    ┆ Frequently ┆ Public_Transpor ┆ Normal_Weight  │\n",
              "│        ┆      ┆          ┆            ┆   ┆      ┆            ┆ tation          ┆                │\n",
              "│ Male   ┆ 27   ┆ 1.8      ┆ 87.0       ┆ … ┆ 2    ┆ Frequently ┆ Walking         ┆ Overweight_Lev │\n",
              "│        ┆      ┆          ┆            ┆   ┆      ┆            ┆                 ┆ el_I           │\n",
              "│ Male   ┆ 22   ┆ 1.78     ┆ 89.8       ┆ … ┆ 0    ┆ Sometimes  ┆ Public_Transpor ┆ Overweight_Lev │\n",
              "│        ┆      ┆          ┆            ┆   ┆      ┆            ┆ tation          ┆ el_II          │\n",
              "│ …      ┆ …    ┆ …        ┆ …          ┆ … ┆ …    ┆ …          ┆ …               ┆ …              │\n",
              "│ Female ┆ null ┆ 1.71073  ┆ 131.408528 ┆ … ┆ null ┆ Sometimes  ┆ Public_Transpor ┆ Obesity_Type_I │\n",
              "│        ┆      ┆          ┆            ┆   ┆      ┆            ┆ tation          ┆ II             │\n",
              "│ Female ┆ null ┆ 1.748584 ┆ 133.742943 ┆ … ┆ null ┆ Sometimes  ┆ Public_Transpor ┆ Obesity_Type_I │\n",
              "│        ┆      ┆          ┆            ┆   ┆      ┆            ┆ tation          ┆ II             │\n",
              "│ Female ┆ null ┆ 1.752206 ┆ 133.689352 ┆ … ┆ null ┆ Sometimes  ┆ Public_Transpor ┆ Obesity_Type_I │\n",
              "│        ┆      ┆          ┆            ┆   ┆      ┆            ┆ tation          ┆ II             │\n",
              "│ Female ┆ null ┆ 1.73945  ┆ 133.346641 ┆ … ┆ null ┆ Sometimes  ┆ Public_Transpor ┆ Obesity_Type_I │\n",
              "│        ┆      ┆          ┆            ┆   ┆      ┆            ┆ tation          ┆ II             │\n",
              "│ Female ┆ null ┆ 1.738836 ┆ 133.472641 ┆ … ┆ null ┆ Sometimes  ┆ Public_Transpor ┆ Obesity_Type_I │\n",
              "│        ┆      ┆          ┆            ┆   ┆      ┆            ┆ tation          ┆ II             │\n",
              "└────────┴──────┴──────────┴────────────┴───┴──────┴────────────┴─────────────────┴────────────────┘"
            ],
            "text/html": [
              "<div><style>\n",
              ".dataframe > thead > tr,\n",
              ".dataframe > tbody > tr {\n",
              "  text-align: right;\n",
              "  white-space: pre-wrap;\n",
              "}\n",
              "</style>\n",
              "<small>shape: (2_111, 16)</small><table border=\"1\" class=\"dataframe\"><thead><tr><th>Gender</th><th>Age</th><th>Height</th><th>Weight</th><th>family_history_with_overweight</th><th>FAVC</th><th>FCVC</th><th>NCP</th><th>CAEC</th><th>SMOKE</th><th>CH2O</th><th>SCC</th><th>FAF</th><th>CALC</th><th>MTRANS</th><th>NObeyesdad</th></tr><tr><td>str</td><td>i64</td><td>f64</td><td>f64</td><td>str</td><td>str</td><td>i64</td><td>i64</td><td>str</td><td>str</td><td>i64</td><td>str</td><td>i64</td><td>str</td><td>str</td><td>str</td></tr></thead><tbody><tr><td>&quot;Female&quot;</td><td>21</td><td>1.62</td><td>64.0</td><td>&quot;yes&quot;</td><td>&quot;no&quot;</td><td>2</td><td>3</td><td>&quot;Sometimes&quot;</td><td>&quot;no&quot;</td><td>2</td><td>&quot;no&quot;</td><td>0</td><td>&quot;no&quot;</td><td>&quot;Public_Transportation&quot;</td><td>&quot;Normal_Weight&quot;</td></tr><tr><td>&quot;Female&quot;</td><td>21</td><td>1.52</td><td>56.0</td><td>&quot;yes&quot;</td><td>&quot;no&quot;</td><td>3</td><td>3</td><td>&quot;Sometimes&quot;</td><td>&quot;yes&quot;</td><td>3</td><td>&quot;yes&quot;</td><td>3</td><td>&quot;Sometimes&quot;</td><td>&quot;Public_Transportation&quot;</td><td>&quot;Normal_Weight&quot;</td></tr><tr><td>&quot;Male&quot;</td><td>23</td><td>1.8</td><td>77.0</td><td>&quot;yes&quot;</td><td>&quot;no&quot;</td><td>2</td><td>3</td><td>&quot;Sometimes&quot;</td><td>&quot;no&quot;</td><td>2</td><td>&quot;no&quot;</td><td>2</td><td>&quot;Frequently&quot;</td><td>&quot;Public_Transportation&quot;</td><td>&quot;Normal_Weight&quot;</td></tr><tr><td>&quot;Male&quot;</td><td>27</td><td>1.8</td><td>87.0</td><td>&quot;no&quot;</td><td>&quot;no&quot;</td><td>3</td><td>3</td><td>&quot;Sometimes&quot;</td><td>&quot;no&quot;</td><td>2</td><td>&quot;no&quot;</td><td>2</td><td>&quot;Frequently&quot;</td><td>&quot;Walking&quot;</td><td>&quot;Overweight_Level_I&quot;</td></tr><tr><td>&quot;Male&quot;</td><td>22</td><td>1.78</td><td>89.8</td><td>&quot;no&quot;</td><td>&quot;no&quot;</td><td>2</td><td>1</td><td>&quot;Sometimes&quot;</td><td>&quot;no&quot;</td><td>2</td><td>&quot;no&quot;</td><td>0</td><td>&quot;Sometimes&quot;</td><td>&quot;Public_Transportation&quot;</td><td>&quot;Overweight_Level_II&quot;</td></tr><tr><td>&hellip;</td><td>&hellip;</td><td>&hellip;</td><td>&hellip;</td><td>&hellip;</td><td>&hellip;</td><td>&hellip;</td><td>&hellip;</td><td>&hellip;</td><td>&hellip;</td><td>&hellip;</td><td>&hellip;</td><td>&hellip;</td><td>&hellip;</td><td>&hellip;</td><td>&hellip;</td></tr><tr><td>&quot;Female&quot;</td><td>null</td><td>1.71073</td><td>131.408528</td><td>&quot;yes&quot;</td><td>&quot;yes&quot;</td><td>3</td><td>3</td><td>&quot;Sometimes&quot;</td><td>&quot;no&quot;</td><td>null</td><td>&quot;no&quot;</td><td>null</td><td>&quot;Sometimes&quot;</td><td>&quot;Public_Transportation&quot;</td><td>&quot;Obesity_Type_III&quot;</td></tr><tr><td>&quot;Female&quot;</td><td>null</td><td>1.748584</td><td>133.742943</td><td>&quot;yes&quot;</td><td>&quot;yes&quot;</td><td>3</td><td>3</td><td>&quot;Sometimes&quot;</td><td>&quot;no&quot;</td><td>null</td><td>&quot;no&quot;</td><td>null</td><td>&quot;Sometimes&quot;</td><td>&quot;Public_Transportation&quot;</td><td>&quot;Obesity_Type_III&quot;</td></tr><tr><td>&quot;Female&quot;</td><td>null</td><td>1.752206</td><td>133.689352</td><td>&quot;yes&quot;</td><td>&quot;yes&quot;</td><td>3</td><td>3</td><td>&quot;Sometimes&quot;</td><td>&quot;no&quot;</td><td>null</td><td>&quot;no&quot;</td><td>null</td><td>&quot;Sometimes&quot;</td><td>&quot;Public_Transportation&quot;</td><td>&quot;Obesity_Type_III&quot;</td></tr><tr><td>&quot;Female&quot;</td><td>null</td><td>1.73945</td><td>133.346641</td><td>&quot;yes&quot;</td><td>&quot;yes&quot;</td><td>3</td><td>3</td><td>&quot;Sometimes&quot;</td><td>&quot;no&quot;</td><td>null</td><td>&quot;no&quot;</td><td>null</td><td>&quot;Sometimes&quot;</td><td>&quot;Public_Transportation&quot;</td><td>&quot;Obesity_Type_III&quot;</td></tr><tr><td>&quot;Female&quot;</td><td>null</td><td>1.738836</td><td>133.472641</td><td>&quot;yes&quot;</td><td>&quot;yes&quot;</td><td>3</td><td>3</td><td>&quot;Sometimes&quot;</td><td>&quot;no&quot;</td><td>null</td><td>&quot;no&quot;</td><td>null</td><td>&quot;Sometimes&quot;</td><td>&quot;Public_Transportation&quot;</td><td>&quot;Obesity_Type_III&quot;</td></tr></tbody></table></div>"
            ]
          },
          "metadata": {},
          "execution_count": 33
        }
      ]
    },
    {
      "cell_type": "markdown",
      "source": [
        "### Working with multiple columns"
      ],
      "metadata": {
        "id": "938iX3EQtq-r"
      }
    },
    {
      "cell_type": "code",
      "source": [
        "data.with_columns(pl.col(\"Gender\", \"CAEC\").str.len_chars()) # work with strings"
      ],
      "metadata": {
        "colab": {
          "base_uri": "https://localhost:8080/",
          "height": 458
        },
        "id": "dR2OGJCZtwtk",
        "outputId": "dbf17b40-557b-4b2c-f13e-64f0012a9777"
      },
      "execution_count": 34,
      "outputs": [
        {
          "output_type": "execute_result",
          "data": {
            "text/plain": [
              "shape: (2_111, 17)\n",
              "┌────────┬──────┬──────────┬────────────┬───┬──────┬────────────┬─────────────────┬────────────────┐\n",
              "│ Gender ┆ Age  ┆ Height   ┆ Weight     ┆ … ┆ TUE  ┆ CALC       ┆ MTRANS          ┆ NObeyesdad     │\n",
              "│ ---    ┆ ---  ┆ ---      ┆ ---        ┆   ┆ ---  ┆ ---        ┆ ---             ┆ ---            │\n",
              "│ u32    ┆ i64  ┆ f64      ┆ f64        ┆   ┆ i64  ┆ str        ┆ str             ┆ str            │\n",
              "╞════════╪══════╪══════════╪════════════╪═══╪══════╪════════════╪═════════════════╪════════════════╡\n",
              "│ 6      ┆ 21   ┆ 1.62     ┆ 64.0       ┆ … ┆ 1    ┆ no         ┆ Public_Transpor ┆ Normal_Weight  │\n",
              "│        ┆      ┆          ┆            ┆   ┆      ┆            ┆ tation          ┆                │\n",
              "│ 6      ┆ 21   ┆ 1.52     ┆ 56.0       ┆ … ┆ 0    ┆ Sometimes  ┆ Public_Transpor ┆ Normal_Weight  │\n",
              "│        ┆      ┆          ┆            ┆   ┆      ┆            ┆ tation          ┆                │\n",
              "│ 4      ┆ 23   ┆ 1.8      ┆ 77.0       ┆ … ┆ 1    ┆ Frequently ┆ Public_Transpor ┆ Normal_Weight  │\n",
              "│        ┆      ┆          ┆            ┆   ┆      ┆            ┆ tation          ┆                │\n",
              "│ 4      ┆ 27   ┆ 1.8      ┆ 87.0       ┆ … ┆ 0    ┆ Frequently ┆ Walking         ┆ Overweight_Lev │\n",
              "│        ┆      ┆          ┆            ┆   ┆      ┆            ┆                 ┆ el_I           │\n",
              "│ 4      ┆ 22   ┆ 1.78     ┆ 89.8       ┆ … ┆ 0    ┆ Sometimes  ┆ Public_Transpor ┆ Overweight_Lev │\n",
              "│        ┆      ┆          ┆            ┆   ┆      ┆            ┆ tation          ┆ el_II          │\n",
              "│ …      ┆ …    ┆ …        ┆ …          ┆ … ┆ …    ┆ …          ┆ …               ┆ …              │\n",
              "│ 6      ┆ null ┆ 1.71073  ┆ 131.408528 ┆ … ┆ null ┆ Sometimes  ┆ Public_Transpor ┆ Obesity_Type_I │\n",
              "│        ┆      ┆          ┆            ┆   ┆      ┆            ┆ tation          ┆ II             │\n",
              "│ 6      ┆ null ┆ 1.748584 ┆ 133.742943 ┆ … ┆ null ┆ Sometimes  ┆ Public_Transpor ┆ Obesity_Type_I │\n",
              "│        ┆      ┆          ┆            ┆   ┆      ┆            ┆ tation          ┆ II             │\n",
              "│ 6      ┆ null ┆ 1.752206 ┆ 133.689352 ┆ … ┆ null ┆ Sometimes  ┆ Public_Transpor ┆ Obesity_Type_I │\n",
              "│        ┆      ┆          ┆            ┆   ┆      ┆            ┆ tation          ┆ II             │\n",
              "│ 6      ┆ null ┆ 1.73945  ┆ 133.346641 ┆ … ┆ null ┆ Sometimes  ┆ Public_Transpor ┆ Obesity_Type_I │\n",
              "│        ┆      ┆          ┆            ┆   ┆      ┆            ┆ tation          ┆ II             │\n",
              "│ 6      ┆ null ┆ 1.738836 ┆ 133.472641 ┆ … ┆ null ┆ Sometimes  ┆ Public_Transpor ┆ Obesity_Type_I │\n",
              "│        ┆      ┆          ┆            ┆   ┆      ┆            ┆ tation          ┆ II             │\n",
              "└────────┴──────┴──────────┴────────────┴───┴──────┴────────────┴─────────────────┴────────────────┘"
            ],
            "text/html": [
              "<div><style>\n",
              ".dataframe > thead > tr,\n",
              ".dataframe > tbody > tr {\n",
              "  text-align: right;\n",
              "  white-space: pre-wrap;\n",
              "}\n",
              "</style>\n",
              "<small>shape: (2_111, 17)</small><table border=\"1\" class=\"dataframe\"><thead><tr><th>Gender</th><th>Age</th><th>Height</th><th>Weight</th><th>family_history_with_overweight</th><th>FAVC</th><th>FCVC</th><th>NCP</th><th>CAEC</th><th>SMOKE</th><th>CH2O</th><th>SCC</th><th>FAF</th><th>TUE</th><th>CALC</th><th>MTRANS</th><th>NObeyesdad</th></tr><tr><td>u32</td><td>i64</td><td>f64</td><td>f64</td><td>str</td><td>str</td><td>i64</td><td>i64</td><td>u32</td><td>str</td><td>i64</td><td>str</td><td>i64</td><td>i64</td><td>str</td><td>str</td><td>str</td></tr></thead><tbody><tr><td>6</td><td>21</td><td>1.62</td><td>64.0</td><td>&quot;yes&quot;</td><td>&quot;no&quot;</td><td>2</td><td>3</td><td>9</td><td>&quot;no&quot;</td><td>2</td><td>&quot;no&quot;</td><td>0</td><td>1</td><td>&quot;no&quot;</td><td>&quot;Public_Transportation&quot;</td><td>&quot;Normal_Weight&quot;</td></tr><tr><td>6</td><td>21</td><td>1.52</td><td>56.0</td><td>&quot;yes&quot;</td><td>&quot;no&quot;</td><td>3</td><td>3</td><td>9</td><td>&quot;yes&quot;</td><td>3</td><td>&quot;yes&quot;</td><td>3</td><td>0</td><td>&quot;Sometimes&quot;</td><td>&quot;Public_Transportation&quot;</td><td>&quot;Normal_Weight&quot;</td></tr><tr><td>4</td><td>23</td><td>1.8</td><td>77.0</td><td>&quot;yes&quot;</td><td>&quot;no&quot;</td><td>2</td><td>3</td><td>9</td><td>&quot;no&quot;</td><td>2</td><td>&quot;no&quot;</td><td>2</td><td>1</td><td>&quot;Frequently&quot;</td><td>&quot;Public_Transportation&quot;</td><td>&quot;Normal_Weight&quot;</td></tr><tr><td>4</td><td>27</td><td>1.8</td><td>87.0</td><td>&quot;no&quot;</td><td>&quot;no&quot;</td><td>3</td><td>3</td><td>9</td><td>&quot;no&quot;</td><td>2</td><td>&quot;no&quot;</td><td>2</td><td>0</td><td>&quot;Frequently&quot;</td><td>&quot;Walking&quot;</td><td>&quot;Overweight_Level_I&quot;</td></tr><tr><td>4</td><td>22</td><td>1.78</td><td>89.8</td><td>&quot;no&quot;</td><td>&quot;no&quot;</td><td>2</td><td>1</td><td>9</td><td>&quot;no&quot;</td><td>2</td><td>&quot;no&quot;</td><td>0</td><td>0</td><td>&quot;Sometimes&quot;</td><td>&quot;Public_Transportation&quot;</td><td>&quot;Overweight_Level_II&quot;</td></tr><tr><td>&hellip;</td><td>&hellip;</td><td>&hellip;</td><td>&hellip;</td><td>&hellip;</td><td>&hellip;</td><td>&hellip;</td><td>&hellip;</td><td>&hellip;</td><td>&hellip;</td><td>&hellip;</td><td>&hellip;</td><td>&hellip;</td><td>&hellip;</td><td>&hellip;</td><td>&hellip;</td><td>&hellip;</td></tr><tr><td>6</td><td>null</td><td>1.71073</td><td>131.408528</td><td>&quot;yes&quot;</td><td>&quot;yes&quot;</td><td>3</td><td>3</td><td>9</td><td>&quot;no&quot;</td><td>null</td><td>&quot;no&quot;</td><td>null</td><td>null</td><td>&quot;Sometimes&quot;</td><td>&quot;Public_Transportation&quot;</td><td>&quot;Obesity_Type_III&quot;</td></tr><tr><td>6</td><td>null</td><td>1.748584</td><td>133.742943</td><td>&quot;yes&quot;</td><td>&quot;yes&quot;</td><td>3</td><td>3</td><td>9</td><td>&quot;no&quot;</td><td>null</td><td>&quot;no&quot;</td><td>null</td><td>null</td><td>&quot;Sometimes&quot;</td><td>&quot;Public_Transportation&quot;</td><td>&quot;Obesity_Type_III&quot;</td></tr><tr><td>6</td><td>null</td><td>1.752206</td><td>133.689352</td><td>&quot;yes&quot;</td><td>&quot;yes&quot;</td><td>3</td><td>3</td><td>9</td><td>&quot;no&quot;</td><td>null</td><td>&quot;no&quot;</td><td>null</td><td>null</td><td>&quot;Sometimes&quot;</td><td>&quot;Public_Transportation&quot;</td><td>&quot;Obesity_Type_III&quot;</td></tr><tr><td>6</td><td>null</td><td>1.73945</td><td>133.346641</td><td>&quot;yes&quot;</td><td>&quot;yes&quot;</td><td>3</td><td>3</td><td>9</td><td>&quot;no&quot;</td><td>null</td><td>&quot;no&quot;</td><td>null</td><td>null</td><td>&quot;Sometimes&quot;</td><td>&quot;Public_Transportation&quot;</td><td>&quot;Obesity_Type_III&quot;</td></tr><tr><td>6</td><td>null</td><td>1.738836</td><td>133.472641</td><td>&quot;yes&quot;</td><td>&quot;yes&quot;</td><td>3</td><td>3</td><td>9</td><td>&quot;no&quot;</td><td>null</td><td>&quot;no&quot;</td><td>null</td><td>null</td><td>&quot;Sometimes&quot;</td><td>&quot;Public_Transportation&quot;</td><td>&quot;Obesity_Type_III&quot;</td></tr></tbody></table></div>"
            ]
          },
          "metadata": {},
          "execution_count": 34
        }
      ]
    },
    {
      "cell_type": "code",
      "source": [
        "# Work with all string columns\n",
        "data.with_columns(pl.col(pl.String).str.len_chars())"
      ],
      "metadata": {
        "colab": {
          "base_uri": "https://localhost:8080/",
          "height": 458
        },
        "id": "baKebb2tuOiL",
        "outputId": "140df3f7-540a-4ee9-84cc-20c8a1fa0991"
      },
      "execution_count": 35,
      "outputs": [
        {
          "output_type": "execute_result",
          "data": {
            "text/plain": [
              "shape: (2_111, 17)\n",
              "┌────────┬──────┬──────────┬────────────┬───┬──────┬──────┬────────┬────────────┐\n",
              "│ Gender ┆ Age  ┆ Height   ┆ Weight     ┆ … ┆ TUE  ┆ CALC ┆ MTRANS ┆ NObeyesdad │\n",
              "│ ---    ┆ ---  ┆ ---      ┆ ---        ┆   ┆ ---  ┆ ---  ┆ ---    ┆ ---        │\n",
              "│ u32    ┆ i64  ┆ f64      ┆ f64        ┆   ┆ i64  ┆ u32  ┆ u32    ┆ u32        │\n",
              "╞════════╪══════╪══════════╪════════════╪═══╪══════╪══════╪════════╪════════════╡\n",
              "│ 6      ┆ 21   ┆ 1.62     ┆ 64.0       ┆ … ┆ 1    ┆ 2    ┆ 21     ┆ 13         │\n",
              "│ 6      ┆ 21   ┆ 1.52     ┆ 56.0       ┆ … ┆ 0    ┆ 9    ┆ 21     ┆ 13         │\n",
              "│ 4      ┆ 23   ┆ 1.8      ┆ 77.0       ┆ … ┆ 1    ┆ 10   ┆ 21     ┆ 13         │\n",
              "│ 4      ┆ 27   ┆ 1.8      ┆ 87.0       ┆ … ┆ 0    ┆ 10   ┆ 7      ┆ 18         │\n",
              "│ 4      ┆ 22   ┆ 1.78     ┆ 89.8       ┆ … ┆ 0    ┆ 9    ┆ 21     ┆ 19         │\n",
              "│ …      ┆ …    ┆ …        ┆ …          ┆ … ┆ …    ┆ …    ┆ …      ┆ …          │\n",
              "│ 6      ┆ null ┆ 1.71073  ┆ 131.408528 ┆ … ┆ null ┆ 9    ┆ 21     ┆ 16         │\n",
              "│ 6      ┆ null ┆ 1.748584 ┆ 133.742943 ┆ … ┆ null ┆ 9    ┆ 21     ┆ 16         │\n",
              "│ 6      ┆ null ┆ 1.752206 ┆ 133.689352 ┆ … ┆ null ┆ 9    ┆ 21     ┆ 16         │\n",
              "│ 6      ┆ null ┆ 1.73945  ┆ 133.346641 ┆ … ┆ null ┆ 9    ┆ 21     ┆ 16         │\n",
              "│ 6      ┆ null ┆ 1.738836 ┆ 133.472641 ┆ … ┆ null ┆ 9    ┆ 21     ┆ 16         │\n",
              "└────────┴──────┴──────────┴────────────┴───┴──────┴──────┴────────┴────────────┘"
            ],
            "text/html": [
              "<div><style>\n",
              ".dataframe > thead > tr,\n",
              ".dataframe > tbody > tr {\n",
              "  text-align: right;\n",
              "  white-space: pre-wrap;\n",
              "}\n",
              "</style>\n",
              "<small>shape: (2_111, 17)</small><table border=\"1\" class=\"dataframe\"><thead><tr><th>Gender</th><th>Age</th><th>Height</th><th>Weight</th><th>family_history_with_overweight</th><th>FAVC</th><th>FCVC</th><th>NCP</th><th>CAEC</th><th>SMOKE</th><th>CH2O</th><th>SCC</th><th>FAF</th><th>TUE</th><th>CALC</th><th>MTRANS</th><th>NObeyesdad</th></tr><tr><td>u32</td><td>i64</td><td>f64</td><td>f64</td><td>u32</td><td>u32</td><td>i64</td><td>i64</td><td>u32</td><td>u32</td><td>i64</td><td>u32</td><td>i64</td><td>i64</td><td>u32</td><td>u32</td><td>u32</td></tr></thead><tbody><tr><td>6</td><td>21</td><td>1.62</td><td>64.0</td><td>3</td><td>2</td><td>2</td><td>3</td><td>9</td><td>2</td><td>2</td><td>2</td><td>0</td><td>1</td><td>2</td><td>21</td><td>13</td></tr><tr><td>6</td><td>21</td><td>1.52</td><td>56.0</td><td>3</td><td>2</td><td>3</td><td>3</td><td>9</td><td>3</td><td>3</td><td>3</td><td>3</td><td>0</td><td>9</td><td>21</td><td>13</td></tr><tr><td>4</td><td>23</td><td>1.8</td><td>77.0</td><td>3</td><td>2</td><td>2</td><td>3</td><td>9</td><td>2</td><td>2</td><td>2</td><td>2</td><td>1</td><td>10</td><td>21</td><td>13</td></tr><tr><td>4</td><td>27</td><td>1.8</td><td>87.0</td><td>2</td><td>2</td><td>3</td><td>3</td><td>9</td><td>2</td><td>2</td><td>2</td><td>2</td><td>0</td><td>10</td><td>7</td><td>18</td></tr><tr><td>4</td><td>22</td><td>1.78</td><td>89.8</td><td>2</td><td>2</td><td>2</td><td>1</td><td>9</td><td>2</td><td>2</td><td>2</td><td>0</td><td>0</td><td>9</td><td>21</td><td>19</td></tr><tr><td>&hellip;</td><td>&hellip;</td><td>&hellip;</td><td>&hellip;</td><td>&hellip;</td><td>&hellip;</td><td>&hellip;</td><td>&hellip;</td><td>&hellip;</td><td>&hellip;</td><td>&hellip;</td><td>&hellip;</td><td>&hellip;</td><td>&hellip;</td><td>&hellip;</td><td>&hellip;</td><td>&hellip;</td></tr><tr><td>6</td><td>null</td><td>1.71073</td><td>131.408528</td><td>3</td><td>3</td><td>3</td><td>3</td><td>9</td><td>2</td><td>null</td><td>2</td><td>null</td><td>null</td><td>9</td><td>21</td><td>16</td></tr><tr><td>6</td><td>null</td><td>1.748584</td><td>133.742943</td><td>3</td><td>3</td><td>3</td><td>3</td><td>9</td><td>2</td><td>null</td><td>2</td><td>null</td><td>null</td><td>9</td><td>21</td><td>16</td></tr><tr><td>6</td><td>null</td><td>1.752206</td><td>133.689352</td><td>3</td><td>3</td><td>3</td><td>3</td><td>9</td><td>2</td><td>null</td><td>2</td><td>null</td><td>null</td><td>9</td><td>21</td><td>16</td></tr><tr><td>6</td><td>null</td><td>1.73945</td><td>133.346641</td><td>3</td><td>3</td><td>3</td><td>3</td><td>9</td><td>2</td><td>null</td><td>2</td><td>null</td><td>null</td><td>9</td><td>21</td><td>16</td></tr><tr><td>6</td><td>null</td><td>1.738836</td><td>133.472641</td><td>3</td><td>3</td><td>3</td><td>3</td><td>9</td><td>2</td><td>null</td><td>2</td><td>null</td><td>null</td><td>9</td><td>21</td><td>16</td></tr></tbody></table></div>"
            ]
          },
          "metadata": {},
          "execution_count": 35
        }
      ]
    },
    {
      "cell_type": "code",
      "source": [
        "# Select all columns with similar dtypes\n",
        "# both (+previous) select all string columns and replace them with their character counts (per row)\n",
        "data.with_columns(pl.selectors.string().str.len_chars())"
      ],
      "metadata": {
        "colab": {
          "base_uri": "https://localhost:8080/",
          "height": 458
        },
        "id": "sNDJ1Sp-ukpe",
        "outputId": "d1016ab8-d233-4b36-bb0c-b8d744c42f95"
      },
      "execution_count": 36,
      "outputs": [
        {
          "output_type": "execute_result",
          "data": {
            "text/plain": [
              "shape: (2_111, 17)\n",
              "┌────────┬──────┬──────────┬────────────┬───┬──────┬──────┬────────┬────────────┐\n",
              "│ Gender ┆ Age  ┆ Height   ┆ Weight     ┆ … ┆ TUE  ┆ CALC ┆ MTRANS ┆ NObeyesdad │\n",
              "│ ---    ┆ ---  ┆ ---      ┆ ---        ┆   ┆ ---  ┆ ---  ┆ ---    ┆ ---        │\n",
              "│ u32    ┆ i64  ┆ f64      ┆ f64        ┆   ┆ i64  ┆ u32  ┆ u32    ┆ u32        │\n",
              "╞════════╪══════╪══════════╪════════════╪═══╪══════╪══════╪════════╪════════════╡\n",
              "│ 6      ┆ 21   ┆ 1.62     ┆ 64.0       ┆ … ┆ 1    ┆ 2    ┆ 21     ┆ 13         │\n",
              "│ 6      ┆ 21   ┆ 1.52     ┆ 56.0       ┆ … ┆ 0    ┆ 9    ┆ 21     ┆ 13         │\n",
              "│ 4      ┆ 23   ┆ 1.8      ┆ 77.0       ┆ … ┆ 1    ┆ 10   ┆ 21     ┆ 13         │\n",
              "│ 4      ┆ 27   ┆ 1.8      ┆ 87.0       ┆ … ┆ 0    ┆ 10   ┆ 7      ┆ 18         │\n",
              "│ 4      ┆ 22   ┆ 1.78     ┆ 89.8       ┆ … ┆ 0    ┆ 9    ┆ 21     ┆ 19         │\n",
              "│ …      ┆ …    ┆ …        ┆ …          ┆ … ┆ …    ┆ …    ┆ …      ┆ …          │\n",
              "│ 6      ┆ null ┆ 1.71073  ┆ 131.408528 ┆ … ┆ null ┆ 9    ┆ 21     ┆ 16         │\n",
              "│ 6      ┆ null ┆ 1.748584 ┆ 133.742943 ┆ … ┆ null ┆ 9    ┆ 21     ┆ 16         │\n",
              "│ 6      ┆ null ┆ 1.752206 ┆ 133.689352 ┆ … ┆ null ┆ 9    ┆ 21     ┆ 16         │\n",
              "│ 6      ┆ null ┆ 1.73945  ┆ 133.346641 ┆ … ┆ null ┆ 9    ┆ 21     ┆ 16         │\n",
              "│ 6      ┆ null ┆ 1.738836 ┆ 133.472641 ┆ … ┆ null ┆ 9    ┆ 21     ┆ 16         │\n",
              "└────────┴──────┴──────────┴────────────┴───┴──────┴──────┴────────┴────────────┘"
            ],
            "text/html": [
              "<div><style>\n",
              ".dataframe > thead > tr,\n",
              ".dataframe > tbody > tr {\n",
              "  text-align: right;\n",
              "  white-space: pre-wrap;\n",
              "}\n",
              "</style>\n",
              "<small>shape: (2_111, 17)</small><table border=\"1\" class=\"dataframe\"><thead><tr><th>Gender</th><th>Age</th><th>Height</th><th>Weight</th><th>family_history_with_overweight</th><th>FAVC</th><th>FCVC</th><th>NCP</th><th>CAEC</th><th>SMOKE</th><th>CH2O</th><th>SCC</th><th>FAF</th><th>TUE</th><th>CALC</th><th>MTRANS</th><th>NObeyesdad</th></tr><tr><td>u32</td><td>i64</td><td>f64</td><td>f64</td><td>u32</td><td>u32</td><td>i64</td><td>i64</td><td>u32</td><td>u32</td><td>i64</td><td>u32</td><td>i64</td><td>i64</td><td>u32</td><td>u32</td><td>u32</td></tr></thead><tbody><tr><td>6</td><td>21</td><td>1.62</td><td>64.0</td><td>3</td><td>2</td><td>2</td><td>3</td><td>9</td><td>2</td><td>2</td><td>2</td><td>0</td><td>1</td><td>2</td><td>21</td><td>13</td></tr><tr><td>6</td><td>21</td><td>1.52</td><td>56.0</td><td>3</td><td>2</td><td>3</td><td>3</td><td>9</td><td>3</td><td>3</td><td>3</td><td>3</td><td>0</td><td>9</td><td>21</td><td>13</td></tr><tr><td>4</td><td>23</td><td>1.8</td><td>77.0</td><td>3</td><td>2</td><td>2</td><td>3</td><td>9</td><td>2</td><td>2</td><td>2</td><td>2</td><td>1</td><td>10</td><td>21</td><td>13</td></tr><tr><td>4</td><td>27</td><td>1.8</td><td>87.0</td><td>2</td><td>2</td><td>3</td><td>3</td><td>9</td><td>2</td><td>2</td><td>2</td><td>2</td><td>0</td><td>10</td><td>7</td><td>18</td></tr><tr><td>4</td><td>22</td><td>1.78</td><td>89.8</td><td>2</td><td>2</td><td>2</td><td>1</td><td>9</td><td>2</td><td>2</td><td>2</td><td>0</td><td>0</td><td>9</td><td>21</td><td>19</td></tr><tr><td>&hellip;</td><td>&hellip;</td><td>&hellip;</td><td>&hellip;</td><td>&hellip;</td><td>&hellip;</td><td>&hellip;</td><td>&hellip;</td><td>&hellip;</td><td>&hellip;</td><td>&hellip;</td><td>&hellip;</td><td>&hellip;</td><td>&hellip;</td><td>&hellip;</td><td>&hellip;</td><td>&hellip;</td></tr><tr><td>6</td><td>null</td><td>1.71073</td><td>131.408528</td><td>3</td><td>3</td><td>3</td><td>3</td><td>9</td><td>2</td><td>null</td><td>2</td><td>null</td><td>null</td><td>9</td><td>21</td><td>16</td></tr><tr><td>6</td><td>null</td><td>1.748584</td><td>133.742943</td><td>3</td><td>3</td><td>3</td><td>3</td><td>9</td><td>2</td><td>null</td><td>2</td><td>null</td><td>null</td><td>9</td><td>21</td><td>16</td></tr><tr><td>6</td><td>null</td><td>1.752206</td><td>133.689352</td><td>3</td><td>3</td><td>3</td><td>3</td><td>9</td><td>2</td><td>null</td><td>2</td><td>null</td><td>null</td><td>9</td><td>21</td><td>16</td></tr><tr><td>6</td><td>null</td><td>1.73945</td><td>133.346641</td><td>3</td><td>3</td><td>3</td><td>3</td><td>9</td><td>2</td><td>null</td><td>2</td><td>null</td><td>null</td><td>9</td><td>21</td><td>16</td></tr><tr><td>6</td><td>null</td><td>1.738836</td><td>133.472641</td><td>3</td><td>3</td><td>3</td><td>3</td><td>9</td><td>2</td><td>null</td><td>2</td><td>null</td><td>null</td><td>9</td><td>21</td><td>16</td></tr></tbody></table></div>"
            ]
          },
          "metadata": {},
          "execution_count": 36
        }
      ]
    },
    {
      "cell_type": "code",
      "source": [
        "# Find the columns with similar pattern\n",
        "data.select(pl.selectors.ends_with(\"C\"))"
      ],
      "metadata": {
        "colab": {
          "base_uri": "https://localhost:8080/",
          "height": 438
        },
        "id": "WNEyqFaivUe9",
        "outputId": "fe293a9f-e903-4af1-d502-6a49902efcf0"
      },
      "execution_count": 37,
      "outputs": [
        {
          "output_type": "execute_result",
          "data": {
            "text/plain": [
              "shape: (2_111, 5)\n",
              "┌──────┬──────┬───────────┬─────┬────────────┐\n",
              "│ FAVC ┆ FCVC ┆ CAEC      ┆ SCC ┆ CALC       │\n",
              "│ ---  ┆ ---  ┆ ---       ┆ --- ┆ ---        │\n",
              "│ str  ┆ i64  ┆ str       ┆ str ┆ str        │\n",
              "╞══════╪══════╪═══════════╪═════╪════════════╡\n",
              "│ no   ┆ 2    ┆ Sometimes ┆ no  ┆ no         │\n",
              "│ no   ┆ 3    ┆ Sometimes ┆ yes ┆ Sometimes  │\n",
              "│ no   ┆ 2    ┆ Sometimes ┆ no  ┆ Frequently │\n",
              "│ no   ┆ 3    ┆ Sometimes ┆ no  ┆ Frequently │\n",
              "│ no   ┆ 2    ┆ Sometimes ┆ no  ┆ Sometimes  │\n",
              "│ …    ┆ …    ┆ …         ┆ …   ┆ …          │\n",
              "│ yes  ┆ 3    ┆ Sometimes ┆ no  ┆ Sometimes  │\n",
              "│ yes  ┆ 3    ┆ Sometimes ┆ no  ┆ Sometimes  │\n",
              "│ yes  ┆ 3    ┆ Sometimes ┆ no  ┆ Sometimes  │\n",
              "│ yes  ┆ 3    ┆ Sometimes ┆ no  ┆ Sometimes  │\n",
              "│ yes  ┆ 3    ┆ Sometimes ┆ no  ┆ Sometimes  │\n",
              "└──────┴──────┴───────────┴─────┴────────────┘"
            ],
            "text/html": [
              "<div><style>\n",
              ".dataframe > thead > tr,\n",
              ".dataframe > tbody > tr {\n",
              "  text-align: right;\n",
              "  white-space: pre-wrap;\n",
              "}\n",
              "</style>\n",
              "<small>shape: (2_111, 5)</small><table border=\"1\" class=\"dataframe\"><thead><tr><th>FAVC</th><th>FCVC</th><th>CAEC</th><th>SCC</th><th>CALC</th></tr><tr><td>str</td><td>i64</td><td>str</td><td>str</td><td>str</td></tr></thead><tbody><tr><td>&quot;no&quot;</td><td>2</td><td>&quot;Sometimes&quot;</td><td>&quot;no&quot;</td><td>&quot;no&quot;</td></tr><tr><td>&quot;no&quot;</td><td>3</td><td>&quot;Sometimes&quot;</td><td>&quot;yes&quot;</td><td>&quot;Sometimes&quot;</td></tr><tr><td>&quot;no&quot;</td><td>2</td><td>&quot;Sometimes&quot;</td><td>&quot;no&quot;</td><td>&quot;Frequently&quot;</td></tr><tr><td>&quot;no&quot;</td><td>3</td><td>&quot;Sometimes&quot;</td><td>&quot;no&quot;</td><td>&quot;Frequently&quot;</td></tr><tr><td>&quot;no&quot;</td><td>2</td><td>&quot;Sometimes&quot;</td><td>&quot;no&quot;</td><td>&quot;Sometimes&quot;</td></tr><tr><td>&hellip;</td><td>&hellip;</td><td>&hellip;</td><td>&hellip;</td><td>&hellip;</td></tr><tr><td>&quot;yes&quot;</td><td>3</td><td>&quot;Sometimes&quot;</td><td>&quot;no&quot;</td><td>&quot;Sometimes&quot;</td></tr><tr><td>&quot;yes&quot;</td><td>3</td><td>&quot;Sometimes&quot;</td><td>&quot;no&quot;</td><td>&quot;Sometimes&quot;</td></tr><tr><td>&quot;yes&quot;</td><td>3</td><td>&quot;Sometimes&quot;</td><td>&quot;no&quot;</td><td>&quot;Sometimes&quot;</td></tr><tr><td>&quot;yes&quot;</td><td>3</td><td>&quot;Sometimes&quot;</td><td>&quot;no&quot;</td><td>&quot;Sometimes&quot;</td></tr><tr><td>&quot;yes&quot;</td><td>3</td><td>&quot;Sometimes&quot;</td><td>&quot;no&quot;</td><td>&quot;Sometimes&quot;</td></tr></tbody></table></div>"
            ]
          },
          "metadata": {},
          "execution_count": 37
        }
      ]
    },
    {
      "cell_type": "code",
      "source": [
        "# Combining selectors\n",
        "data.select(pl.selectors.string() | pl.selectors.ends_with(\"C\"))"
      ],
      "metadata": {
        "colab": {
          "base_uri": "https://localhost:8080/",
          "height": 458
        },
        "id": "aQc81fu-xX4w",
        "outputId": "6f1de5f1-dfa0-48c6-8d5c-2c5af054cc18"
      },
      "execution_count": 38,
      "outputs": [
        {
          "output_type": "execute_result",
          "data": {
            "text/plain": [
              "shape: (2_111, 10)\n",
              "┌────────┬─────────────────┬──────┬──────┬───┬─────┬────────────┬─────────────────┬────────────────┐\n",
              "│ Gender ┆ family_history_ ┆ FAVC ┆ FCVC ┆ … ┆ SCC ┆ CALC       ┆ MTRANS          ┆ NObeyesdad     │\n",
              "│ ---    ┆ with_overweight ┆ ---  ┆ ---  ┆   ┆ --- ┆ ---        ┆ ---             ┆ ---            │\n",
              "│ str    ┆ ---             ┆ str  ┆ i64  ┆   ┆ str ┆ str        ┆ str             ┆ str            │\n",
              "│        ┆ str             ┆      ┆      ┆   ┆     ┆            ┆                 ┆                │\n",
              "╞════════╪═════════════════╪══════╪══════╪═══╪═════╪════════════╪═════════════════╪════════════════╡\n",
              "│ Female ┆ yes             ┆ no   ┆ 2    ┆ … ┆ no  ┆ no         ┆ Public_Transpor ┆ Normal_Weight  │\n",
              "│        ┆                 ┆      ┆      ┆   ┆     ┆            ┆ tation          ┆                │\n",
              "│ Female ┆ yes             ┆ no   ┆ 3    ┆ … ┆ yes ┆ Sometimes  ┆ Public_Transpor ┆ Normal_Weight  │\n",
              "│        ┆                 ┆      ┆      ┆   ┆     ┆            ┆ tation          ┆                │\n",
              "│ Male   ┆ yes             ┆ no   ┆ 2    ┆ … ┆ no  ┆ Frequently ┆ Public_Transpor ┆ Normal_Weight  │\n",
              "│        ┆                 ┆      ┆      ┆   ┆     ┆            ┆ tation          ┆                │\n",
              "│ Male   ┆ no              ┆ no   ┆ 3    ┆ … ┆ no  ┆ Frequently ┆ Walking         ┆ Overweight_Lev │\n",
              "│        ┆                 ┆      ┆      ┆   ┆     ┆            ┆                 ┆ el_I           │\n",
              "│ Male   ┆ no              ┆ no   ┆ 2    ┆ … ┆ no  ┆ Sometimes  ┆ Public_Transpor ┆ Overweight_Lev │\n",
              "│        ┆                 ┆      ┆      ┆   ┆     ┆            ┆ tation          ┆ el_II          │\n",
              "│ …      ┆ …               ┆ …    ┆ …    ┆ … ┆ …   ┆ …          ┆ …               ┆ …              │\n",
              "│ Female ┆ yes             ┆ yes  ┆ 3    ┆ … ┆ no  ┆ Sometimes  ┆ Public_Transpor ┆ Obesity_Type_I │\n",
              "│        ┆                 ┆      ┆      ┆   ┆     ┆            ┆ tation          ┆ II             │\n",
              "│ Female ┆ yes             ┆ yes  ┆ 3    ┆ … ┆ no  ┆ Sometimes  ┆ Public_Transpor ┆ Obesity_Type_I │\n",
              "│        ┆                 ┆      ┆      ┆   ┆     ┆            ┆ tation          ┆ II             │\n",
              "│ Female ┆ yes             ┆ yes  ┆ 3    ┆ … ┆ no  ┆ Sometimes  ┆ Public_Transpor ┆ Obesity_Type_I │\n",
              "│        ┆                 ┆      ┆      ┆   ┆     ┆            ┆ tation          ┆ II             │\n",
              "│ Female ┆ yes             ┆ yes  ┆ 3    ┆ … ┆ no  ┆ Sometimes  ┆ Public_Transpor ┆ Obesity_Type_I │\n",
              "│        ┆                 ┆      ┆      ┆   ┆     ┆            ┆ tation          ┆ II             │\n",
              "│ Female ┆ yes             ┆ yes  ┆ 3    ┆ … ┆ no  ┆ Sometimes  ┆ Public_Transpor ┆ Obesity_Type_I │\n",
              "│        ┆                 ┆      ┆      ┆   ┆     ┆            ┆ tation          ┆ II             │\n",
              "└────────┴─────────────────┴──────┴──────┴───┴─────┴────────────┴─────────────────┴────────────────┘"
            ],
            "text/html": [
              "<div><style>\n",
              ".dataframe > thead > tr,\n",
              ".dataframe > tbody > tr {\n",
              "  text-align: right;\n",
              "  white-space: pre-wrap;\n",
              "}\n",
              "</style>\n",
              "<small>shape: (2_111, 10)</small><table border=\"1\" class=\"dataframe\"><thead><tr><th>Gender</th><th>family_history_with_overweight</th><th>FAVC</th><th>FCVC</th><th>CAEC</th><th>SMOKE</th><th>SCC</th><th>CALC</th><th>MTRANS</th><th>NObeyesdad</th></tr><tr><td>str</td><td>str</td><td>str</td><td>i64</td><td>str</td><td>str</td><td>str</td><td>str</td><td>str</td><td>str</td></tr></thead><tbody><tr><td>&quot;Female&quot;</td><td>&quot;yes&quot;</td><td>&quot;no&quot;</td><td>2</td><td>&quot;Sometimes&quot;</td><td>&quot;no&quot;</td><td>&quot;no&quot;</td><td>&quot;no&quot;</td><td>&quot;Public_Transportation&quot;</td><td>&quot;Normal_Weight&quot;</td></tr><tr><td>&quot;Female&quot;</td><td>&quot;yes&quot;</td><td>&quot;no&quot;</td><td>3</td><td>&quot;Sometimes&quot;</td><td>&quot;yes&quot;</td><td>&quot;yes&quot;</td><td>&quot;Sometimes&quot;</td><td>&quot;Public_Transportation&quot;</td><td>&quot;Normal_Weight&quot;</td></tr><tr><td>&quot;Male&quot;</td><td>&quot;yes&quot;</td><td>&quot;no&quot;</td><td>2</td><td>&quot;Sometimes&quot;</td><td>&quot;no&quot;</td><td>&quot;no&quot;</td><td>&quot;Frequently&quot;</td><td>&quot;Public_Transportation&quot;</td><td>&quot;Normal_Weight&quot;</td></tr><tr><td>&quot;Male&quot;</td><td>&quot;no&quot;</td><td>&quot;no&quot;</td><td>3</td><td>&quot;Sometimes&quot;</td><td>&quot;no&quot;</td><td>&quot;no&quot;</td><td>&quot;Frequently&quot;</td><td>&quot;Walking&quot;</td><td>&quot;Overweight_Level_I&quot;</td></tr><tr><td>&quot;Male&quot;</td><td>&quot;no&quot;</td><td>&quot;no&quot;</td><td>2</td><td>&quot;Sometimes&quot;</td><td>&quot;no&quot;</td><td>&quot;no&quot;</td><td>&quot;Sometimes&quot;</td><td>&quot;Public_Transportation&quot;</td><td>&quot;Overweight_Level_II&quot;</td></tr><tr><td>&hellip;</td><td>&hellip;</td><td>&hellip;</td><td>&hellip;</td><td>&hellip;</td><td>&hellip;</td><td>&hellip;</td><td>&hellip;</td><td>&hellip;</td><td>&hellip;</td></tr><tr><td>&quot;Female&quot;</td><td>&quot;yes&quot;</td><td>&quot;yes&quot;</td><td>3</td><td>&quot;Sometimes&quot;</td><td>&quot;no&quot;</td><td>&quot;no&quot;</td><td>&quot;Sometimes&quot;</td><td>&quot;Public_Transportation&quot;</td><td>&quot;Obesity_Type_III&quot;</td></tr><tr><td>&quot;Female&quot;</td><td>&quot;yes&quot;</td><td>&quot;yes&quot;</td><td>3</td><td>&quot;Sometimes&quot;</td><td>&quot;no&quot;</td><td>&quot;no&quot;</td><td>&quot;Sometimes&quot;</td><td>&quot;Public_Transportation&quot;</td><td>&quot;Obesity_Type_III&quot;</td></tr><tr><td>&quot;Female&quot;</td><td>&quot;yes&quot;</td><td>&quot;yes&quot;</td><td>3</td><td>&quot;Sometimes&quot;</td><td>&quot;no&quot;</td><td>&quot;no&quot;</td><td>&quot;Sometimes&quot;</td><td>&quot;Public_Transportation&quot;</td><td>&quot;Obesity_Type_III&quot;</td></tr><tr><td>&quot;Female&quot;</td><td>&quot;yes&quot;</td><td>&quot;yes&quot;</td><td>3</td><td>&quot;Sometimes&quot;</td><td>&quot;no&quot;</td><td>&quot;no&quot;</td><td>&quot;Sometimes&quot;</td><td>&quot;Public_Transportation&quot;</td><td>&quot;Obesity_Type_III&quot;</td></tr><tr><td>&quot;Female&quot;</td><td>&quot;yes&quot;</td><td>&quot;yes&quot;</td><td>3</td><td>&quot;Sometimes&quot;</td><td>&quot;no&quot;</td><td>&quot;no&quot;</td><td>&quot;Sometimes&quot;</td><td>&quot;Public_Transportation&quot;</td><td>&quot;Obesity_Type_III&quot;</td></tr></tbody></table></div>"
            ]
          },
          "metadata": {},
          "execution_count": 38
        }
      ]
    },
    {
      "cell_type": "code",
      "source": [
        "# Adding a suffix to a column name\n",
        "data.select(pl.col(\"SMOKE\").name.suffix(\"_status\"))"
      ],
      "metadata": {
        "colab": {
          "base_uri": "https://localhost:8080/",
          "height": 438
        },
        "id": "2k0whDzlzBdx",
        "outputId": "d7c0b283-e979-4ec4-fde6-901068f81594"
      },
      "execution_count": 39,
      "outputs": [
        {
          "output_type": "execute_result",
          "data": {
            "text/plain": [
              "shape: (2_111, 1)\n",
              "┌──────────────┐\n",
              "│ SMOKE_status │\n",
              "│ ---          │\n",
              "│ str          │\n",
              "╞══════════════╡\n",
              "│ no           │\n",
              "│ yes          │\n",
              "│ no           │\n",
              "│ no           │\n",
              "│ no           │\n",
              "│ …            │\n",
              "│ no           │\n",
              "│ no           │\n",
              "│ no           │\n",
              "│ no           │\n",
              "│ no           │\n",
              "└──────────────┘"
            ],
            "text/html": [
              "<div><style>\n",
              ".dataframe > thead > tr,\n",
              ".dataframe > tbody > tr {\n",
              "  text-align: right;\n",
              "  white-space: pre-wrap;\n",
              "}\n",
              "</style>\n",
              "<small>shape: (2_111, 1)</small><table border=\"1\" class=\"dataframe\"><thead><tr><th>SMOKE_status</th></tr><tr><td>str</td></tr></thead><tbody><tr><td>&quot;no&quot;</td></tr><tr><td>&quot;yes&quot;</td></tr><tr><td>&quot;no&quot;</td></tr><tr><td>&quot;no&quot;</td></tr><tr><td>&quot;no&quot;</td></tr><tr><td>&hellip;</td></tr><tr><td>&quot;no&quot;</td></tr><tr><td>&quot;no&quot;</td></tr><tr><td>&quot;no&quot;</td></tr><tr><td>&quot;no&quot;</td></tr><tr><td>&quot;no&quot;</td></tr></tbody></table></div>"
            ]
          },
          "metadata": {},
          "execution_count": 39
        }
      ]
    },
    {
      "cell_type": "code",
      "source": [
        "# Excluding a column\n",
        "data.with_columns(pl.exclude(\"CALC\").cast(pl.String)) # casts every column except CALC to String"
      ],
      "metadata": {
        "colab": {
          "base_uri": "https://localhost:8080/",
          "height": 458
        },
        "id": "BQsAoTT6zwhd",
        "outputId": "7953bcf5-4656-4fda-9e86-3cbce52e45c7"
      },
      "execution_count": 40,
      "outputs": [
        {
          "output_type": "execute_result",
          "data": {
            "text/plain": [
              "shape: (2_111, 17)\n",
              "┌────────┬──────┬──────────┬────────────┬───┬──────┬────────────┬─────────────────┬────────────────┐\n",
              "│ Gender ┆ Age  ┆ Height   ┆ Weight     ┆ … ┆ TUE  ┆ CALC       ┆ MTRANS          ┆ NObeyesdad     │\n",
              "│ ---    ┆ ---  ┆ ---      ┆ ---        ┆   ┆ ---  ┆ ---        ┆ ---             ┆ ---            │\n",
              "│ str    ┆ str  ┆ str      ┆ str        ┆   ┆ str  ┆ str        ┆ str             ┆ str            │\n",
              "╞════════╪══════╪══════════╪════════════╪═══╪══════╪════════════╪═════════════════╪════════════════╡\n",
              "│ Female ┆ 21   ┆ 1.62     ┆ 64.0       ┆ … ┆ 1    ┆ no         ┆ Public_Transpor ┆ Normal_Weight  │\n",
              "│        ┆      ┆          ┆            ┆   ┆      ┆            ┆ tation          ┆                │\n",
              "│ Female ┆ 21   ┆ 1.52     ┆ 56.0       ┆ … ┆ 0    ┆ Sometimes  ┆ Public_Transpor ┆ Normal_Weight  │\n",
              "│        ┆      ┆          ┆            ┆   ┆      ┆            ┆ tation          ┆                │\n",
              "│ Male   ┆ 23   ┆ 1.8      ┆ 77.0       ┆ … ┆ 1    ┆ Frequently ┆ Public_Transpor ┆ Normal_Weight  │\n",
              "│        ┆      ┆          ┆            ┆   ┆      ┆            ┆ tation          ┆                │\n",
              "│ Male   ┆ 27   ┆ 1.8      ┆ 87.0       ┆ … ┆ 0    ┆ Frequently ┆ Walking         ┆ Overweight_Lev │\n",
              "│        ┆      ┆          ┆            ┆   ┆      ┆            ┆                 ┆ el_I           │\n",
              "│ Male   ┆ 22   ┆ 1.78     ┆ 89.8       ┆ … ┆ 0    ┆ Sometimes  ┆ Public_Transpor ┆ Overweight_Lev │\n",
              "│        ┆      ┆          ┆            ┆   ┆      ┆            ┆ tation          ┆ el_II          │\n",
              "│ …      ┆ …    ┆ …        ┆ …          ┆ … ┆ …    ┆ …          ┆ …               ┆ …              │\n",
              "│ Female ┆ null ┆ 1.71073  ┆ 131.408528 ┆ … ┆ null ┆ Sometimes  ┆ Public_Transpor ┆ Obesity_Type_I │\n",
              "│        ┆      ┆          ┆            ┆   ┆      ┆            ┆ tation          ┆ II             │\n",
              "│ Female ┆ null ┆ 1.748584 ┆ 133.742943 ┆ … ┆ null ┆ Sometimes  ┆ Public_Transpor ┆ Obesity_Type_I │\n",
              "│        ┆      ┆          ┆            ┆   ┆      ┆            ┆ tation          ┆ II             │\n",
              "│ Female ┆ null ┆ 1.752206 ┆ 133.689352 ┆ … ┆ null ┆ Sometimes  ┆ Public_Transpor ┆ Obesity_Type_I │\n",
              "│        ┆      ┆          ┆            ┆   ┆      ┆            ┆ tation          ┆ II             │\n",
              "│ Female ┆ null ┆ 1.73945  ┆ 133.346641 ┆ … ┆ null ┆ Sometimes  ┆ Public_Transpor ┆ Obesity_Type_I │\n",
              "│        ┆      ┆          ┆            ┆   ┆      ┆            ┆ tation          ┆ II             │\n",
              "│ Female ┆ null ┆ 1.738836 ┆ 133.472641 ┆ … ┆ null ┆ Sometimes  ┆ Public_Transpor ┆ Obesity_Type_I │\n",
              "│        ┆      ┆          ┆            ┆   ┆      ┆            ┆ tation          ┆ II             │\n",
              "└────────┴──────┴──────────┴────────────┴───┴──────┴────────────┴─────────────────┴────────────────┘"
            ],
            "text/html": [
              "<div><style>\n",
              ".dataframe > thead > tr,\n",
              ".dataframe > tbody > tr {\n",
              "  text-align: right;\n",
              "  white-space: pre-wrap;\n",
              "}\n",
              "</style>\n",
              "<small>shape: (2_111, 17)</small><table border=\"1\" class=\"dataframe\"><thead><tr><th>Gender</th><th>Age</th><th>Height</th><th>Weight</th><th>family_history_with_overweight</th><th>FAVC</th><th>FCVC</th><th>NCP</th><th>CAEC</th><th>SMOKE</th><th>CH2O</th><th>SCC</th><th>FAF</th><th>TUE</th><th>CALC</th><th>MTRANS</th><th>NObeyesdad</th></tr><tr><td>str</td><td>str</td><td>str</td><td>str</td><td>str</td><td>str</td><td>str</td><td>str</td><td>str</td><td>str</td><td>str</td><td>str</td><td>str</td><td>str</td><td>str</td><td>str</td><td>str</td></tr></thead><tbody><tr><td>&quot;Female&quot;</td><td>&quot;21&quot;</td><td>&quot;1.62&quot;</td><td>&quot;64.0&quot;</td><td>&quot;yes&quot;</td><td>&quot;no&quot;</td><td>&quot;2&quot;</td><td>&quot;3&quot;</td><td>&quot;Sometimes&quot;</td><td>&quot;no&quot;</td><td>&quot;2&quot;</td><td>&quot;no&quot;</td><td>&quot;0&quot;</td><td>&quot;1&quot;</td><td>&quot;no&quot;</td><td>&quot;Public_Transportation&quot;</td><td>&quot;Normal_Weight&quot;</td></tr><tr><td>&quot;Female&quot;</td><td>&quot;21&quot;</td><td>&quot;1.52&quot;</td><td>&quot;56.0&quot;</td><td>&quot;yes&quot;</td><td>&quot;no&quot;</td><td>&quot;3&quot;</td><td>&quot;3&quot;</td><td>&quot;Sometimes&quot;</td><td>&quot;yes&quot;</td><td>&quot;3&quot;</td><td>&quot;yes&quot;</td><td>&quot;3&quot;</td><td>&quot;0&quot;</td><td>&quot;Sometimes&quot;</td><td>&quot;Public_Transportation&quot;</td><td>&quot;Normal_Weight&quot;</td></tr><tr><td>&quot;Male&quot;</td><td>&quot;23&quot;</td><td>&quot;1.8&quot;</td><td>&quot;77.0&quot;</td><td>&quot;yes&quot;</td><td>&quot;no&quot;</td><td>&quot;2&quot;</td><td>&quot;3&quot;</td><td>&quot;Sometimes&quot;</td><td>&quot;no&quot;</td><td>&quot;2&quot;</td><td>&quot;no&quot;</td><td>&quot;2&quot;</td><td>&quot;1&quot;</td><td>&quot;Frequently&quot;</td><td>&quot;Public_Transportation&quot;</td><td>&quot;Normal_Weight&quot;</td></tr><tr><td>&quot;Male&quot;</td><td>&quot;27&quot;</td><td>&quot;1.8&quot;</td><td>&quot;87.0&quot;</td><td>&quot;no&quot;</td><td>&quot;no&quot;</td><td>&quot;3&quot;</td><td>&quot;3&quot;</td><td>&quot;Sometimes&quot;</td><td>&quot;no&quot;</td><td>&quot;2&quot;</td><td>&quot;no&quot;</td><td>&quot;2&quot;</td><td>&quot;0&quot;</td><td>&quot;Frequently&quot;</td><td>&quot;Walking&quot;</td><td>&quot;Overweight_Level_I&quot;</td></tr><tr><td>&quot;Male&quot;</td><td>&quot;22&quot;</td><td>&quot;1.78&quot;</td><td>&quot;89.8&quot;</td><td>&quot;no&quot;</td><td>&quot;no&quot;</td><td>&quot;2&quot;</td><td>&quot;1&quot;</td><td>&quot;Sometimes&quot;</td><td>&quot;no&quot;</td><td>&quot;2&quot;</td><td>&quot;no&quot;</td><td>&quot;0&quot;</td><td>&quot;0&quot;</td><td>&quot;Sometimes&quot;</td><td>&quot;Public_Transportation&quot;</td><td>&quot;Overweight_Level_II&quot;</td></tr><tr><td>&hellip;</td><td>&hellip;</td><td>&hellip;</td><td>&hellip;</td><td>&hellip;</td><td>&hellip;</td><td>&hellip;</td><td>&hellip;</td><td>&hellip;</td><td>&hellip;</td><td>&hellip;</td><td>&hellip;</td><td>&hellip;</td><td>&hellip;</td><td>&hellip;</td><td>&hellip;</td><td>&hellip;</td></tr><tr><td>&quot;Female&quot;</td><td>null</td><td>&quot;1.71073&quot;</td><td>&quot;131.408528&quot;</td><td>&quot;yes&quot;</td><td>&quot;yes&quot;</td><td>&quot;3&quot;</td><td>&quot;3&quot;</td><td>&quot;Sometimes&quot;</td><td>&quot;no&quot;</td><td>null</td><td>&quot;no&quot;</td><td>null</td><td>null</td><td>&quot;Sometimes&quot;</td><td>&quot;Public_Transportation&quot;</td><td>&quot;Obesity_Type_III&quot;</td></tr><tr><td>&quot;Female&quot;</td><td>null</td><td>&quot;1.748584&quot;</td><td>&quot;133.742943&quot;</td><td>&quot;yes&quot;</td><td>&quot;yes&quot;</td><td>&quot;3&quot;</td><td>&quot;3&quot;</td><td>&quot;Sometimes&quot;</td><td>&quot;no&quot;</td><td>null</td><td>&quot;no&quot;</td><td>null</td><td>null</td><td>&quot;Sometimes&quot;</td><td>&quot;Public_Transportation&quot;</td><td>&quot;Obesity_Type_III&quot;</td></tr><tr><td>&quot;Female&quot;</td><td>null</td><td>&quot;1.752206&quot;</td><td>&quot;133.689352&quot;</td><td>&quot;yes&quot;</td><td>&quot;yes&quot;</td><td>&quot;3&quot;</td><td>&quot;3&quot;</td><td>&quot;Sometimes&quot;</td><td>&quot;no&quot;</td><td>null</td><td>&quot;no&quot;</td><td>null</td><td>null</td><td>&quot;Sometimes&quot;</td><td>&quot;Public_Transportation&quot;</td><td>&quot;Obesity_Type_III&quot;</td></tr><tr><td>&quot;Female&quot;</td><td>null</td><td>&quot;1.73945&quot;</td><td>&quot;133.346641&quot;</td><td>&quot;yes&quot;</td><td>&quot;yes&quot;</td><td>&quot;3&quot;</td><td>&quot;3&quot;</td><td>&quot;Sometimes&quot;</td><td>&quot;no&quot;</td><td>null</td><td>&quot;no&quot;</td><td>null</td><td>null</td><td>&quot;Sometimes&quot;</td><td>&quot;Public_Transportation&quot;</td><td>&quot;Obesity_Type_III&quot;</td></tr><tr><td>&quot;Female&quot;</td><td>null</td><td>&quot;1.738836&quot;</td><td>&quot;133.472641&quot;</td><td>&quot;yes&quot;</td><td>&quot;yes&quot;</td><td>&quot;3&quot;</td><td>&quot;3&quot;</td><td>&quot;Sometimes&quot;</td><td>&quot;no&quot;</td><td>null</td><td>&quot;no&quot;</td><td>null</td><td>null</td><td>&quot;Sometimes&quot;</td><td>&quot;Public_Transportation&quot;</td><td>&quot;Obesity_Type_III&quot;</td></tr></tbody></table></div>"
            ]
          },
          "metadata": {},
          "execution_count": 40
        }
      ]
    },
    {
      "cell_type": "markdown",
      "source": [
        "### Polars has eager and lazy modes\n",
        "eager pl.read_csv (step-by-step, debugging)\n",
        "\n",
        "lazy pl.scan_csv"
      ],
      "metadata": {
        "id": "ljrKTYSb4Q2i"
      }
    },
    {
      "cell_type": "code",
      "source": [
        "print(pl.scan_csv(\"ObesityDataSet_raw_and_data_sinthetic.csv\").select(\"Gender\", \"Age\").explain())"
      ],
      "metadata": {
        "colab": {
          "base_uri": "https://localhost:8080/"
        },
        "id": "MzwqXLR44wzV",
        "outputId": "e83d2933-ab70-4e54-a90b-ea9bbdfb6a2f"
      },
      "execution_count": 41,
      "outputs": [
        {
          "output_type": "stream",
          "name": "stdout",
          "text": [
            "Csv SCAN [ObesityDataSet_raw_and_data_sinthetic.csv]\n",
            "PROJECT 2/17 COLUMNS\n"
          ]
        }
      ]
    },
    {
      "cell_type": "code",
      "source": [
        "print(pl.scan_csv(\"ObesityDataSet_raw_and_data_sinthetic.csv\", ignore_errors=True).select(\"Gender\", \"Age\").collect())"
      ],
      "metadata": {
        "colab": {
          "base_uri": "https://localhost:8080/"
        },
        "id": "594kBAtV5OgI",
        "outputId": "d06b85f9-8730-4db6-bf69-3dd4075a8d32"
      },
      "execution_count": 42,
      "outputs": [
        {
          "output_type": "stream",
          "name": "stdout",
          "text": [
            "shape: (2_111, 2)\n",
            "┌────────┬──────┐\n",
            "│ Gender ┆ Age  │\n",
            "│ ---    ┆ ---  │\n",
            "│ str    ┆ i64  │\n",
            "╞════════╪══════╡\n",
            "│ Female ┆ 21   │\n",
            "│ Female ┆ 21   │\n",
            "│ Male   ┆ 23   │\n",
            "│ Male   ┆ 27   │\n",
            "│ Male   ┆ 22   │\n",
            "│ …      ┆ …    │\n",
            "│ Female ┆ null │\n",
            "│ Female ┆ null │\n",
            "│ Female ┆ null │\n",
            "│ Female ┆ null │\n",
            "│ Female ┆ null │\n",
            "└────────┴──────┘\n"
          ]
        }
      ]
    },
    {
      "cell_type": "markdown",
      "source": [
        "### Filtering rows\n",
        "there is also is_between"
      ],
      "metadata": {
        "id": "oTehbRZM9c9z"
      }
    },
    {
      "cell_type": "code",
      "source": [
        "# Adding a predicate\n",
        "data.filter(pl.col(\"NObeyesdad\") == \"Normal_Weight\")"
      ],
      "metadata": {
        "colab": {
          "base_uri": "https://localhost:8080/",
          "height": 458
        },
        "id": "CAsASABh_IkO",
        "outputId": "710a5cd5-c36a-4106-b413-fb3f7a6f161c"
      },
      "execution_count": 43,
      "outputs": [
        {
          "output_type": "execute_result",
          "data": {
            "text/plain": [
              "shape: (287, 17)\n",
              "┌────────┬─────┬────────┬────────┬───┬─────┬────────────┬───────────────────────┬───────────────┐\n",
              "│ Gender ┆ Age ┆ Height ┆ Weight ┆ … ┆ TUE ┆ CALC       ┆ MTRANS                ┆ NObeyesdad    │\n",
              "│ ---    ┆ --- ┆ ---    ┆ ---    ┆   ┆ --- ┆ ---        ┆ ---                   ┆ ---           │\n",
              "│ str    ┆ i64 ┆ f64    ┆ f64    ┆   ┆ i64 ┆ str        ┆ str                   ┆ str           │\n",
              "╞════════╪═════╪════════╪════════╪═══╪═════╪════════════╪═══════════════════════╪═══════════════╡\n",
              "│ Female ┆ 21  ┆ 1.62   ┆ 64.0   ┆ … ┆ 1   ┆ no         ┆ Public_Transportation ┆ Normal_Weight │\n",
              "│ Female ┆ 21  ┆ 1.52   ┆ 56.0   ┆ … ┆ 0   ┆ Sometimes  ┆ Public_Transportation ┆ Normal_Weight │\n",
              "│ Male   ┆ 23  ┆ 1.8    ┆ 77.0   ┆ … ┆ 1   ┆ Frequently ┆ Public_Transportation ┆ Normal_Weight │\n",
              "│ Male   ┆ 29  ┆ 1.62   ┆ 53.0   ┆ … ┆ 0   ┆ Sometimes  ┆ Automobile            ┆ Normal_Weight │\n",
              "│ Female ┆ 23  ┆ 1.5    ┆ 55.0   ┆ … ┆ 0   ┆ Sometimes  ┆ Motorbike             ┆ Normal_Weight │\n",
              "│ …      ┆ …   ┆ …      ┆ …      ┆ … ┆ …   ┆ …          ┆ …                     ┆ …             │\n",
              "│ Male   ┆ 25  ┆ 1.66   ┆ 68.0   ┆ … ┆ 1   ┆ Sometimes  ┆ Public_Transportation ┆ Normal_Weight │\n",
              "│ Male   ┆ 20  ┆ 1.8    ┆ 65.0   ┆ … ┆ 0   ┆ Sometimes  ┆ Motorbike             ┆ Normal_Weight │\n",
              "│ Female ┆ 18  ┆ 1.67   ┆ 66.0   ┆ … ┆ 0   ┆ Sometimes  ┆ Public_Transportation ┆ Normal_Weight │\n",
              "│ Male   ┆ 19  ┆ 1.8    ┆ 60.0   ┆ … ┆ 0   ┆ no         ┆ Motorbike             ┆ Normal_Weight │\n",
              "│ Male   ┆ 20  ┆ 1.56   ┆ 45.0   ┆ … ┆ 1   ┆ Sometimes  ┆ Public_Transportation ┆ Normal_Weight │\n",
              "└────────┴─────┴────────┴────────┴───┴─────┴────────────┴───────────────────────┴───────────────┘"
            ],
            "text/html": [
              "<div><style>\n",
              ".dataframe > thead > tr,\n",
              ".dataframe > tbody > tr {\n",
              "  text-align: right;\n",
              "  white-space: pre-wrap;\n",
              "}\n",
              "</style>\n",
              "<small>shape: (287, 17)</small><table border=\"1\" class=\"dataframe\"><thead><tr><th>Gender</th><th>Age</th><th>Height</th><th>Weight</th><th>family_history_with_overweight</th><th>FAVC</th><th>FCVC</th><th>NCP</th><th>CAEC</th><th>SMOKE</th><th>CH2O</th><th>SCC</th><th>FAF</th><th>TUE</th><th>CALC</th><th>MTRANS</th><th>NObeyesdad</th></tr><tr><td>str</td><td>i64</td><td>f64</td><td>f64</td><td>str</td><td>str</td><td>i64</td><td>i64</td><td>str</td><td>str</td><td>i64</td><td>str</td><td>i64</td><td>i64</td><td>str</td><td>str</td><td>str</td></tr></thead><tbody><tr><td>&quot;Female&quot;</td><td>21</td><td>1.62</td><td>64.0</td><td>&quot;yes&quot;</td><td>&quot;no&quot;</td><td>2</td><td>3</td><td>&quot;Sometimes&quot;</td><td>&quot;no&quot;</td><td>2</td><td>&quot;no&quot;</td><td>0</td><td>1</td><td>&quot;no&quot;</td><td>&quot;Public_Transportation&quot;</td><td>&quot;Normal_Weight&quot;</td></tr><tr><td>&quot;Female&quot;</td><td>21</td><td>1.52</td><td>56.0</td><td>&quot;yes&quot;</td><td>&quot;no&quot;</td><td>3</td><td>3</td><td>&quot;Sometimes&quot;</td><td>&quot;yes&quot;</td><td>3</td><td>&quot;yes&quot;</td><td>3</td><td>0</td><td>&quot;Sometimes&quot;</td><td>&quot;Public_Transportation&quot;</td><td>&quot;Normal_Weight&quot;</td></tr><tr><td>&quot;Male&quot;</td><td>23</td><td>1.8</td><td>77.0</td><td>&quot;yes&quot;</td><td>&quot;no&quot;</td><td>2</td><td>3</td><td>&quot;Sometimes&quot;</td><td>&quot;no&quot;</td><td>2</td><td>&quot;no&quot;</td><td>2</td><td>1</td><td>&quot;Frequently&quot;</td><td>&quot;Public_Transportation&quot;</td><td>&quot;Normal_Weight&quot;</td></tr><tr><td>&quot;Male&quot;</td><td>29</td><td>1.62</td><td>53.0</td><td>&quot;no&quot;</td><td>&quot;yes&quot;</td><td>2</td><td>3</td><td>&quot;Sometimes&quot;</td><td>&quot;no&quot;</td><td>2</td><td>&quot;no&quot;</td><td>0</td><td>0</td><td>&quot;Sometimes&quot;</td><td>&quot;Automobile&quot;</td><td>&quot;Normal_Weight&quot;</td></tr><tr><td>&quot;Female&quot;</td><td>23</td><td>1.5</td><td>55.0</td><td>&quot;yes&quot;</td><td>&quot;yes&quot;</td><td>3</td><td>3</td><td>&quot;Sometimes&quot;</td><td>&quot;no&quot;</td><td>2</td><td>&quot;no&quot;</td><td>1</td><td>0</td><td>&quot;Sometimes&quot;</td><td>&quot;Motorbike&quot;</td><td>&quot;Normal_Weight&quot;</td></tr><tr><td>&hellip;</td><td>&hellip;</td><td>&hellip;</td><td>&hellip;</td><td>&hellip;</td><td>&hellip;</td><td>&hellip;</td><td>&hellip;</td><td>&hellip;</td><td>&hellip;</td><td>&hellip;</td><td>&hellip;</td><td>&hellip;</td><td>&hellip;</td><td>&hellip;</td><td>&hellip;</td><td>&hellip;</td></tr><tr><td>&quot;Male&quot;</td><td>25</td><td>1.66</td><td>68.0</td><td>&quot;no&quot;</td><td>&quot;yes&quot;</td><td>2</td><td>3</td><td>&quot;Sometimes&quot;</td><td>&quot;yes&quot;</td><td>1</td><td>&quot;no&quot;</td><td>1</td><td>1</td><td>&quot;Sometimes&quot;</td><td>&quot;Public_Transportation&quot;</td><td>&quot;Normal_Weight&quot;</td></tr><tr><td>&quot;Male&quot;</td><td>20</td><td>1.8</td><td>65.0</td><td>&quot;no&quot;</td><td>&quot;yes&quot;</td><td>2</td><td>3</td><td>&quot;Frequently&quot;</td><td>&quot;no&quot;</td><td>1</td><td>&quot;no&quot;</td><td>2</td><td>0</td><td>&quot;Sometimes&quot;</td><td>&quot;Motorbike&quot;</td><td>&quot;Normal_Weight&quot;</td></tr><tr><td>&quot;Female&quot;</td><td>18</td><td>1.67</td><td>66.0</td><td>&quot;no&quot;</td><td>&quot;yes&quot;</td><td>3</td><td>3</td><td>&quot;Sometimes&quot;</td><td>&quot;no&quot;</td><td>2</td><td>&quot;no&quot;</td><td>0</td><td>0</td><td>&quot;Sometimes&quot;</td><td>&quot;Public_Transportation&quot;</td><td>&quot;Normal_Weight&quot;</td></tr><tr><td>&quot;Male&quot;</td><td>19</td><td>1.8</td><td>60.0</td><td>&quot;yes&quot;</td><td>&quot;yes&quot;</td><td>3</td><td>1</td><td>&quot;Always&quot;</td><td>&quot;no&quot;</td><td>1</td><td>&quot;yes&quot;</td><td>0</td><td>0</td><td>&quot;no&quot;</td><td>&quot;Motorbike&quot;</td><td>&quot;Normal_Weight&quot;</td></tr><tr><td>&quot;Male&quot;</td><td>20</td><td>1.56</td><td>45.0</td><td>&quot;no&quot;</td><td>&quot;no&quot;</td><td>2</td><td>3</td><td>&quot;Sometimes&quot;</td><td>&quot;no&quot;</td><td>2</td><td>&quot;no&quot;</td><td>1</td><td>1</td><td>&quot;Sometimes&quot;</td><td>&quot;Public_Transportation&quot;</td><td>&quot;Normal_Weight&quot;</td></tr></tbody></table></div>"
            ]
          },
          "metadata": {},
          "execution_count": 43
        }
      ]
    },
    {
      "cell_type": "code",
      "source": [
        "# Multiple criterias\n",
        "data.filter((pl.col(\"NObeyesdad\") == \"Normal_Weight\") & (pl.col(\"Weight\") <= 60))"
      ],
      "metadata": {
        "colab": {
          "base_uri": "https://localhost:8080/",
          "height": 458
        },
        "id": "Hn1Kauf2_pHD",
        "outputId": "f5ae9474-fc4e-4d40-a3bf-5bc506cd0c3e"
      },
      "execution_count": 44,
      "outputs": [
        {
          "output_type": "execute_result",
          "data": {
            "text/plain": [
              "shape: (143, 17)\n",
              "┌────────┬─────┬────────┬────────┬───┬─────┬───────────┬───────────────────────┬───────────────┐\n",
              "│ Gender ┆ Age ┆ Height ┆ Weight ┆ … ┆ TUE ┆ CALC      ┆ MTRANS                ┆ NObeyesdad    │\n",
              "│ ---    ┆ --- ┆ ---    ┆ ---    ┆   ┆ --- ┆ ---       ┆ ---                   ┆ ---           │\n",
              "│ str    ┆ i64 ┆ f64    ┆ f64    ┆   ┆ i64 ┆ str       ┆ str                   ┆ str           │\n",
              "╞════════╪═════╪════════╪════════╪═══╪═════╪═══════════╪═══════════════════════╪═══════════════╡\n",
              "│ Female ┆ 21  ┆ 1.52   ┆ 56.0   ┆ … ┆ 0   ┆ Sometimes ┆ Public_Transportation ┆ Normal_Weight │\n",
              "│ Male   ┆ 29  ┆ 1.62   ┆ 53.0   ┆ … ┆ 0   ┆ Sometimes ┆ Automobile            ┆ Normal_Weight │\n",
              "│ Female ┆ 23  ┆ 1.5    ┆ 55.0   ┆ … ┆ 0   ┆ Sometimes ┆ Motorbike             ┆ Normal_Weight │\n",
              "│ Male   ┆ 22  ┆ 1.64   ┆ 53.0   ┆ … ┆ 0   ┆ Sometimes ┆ Public_Transportation ┆ Normal_Weight │\n",
              "│ Male   ┆ 22  ┆ 1.65   ┆ 56.0   ┆ … ┆ 0   ┆ Sometimes ┆ Public_Transportation ┆ Normal_Weight │\n",
              "│ …      ┆ …   ┆ …      ┆ …      ┆ … ┆ …   ┆ …         ┆ …                     ┆ …             │\n",
              "│ Female ┆ 18  ┆ 1.57   ┆ 50.0   ┆ … ┆ 1   ┆ Sometimes ┆ Public_Transportation ┆ Normal_Weight │\n",
              "│ Female ┆ 20  ┆ 1.58   ┆ 53.5   ┆ … ┆ 1   ┆ Sometimes ┆ Public_Transportation ┆ Normal_Weight │\n",
              "│ Female ┆ 19  ┆ 1.56   ┆ 50.0   ┆ … ┆ 2   ┆ no        ┆ Public_Transportation ┆ Normal_Weight │\n",
              "│ Male   ┆ 19  ┆ 1.8    ┆ 60.0   ┆ … ┆ 0   ┆ no        ┆ Motorbike             ┆ Normal_Weight │\n",
              "│ Male   ┆ 20  ┆ 1.56   ┆ 45.0   ┆ … ┆ 1   ┆ Sometimes ┆ Public_Transportation ┆ Normal_Weight │\n",
              "└────────┴─────┴────────┴────────┴───┴─────┴───────────┴───────────────────────┴───────────────┘"
            ],
            "text/html": [
              "<div><style>\n",
              ".dataframe > thead > tr,\n",
              ".dataframe > tbody > tr {\n",
              "  text-align: right;\n",
              "  white-space: pre-wrap;\n",
              "}\n",
              "</style>\n",
              "<small>shape: (143, 17)</small><table border=\"1\" class=\"dataframe\"><thead><tr><th>Gender</th><th>Age</th><th>Height</th><th>Weight</th><th>family_history_with_overweight</th><th>FAVC</th><th>FCVC</th><th>NCP</th><th>CAEC</th><th>SMOKE</th><th>CH2O</th><th>SCC</th><th>FAF</th><th>TUE</th><th>CALC</th><th>MTRANS</th><th>NObeyesdad</th></tr><tr><td>str</td><td>i64</td><td>f64</td><td>f64</td><td>str</td><td>str</td><td>i64</td><td>i64</td><td>str</td><td>str</td><td>i64</td><td>str</td><td>i64</td><td>i64</td><td>str</td><td>str</td><td>str</td></tr></thead><tbody><tr><td>&quot;Female&quot;</td><td>21</td><td>1.52</td><td>56.0</td><td>&quot;yes&quot;</td><td>&quot;no&quot;</td><td>3</td><td>3</td><td>&quot;Sometimes&quot;</td><td>&quot;yes&quot;</td><td>3</td><td>&quot;yes&quot;</td><td>3</td><td>0</td><td>&quot;Sometimes&quot;</td><td>&quot;Public_Transportation&quot;</td><td>&quot;Normal_Weight&quot;</td></tr><tr><td>&quot;Male&quot;</td><td>29</td><td>1.62</td><td>53.0</td><td>&quot;no&quot;</td><td>&quot;yes&quot;</td><td>2</td><td>3</td><td>&quot;Sometimes&quot;</td><td>&quot;no&quot;</td><td>2</td><td>&quot;no&quot;</td><td>0</td><td>0</td><td>&quot;Sometimes&quot;</td><td>&quot;Automobile&quot;</td><td>&quot;Normal_Weight&quot;</td></tr><tr><td>&quot;Female&quot;</td><td>23</td><td>1.5</td><td>55.0</td><td>&quot;yes&quot;</td><td>&quot;yes&quot;</td><td>3</td><td>3</td><td>&quot;Sometimes&quot;</td><td>&quot;no&quot;</td><td>2</td><td>&quot;no&quot;</td><td>1</td><td>0</td><td>&quot;Sometimes&quot;</td><td>&quot;Motorbike&quot;</td><td>&quot;Normal_Weight&quot;</td></tr><tr><td>&quot;Male&quot;</td><td>22</td><td>1.64</td><td>53.0</td><td>&quot;no&quot;</td><td>&quot;no&quot;</td><td>2</td><td>3</td><td>&quot;Sometimes&quot;</td><td>&quot;no&quot;</td><td>2</td><td>&quot;no&quot;</td><td>3</td><td>0</td><td>&quot;Sometimes&quot;</td><td>&quot;Public_Transportation&quot;</td><td>&quot;Normal_Weight&quot;</td></tr><tr><td>&quot;Male&quot;</td><td>22</td><td>1.65</td><td>56.0</td><td>&quot;no&quot;</td><td>&quot;no&quot;</td><td>3</td><td>3</td><td>&quot;Sometimes&quot;</td><td>&quot;no&quot;</td><td>3</td><td>&quot;no&quot;</td><td>2</td><td>0</td><td>&quot;Sometimes&quot;</td><td>&quot;Public_Transportation&quot;</td><td>&quot;Normal_Weight&quot;</td></tr><tr><td>&hellip;</td><td>&hellip;</td><td>&hellip;</td><td>&hellip;</td><td>&hellip;</td><td>&hellip;</td><td>&hellip;</td><td>&hellip;</td><td>&hellip;</td><td>&hellip;</td><td>&hellip;</td><td>&hellip;</td><td>&hellip;</td><td>&hellip;</td><td>&hellip;</td><td>&hellip;</td><td>&hellip;</td></tr><tr><td>&quot;Female&quot;</td><td>18</td><td>1.57</td><td>50.0</td><td>&quot;no&quot;</td><td>&quot;yes&quot;</td><td>2</td><td>3</td><td>&quot;Sometimes&quot;</td><td>&quot;no&quot;</td><td>1</td><td>&quot;no&quot;</td><td>0</td><td>1</td><td>&quot;Sometimes&quot;</td><td>&quot;Public_Transportation&quot;</td><td>&quot;Normal_Weight&quot;</td></tr><tr><td>&quot;Female&quot;</td><td>20</td><td>1.58</td><td>53.5</td><td>&quot;yes&quot;</td><td>&quot;yes&quot;</td><td>2</td><td>1</td><td>&quot;Frequently&quot;</td><td>&quot;no&quot;</td><td>2</td><td>&quot;no&quot;</td><td>1</td><td>1</td><td>&quot;Sometimes&quot;</td><td>&quot;Public_Transportation&quot;</td><td>&quot;Normal_Weight&quot;</td></tr><tr><td>&quot;Female&quot;</td><td>19</td><td>1.56</td><td>50.0</td><td>&quot;no&quot;</td><td>&quot;yes&quot;</td><td>2</td><td>1</td><td>&quot;Sometimes&quot;</td><td>&quot;no&quot;</td><td>1</td><td>&quot;no&quot;</td><td>0</td><td>2</td><td>&quot;no&quot;</td><td>&quot;Public_Transportation&quot;</td><td>&quot;Normal_Weight&quot;</td></tr><tr><td>&quot;Male&quot;</td><td>19</td><td>1.8</td><td>60.0</td><td>&quot;yes&quot;</td><td>&quot;yes&quot;</td><td>3</td><td>1</td><td>&quot;Always&quot;</td><td>&quot;no&quot;</td><td>1</td><td>&quot;yes&quot;</td><td>0</td><td>0</td><td>&quot;no&quot;</td><td>&quot;Motorbike&quot;</td><td>&quot;Normal_Weight&quot;</td></tr><tr><td>&quot;Male&quot;</td><td>20</td><td>1.56</td><td>45.0</td><td>&quot;no&quot;</td><td>&quot;no&quot;</td><td>2</td><td>3</td><td>&quot;Sometimes&quot;</td><td>&quot;no&quot;</td><td>2</td><td>&quot;no&quot;</td><td>1</td><td>1</td><td>&quot;Sometimes&quot;</td><td>&quot;Public_Transportation&quot;</td><td>&quot;Normal_Weight&quot;</td></tr></tbody></table></div>"
            ]
          },
          "metadata": {},
          "execution_count": 44
        }
      ]
    },
    {
      "cell_type": "code",
      "source": [
        "# Or condition\n",
        "data.filter((pl.col(\"NObeyesdad\") == \"Overweight_Level_I\") | (pl.col(\"Weight\") >= 80))"
      ],
      "metadata": {
        "colab": {
          "base_uri": "https://localhost:8080/",
          "height": 458
        },
        "id": "nIePTX4iAfkL",
        "outputId": "246cff17-e7b4-4bda-fcdf-fe2c43f8538b"
      },
      "execution_count": 45,
      "outputs": [
        {
          "output_type": "execute_result",
          "data": {
            "text/plain": [
              "shape: (1_436, 17)\n",
              "┌────────┬──────┬──────────┬────────────┬───┬──────┬────────────┬─────────────────┬────────────────┐\n",
              "│ Gender ┆ Age  ┆ Height   ┆ Weight     ┆ … ┆ TUE  ┆ CALC       ┆ MTRANS          ┆ NObeyesdad     │\n",
              "│ ---    ┆ ---  ┆ ---      ┆ ---        ┆   ┆ ---  ┆ ---        ┆ ---             ┆ ---            │\n",
              "│ str    ┆ i64  ┆ f64      ┆ f64        ┆   ┆ i64  ┆ str        ┆ str             ┆ str            │\n",
              "╞════════╪══════╪══════════╪════════════╪═══╪══════╪════════════╪═════════════════╪════════════════╡\n",
              "│ Male   ┆ 27   ┆ 1.8      ┆ 87.0       ┆ … ┆ 0    ┆ Frequently ┆ Walking         ┆ Overweight_Lev │\n",
              "│        ┆      ┆          ┆            ┆   ┆      ┆            ┆                 ┆ el_I           │\n",
              "│ Male   ┆ 22   ┆ 1.78     ┆ 89.8       ┆ … ┆ 0    ┆ Sometimes  ┆ Public_Transpor ┆ Overweight_Lev │\n",
              "│        ┆      ┆          ┆            ┆   ┆      ┆            ┆ tation          ┆ el_II          │\n",
              "│ Male   ┆ 26   ┆ 1.85     ┆ 105.0      ┆ … ┆ 2    ┆ Sometimes  ┆ Public_Transpor ┆ Obesity_Type_I │\n",
              "│        ┆      ┆          ┆            ┆   ┆      ┆            ┆ tation          ┆                │\n",
              "│ Female ┆ 21   ┆ 1.72     ┆ 80.0       ┆ … ┆ 1    ┆ Sometimes  ┆ Public_Transpor ┆ Overweight_Lev │\n",
              "│        ┆      ┆          ┆            ┆   ┆      ┆            ┆ tation          ┆ el_II          │\n",
              "│ Male   ┆ 41   ┆ 1.8      ┆ 99.0       ┆ … ┆ 1    ┆ Frequently ┆ Automobile      ┆ Obesity_Type_I │\n",
              "│ …      ┆ …    ┆ …        ┆ …          ┆ … ┆ …    ┆ …          ┆ …               ┆ …              │\n",
              "│ Female ┆ null ┆ 1.71073  ┆ 131.408528 ┆ … ┆ null ┆ Sometimes  ┆ Public_Transpor ┆ Obesity_Type_I │\n",
              "│        ┆      ┆          ┆            ┆   ┆      ┆            ┆ tation          ┆ II             │\n",
              "│ Female ┆ null ┆ 1.748584 ┆ 133.742943 ┆ … ┆ null ┆ Sometimes  ┆ Public_Transpor ┆ Obesity_Type_I │\n",
              "│        ┆      ┆          ┆            ┆   ┆      ┆            ┆ tation          ┆ II             │\n",
              "│ Female ┆ null ┆ 1.752206 ┆ 133.689352 ┆ … ┆ null ┆ Sometimes  ┆ Public_Transpor ┆ Obesity_Type_I │\n",
              "│        ┆      ┆          ┆            ┆   ┆      ┆            ┆ tation          ┆ II             │\n",
              "│ Female ┆ null ┆ 1.73945  ┆ 133.346641 ┆ … ┆ null ┆ Sometimes  ┆ Public_Transpor ┆ Obesity_Type_I │\n",
              "│        ┆      ┆          ┆            ┆   ┆      ┆            ┆ tation          ┆ II             │\n",
              "│ Female ┆ null ┆ 1.738836 ┆ 133.472641 ┆ … ┆ null ┆ Sometimes  ┆ Public_Transpor ┆ Obesity_Type_I │\n",
              "│        ┆      ┆          ┆            ┆   ┆      ┆            ┆ tation          ┆ II             │\n",
              "└────────┴──────┴──────────┴────────────┴───┴──────┴────────────┴─────────────────┴────────────────┘"
            ],
            "text/html": [
              "<div><style>\n",
              ".dataframe > thead > tr,\n",
              ".dataframe > tbody > tr {\n",
              "  text-align: right;\n",
              "  white-space: pre-wrap;\n",
              "}\n",
              "</style>\n",
              "<small>shape: (1_436, 17)</small><table border=\"1\" class=\"dataframe\"><thead><tr><th>Gender</th><th>Age</th><th>Height</th><th>Weight</th><th>family_history_with_overweight</th><th>FAVC</th><th>FCVC</th><th>NCP</th><th>CAEC</th><th>SMOKE</th><th>CH2O</th><th>SCC</th><th>FAF</th><th>TUE</th><th>CALC</th><th>MTRANS</th><th>NObeyesdad</th></tr><tr><td>str</td><td>i64</td><td>f64</td><td>f64</td><td>str</td><td>str</td><td>i64</td><td>i64</td><td>str</td><td>str</td><td>i64</td><td>str</td><td>i64</td><td>i64</td><td>str</td><td>str</td><td>str</td></tr></thead><tbody><tr><td>&quot;Male&quot;</td><td>27</td><td>1.8</td><td>87.0</td><td>&quot;no&quot;</td><td>&quot;no&quot;</td><td>3</td><td>3</td><td>&quot;Sometimes&quot;</td><td>&quot;no&quot;</td><td>2</td><td>&quot;no&quot;</td><td>2</td><td>0</td><td>&quot;Frequently&quot;</td><td>&quot;Walking&quot;</td><td>&quot;Overweight_Level_I&quot;</td></tr><tr><td>&quot;Male&quot;</td><td>22</td><td>1.78</td><td>89.8</td><td>&quot;no&quot;</td><td>&quot;no&quot;</td><td>2</td><td>1</td><td>&quot;Sometimes&quot;</td><td>&quot;no&quot;</td><td>2</td><td>&quot;no&quot;</td><td>0</td><td>0</td><td>&quot;Sometimes&quot;</td><td>&quot;Public_Transportation&quot;</td><td>&quot;Overweight_Level_II&quot;</td></tr><tr><td>&quot;Male&quot;</td><td>26</td><td>1.85</td><td>105.0</td><td>&quot;yes&quot;</td><td>&quot;yes&quot;</td><td>3</td><td>3</td><td>&quot;Frequently&quot;</td><td>&quot;no&quot;</td><td>3</td><td>&quot;no&quot;</td><td>2</td><td>2</td><td>&quot;Sometimes&quot;</td><td>&quot;Public_Transportation&quot;</td><td>&quot;Obesity_Type_I&quot;</td></tr><tr><td>&quot;Female&quot;</td><td>21</td><td>1.72</td><td>80.0</td><td>&quot;yes&quot;</td><td>&quot;yes&quot;</td><td>2</td><td>3</td><td>&quot;Frequently&quot;</td><td>&quot;no&quot;</td><td>2</td><td>&quot;yes&quot;</td><td>2</td><td>1</td><td>&quot;Sometimes&quot;</td><td>&quot;Public_Transportation&quot;</td><td>&quot;Overweight_Level_II&quot;</td></tr><tr><td>&quot;Male&quot;</td><td>41</td><td>1.8</td><td>99.0</td><td>&quot;no&quot;</td><td>&quot;yes&quot;</td><td>2</td><td>3</td><td>&quot;Sometimes&quot;</td><td>&quot;no&quot;</td><td>2</td><td>&quot;no&quot;</td><td>2</td><td>1</td><td>&quot;Frequently&quot;</td><td>&quot;Automobile&quot;</td><td>&quot;Obesity_Type_I&quot;</td></tr><tr><td>&hellip;</td><td>&hellip;</td><td>&hellip;</td><td>&hellip;</td><td>&hellip;</td><td>&hellip;</td><td>&hellip;</td><td>&hellip;</td><td>&hellip;</td><td>&hellip;</td><td>&hellip;</td><td>&hellip;</td><td>&hellip;</td><td>&hellip;</td><td>&hellip;</td><td>&hellip;</td><td>&hellip;</td></tr><tr><td>&quot;Female&quot;</td><td>null</td><td>1.71073</td><td>131.408528</td><td>&quot;yes&quot;</td><td>&quot;yes&quot;</td><td>3</td><td>3</td><td>&quot;Sometimes&quot;</td><td>&quot;no&quot;</td><td>null</td><td>&quot;no&quot;</td><td>null</td><td>null</td><td>&quot;Sometimes&quot;</td><td>&quot;Public_Transportation&quot;</td><td>&quot;Obesity_Type_III&quot;</td></tr><tr><td>&quot;Female&quot;</td><td>null</td><td>1.748584</td><td>133.742943</td><td>&quot;yes&quot;</td><td>&quot;yes&quot;</td><td>3</td><td>3</td><td>&quot;Sometimes&quot;</td><td>&quot;no&quot;</td><td>null</td><td>&quot;no&quot;</td><td>null</td><td>null</td><td>&quot;Sometimes&quot;</td><td>&quot;Public_Transportation&quot;</td><td>&quot;Obesity_Type_III&quot;</td></tr><tr><td>&quot;Female&quot;</td><td>null</td><td>1.752206</td><td>133.689352</td><td>&quot;yes&quot;</td><td>&quot;yes&quot;</td><td>3</td><td>3</td><td>&quot;Sometimes&quot;</td><td>&quot;no&quot;</td><td>null</td><td>&quot;no&quot;</td><td>null</td><td>null</td><td>&quot;Sometimes&quot;</td><td>&quot;Public_Transportation&quot;</td><td>&quot;Obesity_Type_III&quot;</td></tr><tr><td>&quot;Female&quot;</td><td>null</td><td>1.73945</td><td>133.346641</td><td>&quot;yes&quot;</td><td>&quot;yes&quot;</td><td>3</td><td>3</td><td>&quot;Sometimes&quot;</td><td>&quot;no&quot;</td><td>null</td><td>&quot;no&quot;</td><td>null</td><td>null</td><td>&quot;Sometimes&quot;</td><td>&quot;Public_Transportation&quot;</td><td>&quot;Obesity_Type_III&quot;</td></tr><tr><td>&quot;Female&quot;</td><td>null</td><td>1.738836</td><td>133.472641</td><td>&quot;yes&quot;</td><td>&quot;yes&quot;</td><td>3</td><td>3</td><td>&quot;Sometimes&quot;</td><td>&quot;no&quot;</td><td>null</td><td>&quot;no&quot;</td><td>null</td><td>null</td><td>&quot;Sometimes&quot;</td><td>&quot;Public_Transportation&quot;</td><td>&quot;Obesity_Type_III&quot;</td></tr></tbody></table></div>"
            ]
          },
          "metadata": {},
          "execution_count": 45
        }
      ]
    },
    {
      "cell_type": "code",
      "source": [
        "# Filtering based on a list\n",
        "data.filter(pl.col(\"MTRANS\").is_in([\"Public_Transportation\", \"Automobile\"]))"
      ],
      "metadata": {
        "colab": {
          "base_uri": "https://localhost:8080/",
          "height": 458
        },
        "id": "zynqj9IgA6kj",
        "outputId": "e86694bc-d9ac-4a17-aa3f-eb2d2e4e9d55"
      },
      "execution_count": 46,
      "outputs": [
        {
          "output_type": "execute_result",
          "data": {
            "text/plain": [
              "shape: (2_037, 17)\n",
              "┌────────┬──────┬──────────┬────────────┬───┬──────┬────────────┬─────────────────┬────────────────┐\n",
              "│ Gender ┆ Age  ┆ Height   ┆ Weight     ┆ … ┆ TUE  ┆ CALC       ┆ MTRANS          ┆ NObeyesdad     │\n",
              "│ ---    ┆ ---  ┆ ---      ┆ ---        ┆   ┆ ---  ┆ ---        ┆ ---             ┆ ---            │\n",
              "│ str    ┆ i64  ┆ f64      ┆ f64        ┆   ┆ i64  ┆ str        ┆ str             ┆ str            │\n",
              "╞════════╪══════╪══════════╪════════════╪═══╪══════╪════════════╪═════════════════╪════════════════╡\n",
              "│ Female ┆ 21   ┆ 1.62     ┆ 64.0       ┆ … ┆ 1    ┆ no         ┆ Public_Transpor ┆ Normal_Weight  │\n",
              "│        ┆      ┆          ┆            ┆   ┆      ┆            ┆ tation          ┆                │\n",
              "│ Female ┆ 21   ┆ 1.52     ┆ 56.0       ┆ … ┆ 0    ┆ Sometimes  ┆ Public_Transpor ┆ Normal_Weight  │\n",
              "│        ┆      ┆          ┆            ┆   ┆      ┆            ┆ tation          ┆                │\n",
              "│ Male   ┆ 23   ┆ 1.8      ┆ 77.0       ┆ … ┆ 1    ┆ Frequently ┆ Public_Transpor ┆ Normal_Weight  │\n",
              "│        ┆      ┆          ┆            ┆   ┆      ┆            ┆ tation          ┆                │\n",
              "│ Male   ┆ 22   ┆ 1.78     ┆ 89.8       ┆ … ┆ 0    ┆ Sometimes  ┆ Public_Transpor ┆ Overweight_Lev │\n",
              "│        ┆      ┆          ┆            ┆   ┆      ┆            ┆ tation          ┆ el_II          │\n",
              "│ Male   ┆ 29   ┆ 1.62     ┆ 53.0       ┆ … ┆ 0    ┆ Sometimes  ┆ Automobile      ┆ Normal_Weight  │\n",
              "│ …      ┆ …    ┆ …        ┆ …          ┆ … ┆ …    ┆ …          ┆ …               ┆ …              │\n",
              "│ Female ┆ null ┆ 1.71073  ┆ 131.408528 ┆ … ┆ null ┆ Sometimes  ┆ Public_Transpor ┆ Obesity_Type_I │\n",
              "│        ┆      ┆          ┆            ┆   ┆      ┆            ┆ tation          ┆ II             │\n",
              "│ Female ┆ null ┆ 1.748584 ┆ 133.742943 ┆ … ┆ null ┆ Sometimes  ┆ Public_Transpor ┆ Obesity_Type_I │\n",
              "│        ┆      ┆          ┆            ┆   ┆      ┆            ┆ tation          ┆ II             │\n",
              "│ Female ┆ null ┆ 1.752206 ┆ 133.689352 ┆ … ┆ null ┆ Sometimes  ┆ Public_Transpor ┆ Obesity_Type_I │\n",
              "│        ┆      ┆          ┆            ┆   ┆      ┆            ┆ tation          ┆ II             │\n",
              "│ Female ┆ null ┆ 1.73945  ┆ 133.346641 ┆ … ┆ null ┆ Sometimes  ┆ Public_Transpor ┆ Obesity_Type_I │\n",
              "│        ┆      ┆          ┆            ┆   ┆      ┆            ┆ tation          ┆ II             │\n",
              "│ Female ┆ null ┆ 1.738836 ┆ 133.472641 ┆ … ┆ null ┆ Sometimes  ┆ Public_Transpor ┆ Obesity_Type_I │\n",
              "│        ┆      ┆          ┆            ┆   ┆      ┆            ┆ tation          ┆ II             │\n",
              "└────────┴──────┴──────────┴────────────┴───┴──────┴────────────┴─────────────────┴────────────────┘"
            ],
            "text/html": [
              "<div><style>\n",
              ".dataframe > thead > tr,\n",
              ".dataframe > tbody > tr {\n",
              "  text-align: right;\n",
              "  white-space: pre-wrap;\n",
              "}\n",
              "</style>\n",
              "<small>shape: (2_037, 17)</small><table border=\"1\" class=\"dataframe\"><thead><tr><th>Gender</th><th>Age</th><th>Height</th><th>Weight</th><th>family_history_with_overweight</th><th>FAVC</th><th>FCVC</th><th>NCP</th><th>CAEC</th><th>SMOKE</th><th>CH2O</th><th>SCC</th><th>FAF</th><th>TUE</th><th>CALC</th><th>MTRANS</th><th>NObeyesdad</th></tr><tr><td>str</td><td>i64</td><td>f64</td><td>f64</td><td>str</td><td>str</td><td>i64</td><td>i64</td><td>str</td><td>str</td><td>i64</td><td>str</td><td>i64</td><td>i64</td><td>str</td><td>str</td><td>str</td></tr></thead><tbody><tr><td>&quot;Female&quot;</td><td>21</td><td>1.62</td><td>64.0</td><td>&quot;yes&quot;</td><td>&quot;no&quot;</td><td>2</td><td>3</td><td>&quot;Sometimes&quot;</td><td>&quot;no&quot;</td><td>2</td><td>&quot;no&quot;</td><td>0</td><td>1</td><td>&quot;no&quot;</td><td>&quot;Public_Transportation&quot;</td><td>&quot;Normal_Weight&quot;</td></tr><tr><td>&quot;Female&quot;</td><td>21</td><td>1.52</td><td>56.0</td><td>&quot;yes&quot;</td><td>&quot;no&quot;</td><td>3</td><td>3</td><td>&quot;Sometimes&quot;</td><td>&quot;yes&quot;</td><td>3</td><td>&quot;yes&quot;</td><td>3</td><td>0</td><td>&quot;Sometimes&quot;</td><td>&quot;Public_Transportation&quot;</td><td>&quot;Normal_Weight&quot;</td></tr><tr><td>&quot;Male&quot;</td><td>23</td><td>1.8</td><td>77.0</td><td>&quot;yes&quot;</td><td>&quot;no&quot;</td><td>2</td><td>3</td><td>&quot;Sometimes&quot;</td><td>&quot;no&quot;</td><td>2</td><td>&quot;no&quot;</td><td>2</td><td>1</td><td>&quot;Frequently&quot;</td><td>&quot;Public_Transportation&quot;</td><td>&quot;Normal_Weight&quot;</td></tr><tr><td>&quot;Male&quot;</td><td>22</td><td>1.78</td><td>89.8</td><td>&quot;no&quot;</td><td>&quot;no&quot;</td><td>2</td><td>1</td><td>&quot;Sometimes&quot;</td><td>&quot;no&quot;</td><td>2</td><td>&quot;no&quot;</td><td>0</td><td>0</td><td>&quot;Sometimes&quot;</td><td>&quot;Public_Transportation&quot;</td><td>&quot;Overweight_Level_II&quot;</td></tr><tr><td>&quot;Male&quot;</td><td>29</td><td>1.62</td><td>53.0</td><td>&quot;no&quot;</td><td>&quot;yes&quot;</td><td>2</td><td>3</td><td>&quot;Sometimes&quot;</td><td>&quot;no&quot;</td><td>2</td><td>&quot;no&quot;</td><td>0</td><td>0</td><td>&quot;Sometimes&quot;</td><td>&quot;Automobile&quot;</td><td>&quot;Normal_Weight&quot;</td></tr><tr><td>&hellip;</td><td>&hellip;</td><td>&hellip;</td><td>&hellip;</td><td>&hellip;</td><td>&hellip;</td><td>&hellip;</td><td>&hellip;</td><td>&hellip;</td><td>&hellip;</td><td>&hellip;</td><td>&hellip;</td><td>&hellip;</td><td>&hellip;</td><td>&hellip;</td><td>&hellip;</td><td>&hellip;</td></tr><tr><td>&quot;Female&quot;</td><td>null</td><td>1.71073</td><td>131.408528</td><td>&quot;yes&quot;</td><td>&quot;yes&quot;</td><td>3</td><td>3</td><td>&quot;Sometimes&quot;</td><td>&quot;no&quot;</td><td>null</td><td>&quot;no&quot;</td><td>null</td><td>null</td><td>&quot;Sometimes&quot;</td><td>&quot;Public_Transportation&quot;</td><td>&quot;Obesity_Type_III&quot;</td></tr><tr><td>&quot;Female&quot;</td><td>null</td><td>1.748584</td><td>133.742943</td><td>&quot;yes&quot;</td><td>&quot;yes&quot;</td><td>3</td><td>3</td><td>&quot;Sometimes&quot;</td><td>&quot;no&quot;</td><td>null</td><td>&quot;no&quot;</td><td>null</td><td>null</td><td>&quot;Sometimes&quot;</td><td>&quot;Public_Transportation&quot;</td><td>&quot;Obesity_Type_III&quot;</td></tr><tr><td>&quot;Female&quot;</td><td>null</td><td>1.752206</td><td>133.689352</td><td>&quot;yes&quot;</td><td>&quot;yes&quot;</td><td>3</td><td>3</td><td>&quot;Sometimes&quot;</td><td>&quot;no&quot;</td><td>null</td><td>&quot;no&quot;</td><td>null</td><td>null</td><td>&quot;Sometimes&quot;</td><td>&quot;Public_Transportation&quot;</td><td>&quot;Obesity_Type_III&quot;</td></tr><tr><td>&quot;Female&quot;</td><td>null</td><td>1.73945</td><td>133.346641</td><td>&quot;yes&quot;</td><td>&quot;yes&quot;</td><td>3</td><td>3</td><td>&quot;Sometimes&quot;</td><td>&quot;no&quot;</td><td>null</td><td>&quot;no&quot;</td><td>null</td><td>null</td><td>&quot;Sometimes&quot;</td><td>&quot;Public_Transportation&quot;</td><td>&quot;Obesity_Type_III&quot;</td></tr><tr><td>&quot;Female&quot;</td><td>null</td><td>1.738836</td><td>133.472641</td><td>&quot;yes&quot;</td><td>&quot;yes&quot;</td><td>3</td><td>3</td><td>&quot;Sometimes&quot;</td><td>&quot;no&quot;</td><td>null</td><td>&quot;no&quot;</td><td>null</td><td>null</td><td>&quot;Sometimes&quot;</td><td>&quot;Public_Transportation&quot;</td><td>&quot;Obesity_Type_III&quot;</td></tr></tbody></table></div>"
            ]
          },
          "metadata": {},
          "execution_count": 46
        }
      ]
    },
    {
      "cell_type": "code",
      "source": [
        "# Negating a predicate\n",
        "data.filter(pl.col(\"MTRANS\").is_in([\"Public_Transportation\", \"Automobile\"]).not_())"
      ],
      "metadata": {
        "colab": {
          "base_uri": "https://localhost:8080/",
          "height": 458
        },
        "id": "pQ4GOvxoBT2j",
        "outputId": "90282084-96aa-422a-d7f7-bc7a9235b977"
      },
      "execution_count": 47,
      "outputs": [
        {
          "output_type": "execute_result",
          "data": {
            "text/plain": [
              "shape: (74, 17)\n",
              "┌────────┬──────┬──────────┬────────────┬───┬─────┬────────────┬───────────┬─────────────────────┐\n",
              "│ Gender ┆ Age  ┆ Height   ┆ Weight     ┆ … ┆ TUE ┆ CALC       ┆ MTRANS    ┆ NObeyesdad          │\n",
              "│ ---    ┆ ---  ┆ ---      ┆ ---        ┆   ┆ --- ┆ ---        ┆ ---       ┆ ---                 │\n",
              "│ str    ┆ i64  ┆ f64      ┆ f64        ┆   ┆ i64 ┆ str        ┆ str       ┆ str                 │\n",
              "╞════════╪══════╪══════════╪════════════╪═══╪═════╪════════════╪═══════════╪═════════════════════╡\n",
              "│ Male   ┆ 27   ┆ 1.8      ┆ 87.0       ┆ … ┆ 0   ┆ Frequently ┆ Walking   ┆ Overweight_Level_I  │\n",
              "│ Female ┆ 23   ┆ 1.5      ┆ 55.0       ┆ … ┆ 0   ┆ Sometimes  ┆ Motorbike ┆ Normal_Weight       │\n",
              "│ Male   ┆ 22   ┆ 1.65     ┆ 80.0       ┆ … ┆ 2   ┆ no         ┆ Walking   ┆ Overweight_Level_II │\n",
              "│ Male   ┆ 21   ┆ 1.7      ┆ 65.0       ┆ … ┆ 2   ┆ Always     ┆ Walking   ┆ Normal_Weight       │\n",
              "│ Male   ┆ 23   ┆ 1.68     ┆ 70.0       ┆ … ┆ 2   ┆ Frequently ┆ Walking   ┆ Normal_Weight       │\n",
              "│ …      ┆ …    ┆ …        ┆ …          ┆ … ┆ …   ┆ …          ┆ …         ┆ …                   │\n",
              "│ Male   ┆ 20   ┆ 1.84     ┆ 104.0      ┆ … ┆ 0   ┆ no         ┆ Motorbike ┆ Obesity_Type_I      │\n",
              "│ Male   ┆ 21   ┆ 1.88     ┆ 84.0       ┆ … ┆ 1   ┆ Sometimes  ┆ Walking   ┆ Normal_Weight       │\n",
              "│ Male   ┆ 20   ┆ 1.8      ┆ 65.0       ┆ … ┆ 0   ┆ Sometimes  ┆ Motorbike ┆ Normal_Weight       │\n",
              "│ Male   ┆ 19   ┆ 1.8      ┆ 60.0       ┆ … ┆ 0   ┆ no         ┆ Motorbike ┆ Normal_Weight       │\n",
              "│ Male   ┆ null ┆ 1.913241 ┆ 101.482054 ┆ … ┆ 0   ┆ Sometimes  ┆ Walking   ┆ Overweight_Level_II │\n",
              "└────────┴──────┴──────────┴────────────┴───┴─────┴────────────┴───────────┴─────────────────────┘"
            ],
            "text/html": [
              "<div><style>\n",
              ".dataframe > thead > tr,\n",
              ".dataframe > tbody > tr {\n",
              "  text-align: right;\n",
              "  white-space: pre-wrap;\n",
              "}\n",
              "</style>\n",
              "<small>shape: (74, 17)</small><table border=\"1\" class=\"dataframe\"><thead><tr><th>Gender</th><th>Age</th><th>Height</th><th>Weight</th><th>family_history_with_overweight</th><th>FAVC</th><th>FCVC</th><th>NCP</th><th>CAEC</th><th>SMOKE</th><th>CH2O</th><th>SCC</th><th>FAF</th><th>TUE</th><th>CALC</th><th>MTRANS</th><th>NObeyesdad</th></tr><tr><td>str</td><td>i64</td><td>f64</td><td>f64</td><td>str</td><td>str</td><td>i64</td><td>i64</td><td>str</td><td>str</td><td>i64</td><td>str</td><td>i64</td><td>i64</td><td>str</td><td>str</td><td>str</td></tr></thead><tbody><tr><td>&quot;Male&quot;</td><td>27</td><td>1.8</td><td>87.0</td><td>&quot;no&quot;</td><td>&quot;no&quot;</td><td>3</td><td>3</td><td>&quot;Sometimes&quot;</td><td>&quot;no&quot;</td><td>2</td><td>&quot;no&quot;</td><td>2</td><td>0</td><td>&quot;Frequently&quot;</td><td>&quot;Walking&quot;</td><td>&quot;Overweight_Level_I&quot;</td></tr><tr><td>&quot;Female&quot;</td><td>23</td><td>1.5</td><td>55.0</td><td>&quot;yes&quot;</td><td>&quot;yes&quot;</td><td>3</td><td>3</td><td>&quot;Sometimes&quot;</td><td>&quot;no&quot;</td><td>2</td><td>&quot;no&quot;</td><td>1</td><td>0</td><td>&quot;Sometimes&quot;</td><td>&quot;Motorbike&quot;</td><td>&quot;Normal_Weight&quot;</td></tr><tr><td>&quot;Male&quot;</td><td>22</td><td>1.65</td><td>80.0</td><td>&quot;yes&quot;</td><td>&quot;no&quot;</td><td>2</td><td>3</td><td>&quot;Sometimes&quot;</td><td>&quot;no&quot;</td><td>2</td><td>&quot;no&quot;</td><td>3</td><td>2</td><td>&quot;no&quot;</td><td>&quot;Walking&quot;</td><td>&quot;Overweight_Level_II&quot;</td></tr><tr><td>&quot;Male&quot;</td><td>21</td><td>1.7</td><td>65.0</td><td>&quot;yes&quot;</td><td>&quot;yes&quot;</td><td>2</td><td>1</td><td>&quot;Frequently&quot;</td><td>&quot;no&quot;</td><td>2</td><td>&quot;no&quot;</td><td>1</td><td>2</td><td>&quot;Always&quot;</td><td>&quot;Walking&quot;</td><td>&quot;Normal_Weight&quot;</td></tr><tr><td>&quot;Male&quot;</td><td>23</td><td>1.68</td><td>70.0</td><td>&quot;no&quot;</td><td>&quot;yes&quot;</td><td>2</td><td>3</td><td>&quot;Sometimes&quot;</td><td>&quot;no&quot;</td><td>2</td><td>&quot;no&quot;</td><td>2</td><td>2</td><td>&quot;Frequently&quot;</td><td>&quot;Walking&quot;</td><td>&quot;Normal_Weight&quot;</td></tr><tr><td>&hellip;</td><td>&hellip;</td><td>&hellip;</td><td>&hellip;</td><td>&hellip;</td><td>&hellip;</td><td>&hellip;</td><td>&hellip;</td><td>&hellip;</td><td>&hellip;</td><td>&hellip;</td><td>&hellip;</td><td>&hellip;</td><td>&hellip;</td><td>&hellip;</td><td>&hellip;</td><td>&hellip;</td></tr><tr><td>&quot;Male&quot;</td><td>20</td><td>1.84</td><td>104.0</td><td>&quot;yes&quot;</td><td>&quot;no&quot;</td><td>2</td><td>3</td><td>&quot;Sometimes&quot;</td><td>&quot;no&quot;</td><td>3</td><td>&quot;no&quot;</td><td>3</td><td>0</td><td>&quot;no&quot;</td><td>&quot;Motorbike&quot;</td><td>&quot;Obesity_Type_I&quot;</td></tr><tr><td>&quot;Male&quot;</td><td>21</td><td>1.88</td><td>84.0</td><td>&quot;yes&quot;</td><td>&quot;yes&quot;</td><td>3</td><td>3</td><td>&quot;Sometimes&quot;</td><td>&quot;no&quot;</td><td>3</td><td>&quot;no&quot;</td><td>2</td><td>1</td><td>&quot;Sometimes&quot;</td><td>&quot;Walking&quot;</td><td>&quot;Normal_Weight&quot;</td></tr><tr><td>&quot;Male&quot;</td><td>20</td><td>1.8</td><td>65.0</td><td>&quot;no&quot;</td><td>&quot;yes&quot;</td><td>2</td><td>3</td><td>&quot;Frequently&quot;</td><td>&quot;no&quot;</td><td>1</td><td>&quot;no&quot;</td><td>2</td><td>0</td><td>&quot;Sometimes&quot;</td><td>&quot;Motorbike&quot;</td><td>&quot;Normal_Weight&quot;</td></tr><tr><td>&quot;Male&quot;</td><td>19</td><td>1.8</td><td>60.0</td><td>&quot;yes&quot;</td><td>&quot;yes&quot;</td><td>3</td><td>1</td><td>&quot;Always&quot;</td><td>&quot;no&quot;</td><td>1</td><td>&quot;yes&quot;</td><td>0</td><td>0</td><td>&quot;no&quot;</td><td>&quot;Motorbike&quot;</td><td>&quot;Normal_Weight&quot;</td></tr><tr><td>&quot;Male&quot;</td><td>null</td><td>1.913241</td><td>101.482054</td><td>&quot;yes&quot;</td><td>&quot;yes&quot;</td><td>2</td><td>null</td><td>&quot;Sometimes&quot;</td><td>&quot;no&quot;</td><td>null</td><td>&quot;no&quot;</td><td>1</td><td>0</td><td>&quot;Sometimes&quot;</td><td>&quot;Walking&quot;</td><td>&quot;Overweight_Level_II&quot;</td></tr></tbody></table></div>"
            ]
          },
          "metadata": {},
          "execution_count": 47
        }
      ]
    },
    {
      "cell_type": "code",
      "source": [
        "# Query optimization\n",
        "pl.scan_csv(\"ObesityDataSet_raw_and_data_sinthetic.csv\").filter(pl.col(\"NObeyesdad\") == \"Normal_Weight\").explain()"
      ],
      "metadata": {
        "colab": {
          "base_uri": "https://localhost:8080/",
          "height": 52
        },
        "id": "soPTb0bZDfOX",
        "outputId": "5eb1625b-f1ee-4ea6-b352-92123ef15611"
      },
      "execution_count": 48,
      "outputs": [
        {
          "output_type": "execute_result",
          "data": {
            "text/plain": [
              "'Csv SCAN [ObesityDataSet_raw_and_data_sinthetic.csv]\\nPROJECT */17 COLUMNS\\nSELECTION: [(col(\"NObeyesdad\")) == (String(Normal_Weight))]'"
            ],
            "application/vnd.google.colaboratory.intrinsic+json": {
              "type": "string"
            }
          },
          "metadata": {},
          "execution_count": 48
        }
      ]
    },
    {
      "cell_type": "markdown",
      "source": [
        "### Handling missing and duplicate values"
      ],
      "metadata": {
        "id": "OH0JGKhDJIgS"
      }
    },
    {
      "cell_type": "code",
      "source": [
        "# Count null values\n",
        "data.null_count()"
      ],
      "metadata": {
        "colab": {
          "base_uri": "https://localhost:8080/",
          "height": 148
        },
        "id": "Fa3zyPv5JWB8",
        "outputId": "872f04bd-f806-45e5-99ff-6211c4dd1b03"
      },
      "execution_count": 49,
      "outputs": [
        {
          "output_type": "execute_result",
          "data": {
            "text/plain": [
              "shape: (1, 17)\n",
              "┌────────┬──────┬────────┬────────┬───┬──────┬──────┬────────┬────────────┐\n",
              "│ Gender ┆ Age  ┆ Height ┆ Weight ┆ … ┆ TUE  ┆ CALC ┆ MTRANS ┆ NObeyesdad │\n",
              "│ ---    ┆ ---  ┆ ---    ┆ ---    ┆   ┆ ---  ┆ ---  ┆ ---    ┆ ---        │\n",
              "│ u32    ┆ u32  ┆ u32    ┆ u32    ┆   ┆ u32  ┆ u32  ┆ u32    ┆ u32        │\n",
              "╞════════╪══════╪════════╪════════╪═══╪══════╪══════╪════════╪════════════╡\n",
              "│ 0      ┆ 1375 ┆ 0      ┆ 0      ┆ … ┆ 1153 ┆ 0    ┆ 0      ┆ 0          │\n",
              "└────────┴──────┴────────┴────────┴───┴──────┴──────┴────────┴────────────┘"
            ],
            "text/html": [
              "<div><style>\n",
              ".dataframe > thead > tr,\n",
              ".dataframe > tbody > tr {\n",
              "  text-align: right;\n",
              "  white-space: pre-wrap;\n",
              "}\n",
              "</style>\n",
              "<small>shape: (1, 17)</small><table border=\"1\" class=\"dataframe\"><thead><tr><th>Gender</th><th>Age</th><th>Height</th><th>Weight</th><th>family_history_with_overweight</th><th>FAVC</th><th>FCVC</th><th>NCP</th><th>CAEC</th><th>SMOKE</th><th>CH2O</th><th>SCC</th><th>FAF</th><th>TUE</th><th>CALC</th><th>MTRANS</th><th>NObeyesdad</th></tr><tr><td>u32</td><td>u32</td><td>u32</td><td>u32</td><td>u32</td><td>u32</td><td>u32</td><td>u32</td><td>u32</td><td>u32</td><td>u32</td><td>u32</td><td>u32</td><td>u32</td><td>u32</td><td>u32</td><td>u32</td></tr></thead><tbody><tr><td>0</td><td>1375</td><td>0</td><td>0</td><td>0</td><td>0</td><td>826</td><td>640</td><td>0</td><td>0</td><td>1290</td><td>0</td><td>1208</td><td>1153</td><td>0</td><td>0</td><td>0</td></tr></tbody></table></div>"
            ]
          },
          "metadata": {},
          "execution_count": 49
        }
      ]
    },
    {
      "cell_type": "code",
      "source": [
        "# Filter rows with null in specific column\n",
        "data.filter(pl.col(\"Age\").is_null())"
      ],
      "metadata": {
        "colab": {
          "base_uri": "https://localhost:8080/",
          "height": 458
        },
        "id": "284PzpHIJ9q8",
        "outputId": "fad00ae0-840a-4512-d5dc-4277fb4c54da"
      },
      "execution_count": 50,
      "outputs": [
        {
          "output_type": "execute_result",
          "data": {
            "text/plain": [
              "shape: (1_375, 17)\n",
              "┌────────┬──────┬──────────┬────────────┬───┬──────┬───────────┬─────────────────┬─────────────────┐\n",
              "│ Gender ┆ Age  ┆ Height   ┆ Weight     ┆ … ┆ TUE  ┆ CALC      ┆ MTRANS          ┆ NObeyesdad      │\n",
              "│ ---    ┆ ---  ┆ ---      ┆ ---        ┆   ┆ ---  ┆ ---       ┆ ---             ┆ ---             │\n",
              "│ str    ┆ i64  ┆ f64      ┆ f64        ┆   ┆ i64  ┆ str       ┆ str             ┆ str             │\n",
              "╞════════╪══════╪══════════╪════════════╪═══╪══════╪═══════════╪═════════════════╪═════════════════╡\n",
              "│ Female ┆ null ┆ 1.686306 ┆ 104.572712 ┆ … ┆ 1    ┆ Sometimes ┆ Public_Transpor ┆ Obesity_Type_II │\n",
              "│        ┆      ┆          ┆            ┆   ┆      ┆           ┆ tation          ┆ I               │\n",
              "│ Female ┆ null ┆ 1.683124 ┆ 126.67378  ┆ … ┆ 1    ┆ Sometimes ┆ Public_Transpor ┆ Obesity_Type_II │\n",
              "│        ┆      ┆          ┆            ┆   ┆      ┆           ┆ tation          ┆ I               │\n",
              "│ Female ┆ null ┆ 1.755643 ┆ 137.796884 ┆ … ┆ null ┆ Sometimes ┆ Public_Transpor ┆ Obesity_Type_II │\n",
              "│        ┆      ┆          ┆            ┆   ┆      ┆           ┆ tation          ┆ I               │\n",
              "│ Female ┆ null ┆ 1.843419 ┆ 165.057269 ┆ … ┆ null ┆ Sometimes ┆ Public_Transpor ┆ Obesity_Type_II │\n",
              "│        ┆      ┆          ┆            ┆   ┆      ┆           ┆ tation          ┆ I               │\n",
              "│ Female ┆ null ┆ 1.7456   ┆ 133.03441  ┆ … ┆ null ┆ Sometimes ┆ Public_Transpor ┆ Obesity_Type_II │\n",
              "│        ┆      ┆          ┆            ┆   ┆      ┆           ┆ tation          ┆ I               │\n",
              "│ …      ┆ …    ┆ …        ┆ …          ┆ … ┆ …    ┆ …         ┆ …               ┆ …               │\n",
              "│ Female ┆ null ┆ 1.71073  ┆ 131.408528 ┆ … ┆ null ┆ Sometimes ┆ Public_Transpor ┆ Obesity_Type_II │\n",
              "│        ┆      ┆          ┆            ┆   ┆      ┆           ┆ tation          ┆ I               │\n",
              "│ Female ┆ null ┆ 1.748584 ┆ 133.742943 ┆ … ┆ null ┆ Sometimes ┆ Public_Transpor ┆ Obesity_Type_II │\n",
              "│        ┆      ┆          ┆            ┆   ┆      ┆           ┆ tation          ┆ I               │\n",
              "│ Female ┆ null ┆ 1.752206 ┆ 133.689352 ┆ … ┆ null ┆ Sometimes ┆ Public_Transpor ┆ Obesity_Type_II │\n",
              "│        ┆      ┆          ┆            ┆   ┆      ┆           ┆ tation          ┆ I               │\n",
              "│ Female ┆ null ┆ 1.73945  ┆ 133.346641 ┆ … ┆ null ┆ Sometimes ┆ Public_Transpor ┆ Obesity_Type_II │\n",
              "│        ┆      ┆          ┆            ┆   ┆      ┆           ┆ tation          ┆ I               │\n",
              "│ Female ┆ null ┆ 1.738836 ┆ 133.472641 ┆ … ┆ null ┆ Sometimes ┆ Public_Transpor ┆ Obesity_Type_II │\n",
              "│        ┆      ┆          ┆            ┆   ┆      ┆           ┆ tation          ┆ I               │\n",
              "└────────┴──────┴──────────┴────────────┴───┴──────┴───────────┴─────────────────┴─────────────────┘"
            ],
            "text/html": [
              "<div><style>\n",
              ".dataframe > thead > tr,\n",
              ".dataframe > tbody > tr {\n",
              "  text-align: right;\n",
              "  white-space: pre-wrap;\n",
              "}\n",
              "</style>\n",
              "<small>shape: (1_375, 17)</small><table border=\"1\" class=\"dataframe\"><thead><tr><th>Gender</th><th>Age</th><th>Height</th><th>Weight</th><th>family_history_with_overweight</th><th>FAVC</th><th>FCVC</th><th>NCP</th><th>CAEC</th><th>SMOKE</th><th>CH2O</th><th>SCC</th><th>FAF</th><th>TUE</th><th>CALC</th><th>MTRANS</th><th>NObeyesdad</th></tr><tr><td>str</td><td>i64</td><td>f64</td><td>f64</td><td>str</td><td>str</td><td>i64</td><td>i64</td><td>str</td><td>str</td><td>i64</td><td>str</td><td>i64</td><td>i64</td><td>str</td><td>str</td><td>str</td></tr></thead><tbody><tr><td>&quot;Female&quot;</td><td>null</td><td>1.686306</td><td>104.572712</td><td>&quot;yes&quot;</td><td>&quot;yes&quot;</td><td>3</td><td>3</td><td>&quot;Sometimes&quot;</td><td>&quot;no&quot;</td><td>null</td><td>&quot;no&quot;</td><td>null</td><td>1</td><td>&quot;Sometimes&quot;</td><td>&quot;Public_Transportation&quot;</td><td>&quot;Obesity_Type_III&quot;</td></tr><tr><td>&quot;Female&quot;</td><td>null</td><td>1.683124</td><td>126.67378</td><td>&quot;yes&quot;</td><td>&quot;yes&quot;</td><td>3</td><td>3</td><td>&quot;Sometimes&quot;</td><td>&quot;no&quot;</td><td>null</td><td>&quot;no&quot;</td><td>null</td><td>1</td><td>&quot;Sometimes&quot;</td><td>&quot;Public_Transportation&quot;</td><td>&quot;Obesity_Type_III&quot;</td></tr><tr><td>&quot;Female&quot;</td><td>null</td><td>1.755643</td><td>137.796884</td><td>&quot;yes&quot;</td><td>&quot;yes&quot;</td><td>3</td><td>3</td><td>&quot;Sometimes&quot;</td><td>&quot;no&quot;</td><td>null</td><td>&quot;no&quot;</td><td>null</td><td>null</td><td>&quot;Sometimes&quot;</td><td>&quot;Public_Transportation&quot;</td><td>&quot;Obesity_Type_III&quot;</td></tr><tr><td>&quot;Female&quot;</td><td>null</td><td>1.843419</td><td>165.057269</td><td>&quot;yes&quot;</td><td>&quot;yes&quot;</td><td>3</td><td>3</td><td>&quot;Sometimes&quot;</td><td>&quot;no&quot;</td><td>null</td><td>&quot;no&quot;</td><td>null</td><td>null</td><td>&quot;Sometimes&quot;</td><td>&quot;Public_Transportation&quot;</td><td>&quot;Obesity_Type_III&quot;</td></tr><tr><td>&quot;Female&quot;</td><td>null</td><td>1.7456</td><td>133.03441</td><td>&quot;yes&quot;</td><td>&quot;yes&quot;</td><td>3</td><td>3</td><td>&quot;Sometimes&quot;</td><td>&quot;no&quot;</td><td>null</td><td>&quot;no&quot;</td><td>null</td><td>null</td><td>&quot;Sometimes&quot;</td><td>&quot;Public_Transportation&quot;</td><td>&quot;Obesity_Type_III&quot;</td></tr><tr><td>&hellip;</td><td>&hellip;</td><td>&hellip;</td><td>&hellip;</td><td>&hellip;</td><td>&hellip;</td><td>&hellip;</td><td>&hellip;</td><td>&hellip;</td><td>&hellip;</td><td>&hellip;</td><td>&hellip;</td><td>&hellip;</td><td>&hellip;</td><td>&hellip;</td><td>&hellip;</td><td>&hellip;</td></tr><tr><td>&quot;Female&quot;</td><td>null</td><td>1.71073</td><td>131.408528</td><td>&quot;yes&quot;</td><td>&quot;yes&quot;</td><td>3</td><td>3</td><td>&quot;Sometimes&quot;</td><td>&quot;no&quot;</td><td>null</td><td>&quot;no&quot;</td><td>null</td><td>null</td><td>&quot;Sometimes&quot;</td><td>&quot;Public_Transportation&quot;</td><td>&quot;Obesity_Type_III&quot;</td></tr><tr><td>&quot;Female&quot;</td><td>null</td><td>1.748584</td><td>133.742943</td><td>&quot;yes&quot;</td><td>&quot;yes&quot;</td><td>3</td><td>3</td><td>&quot;Sometimes&quot;</td><td>&quot;no&quot;</td><td>null</td><td>&quot;no&quot;</td><td>null</td><td>null</td><td>&quot;Sometimes&quot;</td><td>&quot;Public_Transportation&quot;</td><td>&quot;Obesity_Type_III&quot;</td></tr><tr><td>&quot;Female&quot;</td><td>null</td><td>1.752206</td><td>133.689352</td><td>&quot;yes&quot;</td><td>&quot;yes&quot;</td><td>3</td><td>3</td><td>&quot;Sometimes&quot;</td><td>&quot;no&quot;</td><td>null</td><td>&quot;no&quot;</td><td>null</td><td>null</td><td>&quot;Sometimes&quot;</td><td>&quot;Public_Transportation&quot;</td><td>&quot;Obesity_Type_III&quot;</td></tr><tr><td>&quot;Female&quot;</td><td>null</td><td>1.73945</td><td>133.346641</td><td>&quot;yes&quot;</td><td>&quot;yes&quot;</td><td>3</td><td>3</td><td>&quot;Sometimes&quot;</td><td>&quot;no&quot;</td><td>null</td><td>&quot;no&quot;</td><td>null</td><td>null</td><td>&quot;Sometimes&quot;</td><td>&quot;Public_Transportation&quot;</td><td>&quot;Obesity_Type_III&quot;</td></tr><tr><td>&quot;Female&quot;</td><td>null</td><td>1.738836</td><td>133.472641</td><td>&quot;yes&quot;</td><td>&quot;yes&quot;</td><td>3</td><td>3</td><td>&quot;Sometimes&quot;</td><td>&quot;no&quot;</td><td>null</td><td>&quot;no&quot;</td><td>null</td><td>null</td><td>&quot;Sometimes&quot;</td><td>&quot;Public_Transportation&quot;</td><td>&quot;Obesity_Type_III&quot;</td></tr></tbody></table></div>"
            ]
          },
          "metadata": {},
          "execution_count": 50
        }
      ]
    },
    {
      "cell_type": "code",
      "source": [
        "# Dropping rows with null values\n",
        "data.drop_nulls()"
      ],
      "metadata": {
        "colab": {
          "base_uri": "https://localhost:8080/",
          "height": 458
        },
        "id": "MDj_d84ZKMFB",
        "outputId": "459640b2-97ea-4b2d-db2d-92b2a28276f6"
      },
      "execution_count": 51,
      "outputs": [
        {
          "output_type": "execute_result",
          "data": {
            "text/plain": [
              "shape: (515, 17)\n",
              "┌────────┬─────┬────────┬────────┬───┬─────┬────────────┬─────────────────────┬────────────────────┐\n",
              "│ Gender ┆ Age ┆ Height ┆ Weight ┆ … ┆ TUE ┆ CALC       ┆ MTRANS              ┆ NObeyesdad         │\n",
              "│ ---    ┆ --- ┆ ---    ┆ ---    ┆   ┆ --- ┆ ---        ┆ ---                 ┆ ---                │\n",
              "│ str    ┆ i64 ┆ f64    ┆ f64    ┆   ┆ i64 ┆ str        ┆ str                 ┆ str                │\n",
              "╞════════╪═════╪════════╪════════╪═══╪═════╪════════════╪═════════════════════╪════════════════════╡\n",
              "│ Female ┆ 21  ┆ 1.62   ┆ 64.0   ┆ … ┆ 1   ┆ no         ┆ Public_Transportati ┆ Normal_Weight      │\n",
              "│        ┆     ┆        ┆        ┆   ┆     ┆            ┆ on                  ┆                    │\n",
              "│ Female ┆ 21  ┆ 1.52   ┆ 56.0   ┆ … ┆ 0   ┆ Sometimes  ┆ Public_Transportati ┆ Normal_Weight      │\n",
              "│        ┆     ┆        ┆        ┆   ┆     ┆            ┆ on                  ┆                    │\n",
              "│ Male   ┆ 23  ┆ 1.8    ┆ 77.0   ┆ … ┆ 1   ┆ Frequently ┆ Public_Transportati ┆ Normal_Weight      │\n",
              "│        ┆     ┆        ┆        ┆   ┆     ┆            ┆ on                  ┆                    │\n",
              "│ Male   ┆ 27  ┆ 1.8    ┆ 87.0   ┆ … ┆ 0   ┆ Frequently ┆ Walking             ┆ Overweight_Level_I │\n",
              "│ Male   ┆ 22  ┆ 1.78   ┆ 89.8   ┆ … ┆ 0   ┆ Sometimes  ┆ Public_Transportati ┆ Overweight_Level_I │\n",
              "│        ┆     ┆        ┆        ┆   ┆     ┆            ┆ on                  ┆ I                  │\n",
              "│ …      ┆ …   ┆ …      ┆ …      ┆ … ┆ …   ┆ …          ┆ …                   ┆ …                  │\n",
              "│ Male   ┆ 21  ┆ 1.62   ┆ 70.0   ┆ … ┆ 0   ┆ Sometimes  ┆ Public_Transportati ┆ Overweight_Level_I │\n",
              "│        ┆     ┆        ┆        ┆   ┆     ┆            ┆ on                  ┆                    │\n",
              "│ Male   ┆ 21  ┆ 1.62   ┆ 70.0   ┆ … ┆ 0   ┆ Sometimes  ┆ Public_Transportati ┆ Overweight_Level_I │\n",
              "│        ┆     ┆        ┆        ┆   ┆     ┆            ┆ on                  ┆                    │\n",
              "│ Male   ┆ 21  ┆ 1.62   ┆ 70.0   ┆ … ┆ 0   ┆ Sometimes  ┆ Public_Transportati ┆ Overweight_Level_I │\n",
              "│        ┆     ┆        ┆        ┆   ┆     ┆            ┆ on                  ┆                    │\n",
              "│ Male   ┆ 21  ┆ 1.62   ┆ 70.0   ┆ … ┆ 0   ┆ Sometimes  ┆ Public_Transportati ┆ Overweight_Level_I │\n",
              "│        ┆     ┆        ┆        ┆   ┆     ┆            ┆ on                  ┆                    │\n",
              "│ Male   ┆ 21  ┆ 1.62   ┆ 70.0   ┆ … ┆ 0   ┆ Sometimes  ┆ Public_Transportati ┆ Overweight_Level_I │\n",
              "│        ┆     ┆        ┆        ┆   ┆     ┆            ┆ on                  ┆                    │\n",
              "└────────┴─────┴────────┴────────┴───┴─────┴────────────┴─────────────────────┴────────────────────┘"
            ],
            "text/html": [
              "<div><style>\n",
              ".dataframe > thead > tr,\n",
              ".dataframe > tbody > tr {\n",
              "  text-align: right;\n",
              "  white-space: pre-wrap;\n",
              "}\n",
              "</style>\n",
              "<small>shape: (515, 17)</small><table border=\"1\" class=\"dataframe\"><thead><tr><th>Gender</th><th>Age</th><th>Height</th><th>Weight</th><th>family_history_with_overweight</th><th>FAVC</th><th>FCVC</th><th>NCP</th><th>CAEC</th><th>SMOKE</th><th>CH2O</th><th>SCC</th><th>FAF</th><th>TUE</th><th>CALC</th><th>MTRANS</th><th>NObeyesdad</th></tr><tr><td>str</td><td>i64</td><td>f64</td><td>f64</td><td>str</td><td>str</td><td>i64</td><td>i64</td><td>str</td><td>str</td><td>i64</td><td>str</td><td>i64</td><td>i64</td><td>str</td><td>str</td><td>str</td></tr></thead><tbody><tr><td>&quot;Female&quot;</td><td>21</td><td>1.62</td><td>64.0</td><td>&quot;yes&quot;</td><td>&quot;no&quot;</td><td>2</td><td>3</td><td>&quot;Sometimes&quot;</td><td>&quot;no&quot;</td><td>2</td><td>&quot;no&quot;</td><td>0</td><td>1</td><td>&quot;no&quot;</td><td>&quot;Public_Transportation&quot;</td><td>&quot;Normal_Weight&quot;</td></tr><tr><td>&quot;Female&quot;</td><td>21</td><td>1.52</td><td>56.0</td><td>&quot;yes&quot;</td><td>&quot;no&quot;</td><td>3</td><td>3</td><td>&quot;Sometimes&quot;</td><td>&quot;yes&quot;</td><td>3</td><td>&quot;yes&quot;</td><td>3</td><td>0</td><td>&quot;Sometimes&quot;</td><td>&quot;Public_Transportation&quot;</td><td>&quot;Normal_Weight&quot;</td></tr><tr><td>&quot;Male&quot;</td><td>23</td><td>1.8</td><td>77.0</td><td>&quot;yes&quot;</td><td>&quot;no&quot;</td><td>2</td><td>3</td><td>&quot;Sometimes&quot;</td><td>&quot;no&quot;</td><td>2</td><td>&quot;no&quot;</td><td>2</td><td>1</td><td>&quot;Frequently&quot;</td><td>&quot;Public_Transportation&quot;</td><td>&quot;Normal_Weight&quot;</td></tr><tr><td>&quot;Male&quot;</td><td>27</td><td>1.8</td><td>87.0</td><td>&quot;no&quot;</td><td>&quot;no&quot;</td><td>3</td><td>3</td><td>&quot;Sometimes&quot;</td><td>&quot;no&quot;</td><td>2</td><td>&quot;no&quot;</td><td>2</td><td>0</td><td>&quot;Frequently&quot;</td><td>&quot;Walking&quot;</td><td>&quot;Overweight_Level_I&quot;</td></tr><tr><td>&quot;Male&quot;</td><td>22</td><td>1.78</td><td>89.8</td><td>&quot;no&quot;</td><td>&quot;no&quot;</td><td>2</td><td>1</td><td>&quot;Sometimes&quot;</td><td>&quot;no&quot;</td><td>2</td><td>&quot;no&quot;</td><td>0</td><td>0</td><td>&quot;Sometimes&quot;</td><td>&quot;Public_Transportation&quot;</td><td>&quot;Overweight_Level_II&quot;</td></tr><tr><td>&hellip;</td><td>&hellip;</td><td>&hellip;</td><td>&hellip;</td><td>&hellip;</td><td>&hellip;</td><td>&hellip;</td><td>&hellip;</td><td>&hellip;</td><td>&hellip;</td><td>&hellip;</td><td>&hellip;</td><td>&hellip;</td><td>&hellip;</td><td>&hellip;</td><td>&hellip;</td><td>&hellip;</td></tr><tr><td>&quot;Male&quot;</td><td>21</td><td>1.62</td><td>70.0</td><td>&quot;no&quot;</td><td>&quot;yes&quot;</td><td>2</td><td>1</td><td>&quot;no&quot;</td><td>&quot;no&quot;</td><td>3</td><td>&quot;no&quot;</td><td>1</td><td>0</td><td>&quot;Sometimes&quot;</td><td>&quot;Public_Transportation&quot;</td><td>&quot;Overweight_Level_I&quot;</td></tr><tr><td>&quot;Male&quot;</td><td>21</td><td>1.62</td><td>70.0</td><td>&quot;no&quot;</td><td>&quot;yes&quot;</td><td>2</td><td>1</td><td>&quot;no&quot;</td><td>&quot;no&quot;</td><td>3</td><td>&quot;no&quot;</td><td>1</td><td>0</td><td>&quot;Sometimes&quot;</td><td>&quot;Public_Transportation&quot;</td><td>&quot;Overweight_Level_I&quot;</td></tr><tr><td>&quot;Male&quot;</td><td>21</td><td>1.62</td><td>70.0</td><td>&quot;no&quot;</td><td>&quot;yes&quot;</td><td>2</td><td>1</td><td>&quot;no&quot;</td><td>&quot;no&quot;</td><td>3</td><td>&quot;no&quot;</td><td>1</td><td>0</td><td>&quot;Sometimes&quot;</td><td>&quot;Public_Transportation&quot;</td><td>&quot;Overweight_Level_I&quot;</td></tr><tr><td>&quot;Male&quot;</td><td>21</td><td>1.62</td><td>70.0</td><td>&quot;no&quot;</td><td>&quot;yes&quot;</td><td>2</td><td>1</td><td>&quot;no&quot;</td><td>&quot;no&quot;</td><td>3</td><td>&quot;no&quot;</td><td>1</td><td>0</td><td>&quot;Sometimes&quot;</td><td>&quot;Public_Transportation&quot;</td><td>&quot;Overweight_Level_I&quot;</td></tr><tr><td>&quot;Male&quot;</td><td>21</td><td>1.62</td><td>70.0</td><td>&quot;no&quot;</td><td>&quot;yes&quot;</td><td>2</td><td>1</td><td>&quot;no&quot;</td><td>&quot;no&quot;</td><td>3</td><td>&quot;no&quot;</td><td>1</td><td>0</td><td>&quot;Sometimes&quot;</td><td>&quot;Public_Transportation&quot;</td><td>&quot;Overweight_Level_I&quot;</td></tr></tbody></table></div>"
            ]
          },
          "metadata": {},
          "execution_count": 51
        }
      ]
    },
    {
      "cell_type": "code",
      "source": [
        "# Dropping rows with nulls in specific columns\n",
        "data.drop_nulls(subset=[\"NCP\"])"
      ],
      "metadata": {
        "colab": {
          "base_uri": "https://localhost:8080/",
          "height": 458
        },
        "id": "SHW2MTkrKihu",
        "outputId": "1c5807b5-18cc-4aea-c76e-58b82bf9a229"
      },
      "execution_count": 52,
      "outputs": [
        {
          "output_type": "execute_result",
          "data": {
            "text/plain": [
              "shape: (1_471, 17)\n",
              "┌────────┬──────┬──────────┬────────────┬───┬──────┬────────────┬─────────────────┬────────────────┐\n",
              "│ Gender ┆ Age  ┆ Height   ┆ Weight     ┆ … ┆ TUE  ┆ CALC       ┆ MTRANS          ┆ NObeyesdad     │\n",
              "│ ---    ┆ ---  ┆ ---      ┆ ---        ┆   ┆ ---  ┆ ---        ┆ ---             ┆ ---            │\n",
              "│ str    ┆ i64  ┆ f64      ┆ f64        ┆   ┆ i64  ┆ str        ┆ str             ┆ str            │\n",
              "╞════════╪══════╪══════════╪════════════╪═══╪══════╪════════════╪═════════════════╪════════════════╡\n",
              "│ Female ┆ 21   ┆ 1.62     ┆ 64.0       ┆ … ┆ 1    ┆ no         ┆ Public_Transpor ┆ Normal_Weight  │\n",
              "│        ┆      ┆          ┆            ┆   ┆      ┆            ┆ tation          ┆                │\n",
              "│ Female ┆ 21   ┆ 1.52     ┆ 56.0       ┆ … ┆ 0    ┆ Sometimes  ┆ Public_Transpor ┆ Normal_Weight  │\n",
              "│        ┆      ┆          ┆            ┆   ┆      ┆            ┆ tation          ┆                │\n",
              "│ Male   ┆ 23   ┆ 1.8      ┆ 77.0       ┆ … ┆ 1    ┆ Frequently ┆ Public_Transpor ┆ Normal_Weight  │\n",
              "│        ┆      ┆          ┆            ┆   ┆      ┆            ┆ tation          ┆                │\n",
              "│ Male   ┆ 27   ┆ 1.8      ┆ 87.0       ┆ … ┆ 0    ┆ Frequently ┆ Walking         ┆ Overweight_Lev │\n",
              "│        ┆      ┆          ┆            ┆   ┆      ┆            ┆                 ┆ el_I           │\n",
              "│ Male   ┆ 22   ┆ 1.78     ┆ 89.8       ┆ … ┆ 0    ┆ Sometimes  ┆ Public_Transpor ┆ Overweight_Lev │\n",
              "│        ┆      ┆          ┆            ┆   ┆      ┆            ┆ tation          ┆ el_II          │\n",
              "│ …      ┆ …    ┆ …        ┆ …          ┆ … ┆ …    ┆ …          ┆ …               ┆ …              │\n",
              "│ Female ┆ null ┆ 1.71073  ┆ 131.408528 ┆ … ┆ null ┆ Sometimes  ┆ Public_Transpor ┆ Obesity_Type_I │\n",
              "│        ┆      ┆          ┆            ┆   ┆      ┆            ┆ tation          ┆ II             │\n",
              "│ Female ┆ null ┆ 1.748584 ┆ 133.742943 ┆ … ┆ null ┆ Sometimes  ┆ Public_Transpor ┆ Obesity_Type_I │\n",
              "│        ┆      ┆          ┆            ┆   ┆      ┆            ┆ tation          ┆ II             │\n",
              "│ Female ┆ null ┆ 1.752206 ┆ 133.689352 ┆ … ┆ null ┆ Sometimes  ┆ Public_Transpor ┆ Obesity_Type_I │\n",
              "│        ┆      ┆          ┆            ┆   ┆      ┆            ┆ tation          ┆ II             │\n",
              "│ Female ┆ null ┆ 1.73945  ┆ 133.346641 ┆ … ┆ null ┆ Sometimes  ┆ Public_Transpor ┆ Obesity_Type_I │\n",
              "│        ┆      ┆          ┆            ┆   ┆      ┆            ┆ tation          ┆ II             │\n",
              "│ Female ┆ null ┆ 1.738836 ┆ 133.472641 ┆ … ┆ null ┆ Sometimes  ┆ Public_Transpor ┆ Obesity_Type_I │\n",
              "│        ┆      ┆          ┆            ┆   ┆      ┆            ┆ tation          ┆ II             │\n",
              "└────────┴──────┴──────────┴────────────┴───┴──────┴────────────┴─────────────────┴────────────────┘"
            ],
            "text/html": [
              "<div><style>\n",
              ".dataframe > thead > tr,\n",
              ".dataframe > tbody > tr {\n",
              "  text-align: right;\n",
              "  white-space: pre-wrap;\n",
              "}\n",
              "</style>\n",
              "<small>shape: (1_471, 17)</small><table border=\"1\" class=\"dataframe\"><thead><tr><th>Gender</th><th>Age</th><th>Height</th><th>Weight</th><th>family_history_with_overweight</th><th>FAVC</th><th>FCVC</th><th>NCP</th><th>CAEC</th><th>SMOKE</th><th>CH2O</th><th>SCC</th><th>FAF</th><th>TUE</th><th>CALC</th><th>MTRANS</th><th>NObeyesdad</th></tr><tr><td>str</td><td>i64</td><td>f64</td><td>f64</td><td>str</td><td>str</td><td>i64</td><td>i64</td><td>str</td><td>str</td><td>i64</td><td>str</td><td>i64</td><td>i64</td><td>str</td><td>str</td><td>str</td></tr></thead><tbody><tr><td>&quot;Female&quot;</td><td>21</td><td>1.62</td><td>64.0</td><td>&quot;yes&quot;</td><td>&quot;no&quot;</td><td>2</td><td>3</td><td>&quot;Sometimes&quot;</td><td>&quot;no&quot;</td><td>2</td><td>&quot;no&quot;</td><td>0</td><td>1</td><td>&quot;no&quot;</td><td>&quot;Public_Transportation&quot;</td><td>&quot;Normal_Weight&quot;</td></tr><tr><td>&quot;Female&quot;</td><td>21</td><td>1.52</td><td>56.0</td><td>&quot;yes&quot;</td><td>&quot;no&quot;</td><td>3</td><td>3</td><td>&quot;Sometimes&quot;</td><td>&quot;yes&quot;</td><td>3</td><td>&quot;yes&quot;</td><td>3</td><td>0</td><td>&quot;Sometimes&quot;</td><td>&quot;Public_Transportation&quot;</td><td>&quot;Normal_Weight&quot;</td></tr><tr><td>&quot;Male&quot;</td><td>23</td><td>1.8</td><td>77.0</td><td>&quot;yes&quot;</td><td>&quot;no&quot;</td><td>2</td><td>3</td><td>&quot;Sometimes&quot;</td><td>&quot;no&quot;</td><td>2</td><td>&quot;no&quot;</td><td>2</td><td>1</td><td>&quot;Frequently&quot;</td><td>&quot;Public_Transportation&quot;</td><td>&quot;Normal_Weight&quot;</td></tr><tr><td>&quot;Male&quot;</td><td>27</td><td>1.8</td><td>87.0</td><td>&quot;no&quot;</td><td>&quot;no&quot;</td><td>3</td><td>3</td><td>&quot;Sometimes&quot;</td><td>&quot;no&quot;</td><td>2</td><td>&quot;no&quot;</td><td>2</td><td>0</td><td>&quot;Frequently&quot;</td><td>&quot;Walking&quot;</td><td>&quot;Overweight_Level_I&quot;</td></tr><tr><td>&quot;Male&quot;</td><td>22</td><td>1.78</td><td>89.8</td><td>&quot;no&quot;</td><td>&quot;no&quot;</td><td>2</td><td>1</td><td>&quot;Sometimes&quot;</td><td>&quot;no&quot;</td><td>2</td><td>&quot;no&quot;</td><td>0</td><td>0</td><td>&quot;Sometimes&quot;</td><td>&quot;Public_Transportation&quot;</td><td>&quot;Overweight_Level_II&quot;</td></tr><tr><td>&hellip;</td><td>&hellip;</td><td>&hellip;</td><td>&hellip;</td><td>&hellip;</td><td>&hellip;</td><td>&hellip;</td><td>&hellip;</td><td>&hellip;</td><td>&hellip;</td><td>&hellip;</td><td>&hellip;</td><td>&hellip;</td><td>&hellip;</td><td>&hellip;</td><td>&hellip;</td><td>&hellip;</td></tr><tr><td>&quot;Female&quot;</td><td>null</td><td>1.71073</td><td>131.408528</td><td>&quot;yes&quot;</td><td>&quot;yes&quot;</td><td>3</td><td>3</td><td>&quot;Sometimes&quot;</td><td>&quot;no&quot;</td><td>null</td><td>&quot;no&quot;</td><td>null</td><td>null</td><td>&quot;Sometimes&quot;</td><td>&quot;Public_Transportation&quot;</td><td>&quot;Obesity_Type_III&quot;</td></tr><tr><td>&quot;Female&quot;</td><td>null</td><td>1.748584</td><td>133.742943</td><td>&quot;yes&quot;</td><td>&quot;yes&quot;</td><td>3</td><td>3</td><td>&quot;Sometimes&quot;</td><td>&quot;no&quot;</td><td>null</td><td>&quot;no&quot;</td><td>null</td><td>null</td><td>&quot;Sometimes&quot;</td><td>&quot;Public_Transportation&quot;</td><td>&quot;Obesity_Type_III&quot;</td></tr><tr><td>&quot;Female&quot;</td><td>null</td><td>1.752206</td><td>133.689352</td><td>&quot;yes&quot;</td><td>&quot;yes&quot;</td><td>3</td><td>3</td><td>&quot;Sometimes&quot;</td><td>&quot;no&quot;</td><td>null</td><td>&quot;no&quot;</td><td>null</td><td>null</td><td>&quot;Sometimes&quot;</td><td>&quot;Public_Transportation&quot;</td><td>&quot;Obesity_Type_III&quot;</td></tr><tr><td>&quot;Female&quot;</td><td>null</td><td>1.73945</td><td>133.346641</td><td>&quot;yes&quot;</td><td>&quot;yes&quot;</td><td>3</td><td>3</td><td>&quot;Sometimes&quot;</td><td>&quot;no&quot;</td><td>null</td><td>&quot;no&quot;</td><td>null</td><td>null</td><td>&quot;Sometimes&quot;</td><td>&quot;Public_Transportation&quot;</td><td>&quot;Obesity_Type_III&quot;</td></tr><tr><td>&quot;Female&quot;</td><td>null</td><td>1.738836</td><td>133.472641</td><td>&quot;yes&quot;</td><td>&quot;yes&quot;</td><td>3</td><td>3</td><td>&quot;Sometimes&quot;</td><td>&quot;no&quot;</td><td>null</td><td>&quot;no&quot;</td><td>null</td><td>null</td><td>&quot;Sometimes&quot;</td><td>&quot;Public_Transportation&quot;</td><td>&quot;Obesity_Type_III&quot;</td></tr></tbody></table></div>"
            ]
          },
          "metadata": {},
          "execution_count": 52
        }
      ]
    },
    {
      "cell_type": "code",
      "source": [
        "# Filling nulls with a value\n",
        "data.with_columns(pl.col(\"CH2O\").fill_null(0))"
      ],
      "metadata": {
        "colab": {
          "base_uri": "https://localhost:8080/",
          "height": 458
        },
        "id": "7OpOxNRTLKCs",
        "outputId": "2f5b619d-ebf8-4d82-cb1c-12880f24a396"
      },
      "execution_count": 53,
      "outputs": [
        {
          "output_type": "execute_result",
          "data": {
            "text/plain": [
              "shape: (2_111, 17)\n",
              "┌────────┬──────┬──────────┬────────────┬───┬──────┬────────────┬─────────────────┬────────────────┐\n",
              "│ Gender ┆ Age  ┆ Height   ┆ Weight     ┆ … ┆ TUE  ┆ CALC       ┆ MTRANS          ┆ NObeyesdad     │\n",
              "│ ---    ┆ ---  ┆ ---      ┆ ---        ┆   ┆ ---  ┆ ---        ┆ ---             ┆ ---            │\n",
              "│ str    ┆ i64  ┆ f64      ┆ f64        ┆   ┆ i64  ┆ str        ┆ str             ┆ str            │\n",
              "╞════════╪══════╪══════════╪════════════╪═══╪══════╪════════════╪═════════════════╪════════════════╡\n",
              "│ Female ┆ 21   ┆ 1.62     ┆ 64.0       ┆ … ┆ 1    ┆ no         ┆ Public_Transpor ┆ Normal_Weight  │\n",
              "│        ┆      ┆          ┆            ┆   ┆      ┆            ┆ tation          ┆                │\n",
              "│ Female ┆ 21   ┆ 1.52     ┆ 56.0       ┆ … ┆ 0    ┆ Sometimes  ┆ Public_Transpor ┆ Normal_Weight  │\n",
              "│        ┆      ┆          ┆            ┆   ┆      ┆            ┆ tation          ┆                │\n",
              "│ Male   ┆ 23   ┆ 1.8      ┆ 77.0       ┆ … ┆ 1    ┆ Frequently ┆ Public_Transpor ┆ Normal_Weight  │\n",
              "│        ┆      ┆          ┆            ┆   ┆      ┆            ┆ tation          ┆                │\n",
              "│ Male   ┆ 27   ┆ 1.8      ┆ 87.0       ┆ … ┆ 0    ┆ Frequently ┆ Walking         ┆ Overweight_Lev │\n",
              "│        ┆      ┆          ┆            ┆   ┆      ┆            ┆                 ┆ el_I           │\n",
              "│ Male   ┆ 22   ┆ 1.78     ┆ 89.8       ┆ … ┆ 0    ┆ Sometimes  ┆ Public_Transpor ┆ Overweight_Lev │\n",
              "│        ┆      ┆          ┆            ┆   ┆      ┆            ┆ tation          ┆ el_II          │\n",
              "│ …      ┆ …    ┆ …        ┆ …          ┆ … ┆ …    ┆ …          ┆ …               ┆ …              │\n",
              "│ Female ┆ null ┆ 1.71073  ┆ 131.408528 ┆ … ┆ null ┆ Sometimes  ┆ Public_Transpor ┆ Obesity_Type_I │\n",
              "│        ┆      ┆          ┆            ┆   ┆      ┆            ┆ tation          ┆ II             │\n",
              "│ Female ┆ null ┆ 1.748584 ┆ 133.742943 ┆ … ┆ null ┆ Sometimes  ┆ Public_Transpor ┆ Obesity_Type_I │\n",
              "│        ┆      ┆          ┆            ┆   ┆      ┆            ┆ tation          ┆ II             │\n",
              "│ Female ┆ null ┆ 1.752206 ┆ 133.689352 ┆ … ┆ null ┆ Sometimes  ┆ Public_Transpor ┆ Obesity_Type_I │\n",
              "│        ┆      ┆          ┆            ┆   ┆      ┆            ┆ tation          ┆ II             │\n",
              "│ Female ┆ null ┆ 1.73945  ┆ 133.346641 ┆ … ┆ null ┆ Sometimes  ┆ Public_Transpor ┆ Obesity_Type_I │\n",
              "│        ┆      ┆          ┆            ┆   ┆      ┆            ┆ tation          ┆ II             │\n",
              "│ Female ┆ null ┆ 1.738836 ┆ 133.472641 ┆ … ┆ null ┆ Sometimes  ┆ Public_Transpor ┆ Obesity_Type_I │\n",
              "│        ┆      ┆          ┆            ┆   ┆      ┆            ┆ tation          ┆ II             │\n",
              "└────────┴──────┴──────────┴────────────┴───┴──────┴────────────┴─────────────────┴────────────────┘"
            ],
            "text/html": [
              "<div><style>\n",
              ".dataframe > thead > tr,\n",
              ".dataframe > tbody > tr {\n",
              "  text-align: right;\n",
              "  white-space: pre-wrap;\n",
              "}\n",
              "</style>\n",
              "<small>shape: (2_111, 17)</small><table border=\"1\" class=\"dataframe\"><thead><tr><th>Gender</th><th>Age</th><th>Height</th><th>Weight</th><th>family_history_with_overweight</th><th>FAVC</th><th>FCVC</th><th>NCP</th><th>CAEC</th><th>SMOKE</th><th>CH2O</th><th>SCC</th><th>FAF</th><th>TUE</th><th>CALC</th><th>MTRANS</th><th>NObeyesdad</th></tr><tr><td>str</td><td>i64</td><td>f64</td><td>f64</td><td>str</td><td>str</td><td>i64</td><td>i64</td><td>str</td><td>str</td><td>i64</td><td>str</td><td>i64</td><td>i64</td><td>str</td><td>str</td><td>str</td></tr></thead><tbody><tr><td>&quot;Female&quot;</td><td>21</td><td>1.62</td><td>64.0</td><td>&quot;yes&quot;</td><td>&quot;no&quot;</td><td>2</td><td>3</td><td>&quot;Sometimes&quot;</td><td>&quot;no&quot;</td><td>2</td><td>&quot;no&quot;</td><td>0</td><td>1</td><td>&quot;no&quot;</td><td>&quot;Public_Transportation&quot;</td><td>&quot;Normal_Weight&quot;</td></tr><tr><td>&quot;Female&quot;</td><td>21</td><td>1.52</td><td>56.0</td><td>&quot;yes&quot;</td><td>&quot;no&quot;</td><td>3</td><td>3</td><td>&quot;Sometimes&quot;</td><td>&quot;yes&quot;</td><td>3</td><td>&quot;yes&quot;</td><td>3</td><td>0</td><td>&quot;Sometimes&quot;</td><td>&quot;Public_Transportation&quot;</td><td>&quot;Normal_Weight&quot;</td></tr><tr><td>&quot;Male&quot;</td><td>23</td><td>1.8</td><td>77.0</td><td>&quot;yes&quot;</td><td>&quot;no&quot;</td><td>2</td><td>3</td><td>&quot;Sometimes&quot;</td><td>&quot;no&quot;</td><td>2</td><td>&quot;no&quot;</td><td>2</td><td>1</td><td>&quot;Frequently&quot;</td><td>&quot;Public_Transportation&quot;</td><td>&quot;Normal_Weight&quot;</td></tr><tr><td>&quot;Male&quot;</td><td>27</td><td>1.8</td><td>87.0</td><td>&quot;no&quot;</td><td>&quot;no&quot;</td><td>3</td><td>3</td><td>&quot;Sometimes&quot;</td><td>&quot;no&quot;</td><td>2</td><td>&quot;no&quot;</td><td>2</td><td>0</td><td>&quot;Frequently&quot;</td><td>&quot;Walking&quot;</td><td>&quot;Overweight_Level_I&quot;</td></tr><tr><td>&quot;Male&quot;</td><td>22</td><td>1.78</td><td>89.8</td><td>&quot;no&quot;</td><td>&quot;no&quot;</td><td>2</td><td>1</td><td>&quot;Sometimes&quot;</td><td>&quot;no&quot;</td><td>2</td><td>&quot;no&quot;</td><td>0</td><td>0</td><td>&quot;Sometimes&quot;</td><td>&quot;Public_Transportation&quot;</td><td>&quot;Overweight_Level_II&quot;</td></tr><tr><td>&hellip;</td><td>&hellip;</td><td>&hellip;</td><td>&hellip;</td><td>&hellip;</td><td>&hellip;</td><td>&hellip;</td><td>&hellip;</td><td>&hellip;</td><td>&hellip;</td><td>&hellip;</td><td>&hellip;</td><td>&hellip;</td><td>&hellip;</td><td>&hellip;</td><td>&hellip;</td><td>&hellip;</td></tr><tr><td>&quot;Female&quot;</td><td>null</td><td>1.71073</td><td>131.408528</td><td>&quot;yes&quot;</td><td>&quot;yes&quot;</td><td>3</td><td>3</td><td>&quot;Sometimes&quot;</td><td>&quot;no&quot;</td><td>0</td><td>&quot;no&quot;</td><td>null</td><td>null</td><td>&quot;Sometimes&quot;</td><td>&quot;Public_Transportation&quot;</td><td>&quot;Obesity_Type_III&quot;</td></tr><tr><td>&quot;Female&quot;</td><td>null</td><td>1.748584</td><td>133.742943</td><td>&quot;yes&quot;</td><td>&quot;yes&quot;</td><td>3</td><td>3</td><td>&quot;Sometimes&quot;</td><td>&quot;no&quot;</td><td>0</td><td>&quot;no&quot;</td><td>null</td><td>null</td><td>&quot;Sometimes&quot;</td><td>&quot;Public_Transportation&quot;</td><td>&quot;Obesity_Type_III&quot;</td></tr><tr><td>&quot;Female&quot;</td><td>null</td><td>1.752206</td><td>133.689352</td><td>&quot;yes&quot;</td><td>&quot;yes&quot;</td><td>3</td><td>3</td><td>&quot;Sometimes&quot;</td><td>&quot;no&quot;</td><td>0</td><td>&quot;no&quot;</td><td>null</td><td>null</td><td>&quot;Sometimes&quot;</td><td>&quot;Public_Transportation&quot;</td><td>&quot;Obesity_Type_III&quot;</td></tr><tr><td>&quot;Female&quot;</td><td>null</td><td>1.73945</td><td>133.346641</td><td>&quot;yes&quot;</td><td>&quot;yes&quot;</td><td>3</td><td>3</td><td>&quot;Sometimes&quot;</td><td>&quot;no&quot;</td><td>0</td><td>&quot;no&quot;</td><td>null</td><td>null</td><td>&quot;Sometimes&quot;</td><td>&quot;Public_Transportation&quot;</td><td>&quot;Obesity_Type_III&quot;</td></tr><tr><td>&quot;Female&quot;</td><td>null</td><td>1.738836</td><td>133.472641</td><td>&quot;yes&quot;</td><td>&quot;yes&quot;</td><td>3</td><td>3</td><td>&quot;Sometimes&quot;</td><td>&quot;no&quot;</td><td>0</td><td>&quot;no&quot;</td><td>null</td><td>null</td><td>&quot;Sometimes&quot;</td><td>&quot;Public_Transportation&quot;</td><td>&quot;Obesity_Type_III&quot;</td></tr></tbody></table></div>"
            ]
          },
          "metadata": {},
          "execution_count": 53
        }
      ]
    },
    {
      "cell_type": "code",
      "source": [
        "# Filling nulls with an expression\n",
        "data.with_columns(pl.col('Age').fill_null(pl.col('Age').mean()))"
      ],
      "metadata": {
        "colab": {
          "base_uri": "https://localhost:8080/",
          "height": 458
        },
        "id": "J48Wl360LmUC",
        "outputId": "6c9813a5-c463-47dd-c83d-fa263bbb6cd4"
      },
      "execution_count": 54,
      "outputs": [
        {
          "output_type": "execute_result",
          "data": {
            "text/plain": [
              "shape: (2_111, 17)\n",
              "┌────────┬─────────┬──────────┬────────────┬───┬──────┬────────────┬───────────────┬───────────────┐\n",
              "│ Gender ┆ Age     ┆ Height   ┆ Weight     ┆ … ┆ TUE  ┆ CALC       ┆ MTRANS        ┆ NObeyesdad    │\n",
              "│ ---    ┆ ---     ┆ ---      ┆ ---        ┆   ┆ ---  ┆ ---        ┆ ---           ┆ ---           │\n",
              "│ str    ┆ f64     ┆ f64      ┆ f64        ┆   ┆ i64  ┆ str        ┆ str           ┆ str           │\n",
              "╞════════╪═════════╪══════════╪════════════╪═══╪══════╪════════════╪═══════════════╪═══════════════╡\n",
              "│ Female ┆ 21.0    ┆ 1.62     ┆ 64.0       ┆ … ┆ 1    ┆ no         ┆ Public_Transp ┆ Normal_Weight │\n",
              "│        ┆         ┆          ┆            ┆   ┆      ┆            ┆ ortation      ┆               │\n",
              "│ Female ┆ 21.0    ┆ 1.52     ┆ 56.0       ┆ … ┆ 0    ┆ Sometimes  ┆ Public_Transp ┆ Normal_Weight │\n",
              "│        ┆         ┆          ┆            ┆   ┆      ┆            ┆ ortation      ┆               │\n",
              "│ Male   ┆ 23.0    ┆ 1.8      ┆ 77.0       ┆ … ┆ 1    ┆ Frequently ┆ Public_Transp ┆ Normal_Weight │\n",
              "│        ┆         ┆          ┆            ┆   ┆      ┆            ┆ ortation      ┆               │\n",
              "│ Male   ┆ 27.0    ┆ 1.8      ┆ 87.0       ┆ … ┆ 0    ┆ Frequently ┆ Walking       ┆ Overweight_Le │\n",
              "│        ┆         ┆          ┆            ┆   ┆      ┆            ┆               ┆ vel_I         │\n",
              "│ Male   ┆ 22.0    ┆ 1.78     ┆ 89.8       ┆ … ┆ 0    ┆ Sometimes  ┆ Public_Transp ┆ Overweight_Le │\n",
              "│        ┆         ┆          ┆            ┆   ┆      ┆            ┆ ortation      ┆ vel_II        │\n",
              "│ …      ┆ …       ┆ …        ┆ …          ┆ … ┆ …    ┆ …          ┆ …             ┆ …             │\n",
              "│ Female ┆ 23.0625 ┆ 1.71073  ┆ 131.408528 ┆ … ┆ null ┆ Sometimes  ┆ Public_Transp ┆ Obesity_Type_ │\n",
              "│        ┆         ┆          ┆            ┆   ┆      ┆            ┆ ortation      ┆ III           │\n",
              "│ Female ┆ 23.0625 ┆ 1.748584 ┆ 133.742943 ┆ … ┆ null ┆ Sometimes  ┆ Public_Transp ┆ Obesity_Type_ │\n",
              "│        ┆         ┆          ┆            ┆   ┆      ┆            ┆ ortation      ┆ III           │\n",
              "│ Female ┆ 23.0625 ┆ 1.752206 ┆ 133.689352 ┆ … ┆ null ┆ Sometimes  ┆ Public_Transp ┆ Obesity_Type_ │\n",
              "│        ┆         ┆          ┆            ┆   ┆      ┆            ┆ ortation      ┆ III           │\n",
              "│ Female ┆ 23.0625 ┆ 1.73945  ┆ 133.346641 ┆ … ┆ null ┆ Sometimes  ┆ Public_Transp ┆ Obesity_Type_ │\n",
              "│        ┆         ┆          ┆            ┆   ┆      ┆            ┆ ortation      ┆ III           │\n",
              "│ Female ┆ 23.0625 ┆ 1.738836 ┆ 133.472641 ┆ … ┆ null ┆ Sometimes  ┆ Public_Transp ┆ Obesity_Type_ │\n",
              "│        ┆         ┆          ┆            ┆   ┆      ┆            ┆ ortation      ┆ III           │\n",
              "└────────┴─────────┴──────────┴────────────┴───┴──────┴────────────┴───────────────┴───────────────┘"
            ],
            "text/html": [
              "<div><style>\n",
              ".dataframe > thead > tr,\n",
              ".dataframe > tbody > tr {\n",
              "  text-align: right;\n",
              "  white-space: pre-wrap;\n",
              "}\n",
              "</style>\n",
              "<small>shape: (2_111, 17)</small><table border=\"1\" class=\"dataframe\"><thead><tr><th>Gender</th><th>Age</th><th>Height</th><th>Weight</th><th>family_history_with_overweight</th><th>FAVC</th><th>FCVC</th><th>NCP</th><th>CAEC</th><th>SMOKE</th><th>CH2O</th><th>SCC</th><th>FAF</th><th>TUE</th><th>CALC</th><th>MTRANS</th><th>NObeyesdad</th></tr><tr><td>str</td><td>f64</td><td>f64</td><td>f64</td><td>str</td><td>str</td><td>i64</td><td>i64</td><td>str</td><td>str</td><td>i64</td><td>str</td><td>i64</td><td>i64</td><td>str</td><td>str</td><td>str</td></tr></thead><tbody><tr><td>&quot;Female&quot;</td><td>21.0</td><td>1.62</td><td>64.0</td><td>&quot;yes&quot;</td><td>&quot;no&quot;</td><td>2</td><td>3</td><td>&quot;Sometimes&quot;</td><td>&quot;no&quot;</td><td>2</td><td>&quot;no&quot;</td><td>0</td><td>1</td><td>&quot;no&quot;</td><td>&quot;Public_Transportation&quot;</td><td>&quot;Normal_Weight&quot;</td></tr><tr><td>&quot;Female&quot;</td><td>21.0</td><td>1.52</td><td>56.0</td><td>&quot;yes&quot;</td><td>&quot;no&quot;</td><td>3</td><td>3</td><td>&quot;Sometimes&quot;</td><td>&quot;yes&quot;</td><td>3</td><td>&quot;yes&quot;</td><td>3</td><td>0</td><td>&quot;Sometimes&quot;</td><td>&quot;Public_Transportation&quot;</td><td>&quot;Normal_Weight&quot;</td></tr><tr><td>&quot;Male&quot;</td><td>23.0</td><td>1.8</td><td>77.0</td><td>&quot;yes&quot;</td><td>&quot;no&quot;</td><td>2</td><td>3</td><td>&quot;Sometimes&quot;</td><td>&quot;no&quot;</td><td>2</td><td>&quot;no&quot;</td><td>2</td><td>1</td><td>&quot;Frequently&quot;</td><td>&quot;Public_Transportation&quot;</td><td>&quot;Normal_Weight&quot;</td></tr><tr><td>&quot;Male&quot;</td><td>27.0</td><td>1.8</td><td>87.0</td><td>&quot;no&quot;</td><td>&quot;no&quot;</td><td>3</td><td>3</td><td>&quot;Sometimes&quot;</td><td>&quot;no&quot;</td><td>2</td><td>&quot;no&quot;</td><td>2</td><td>0</td><td>&quot;Frequently&quot;</td><td>&quot;Walking&quot;</td><td>&quot;Overweight_Level_I&quot;</td></tr><tr><td>&quot;Male&quot;</td><td>22.0</td><td>1.78</td><td>89.8</td><td>&quot;no&quot;</td><td>&quot;no&quot;</td><td>2</td><td>1</td><td>&quot;Sometimes&quot;</td><td>&quot;no&quot;</td><td>2</td><td>&quot;no&quot;</td><td>0</td><td>0</td><td>&quot;Sometimes&quot;</td><td>&quot;Public_Transportation&quot;</td><td>&quot;Overweight_Level_II&quot;</td></tr><tr><td>&hellip;</td><td>&hellip;</td><td>&hellip;</td><td>&hellip;</td><td>&hellip;</td><td>&hellip;</td><td>&hellip;</td><td>&hellip;</td><td>&hellip;</td><td>&hellip;</td><td>&hellip;</td><td>&hellip;</td><td>&hellip;</td><td>&hellip;</td><td>&hellip;</td><td>&hellip;</td><td>&hellip;</td></tr><tr><td>&quot;Female&quot;</td><td>23.0625</td><td>1.71073</td><td>131.408528</td><td>&quot;yes&quot;</td><td>&quot;yes&quot;</td><td>3</td><td>3</td><td>&quot;Sometimes&quot;</td><td>&quot;no&quot;</td><td>null</td><td>&quot;no&quot;</td><td>null</td><td>null</td><td>&quot;Sometimes&quot;</td><td>&quot;Public_Transportation&quot;</td><td>&quot;Obesity_Type_III&quot;</td></tr><tr><td>&quot;Female&quot;</td><td>23.0625</td><td>1.748584</td><td>133.742943</td><td>&quot;yes&quot;</td><td>&quot;yes&quot;</td><td>3</td><td>3</td><td>&quot;Sometimes&quot;</td><td>&quot;no&quot;</td><td>null</td><td>&quot;no&quot;</td><td>null</td><td>null</td><td>&quot;Sometimes&quot;</td><td>&quot;Public_Transportation&quot;</td><td>&quot;Obesity_Type_III&quot;</td></tr><tr><td>&quot;Female&quot;</td><td>23.0625</td><td>1.752206</td><td>133.689352</td><td>&quot;yes&quot;</td><td>&quot;yes&quot;</td><td>3</td><td>3</td><td>&quot;Sometimes&quot;</td><td>&quot;no&quot;</td><td>null</td><td>&quot;no&quot;</td><td>null</td><td>null</td><td>&quot;Sometimes&quot;</td><td>&quot;Public_Transportation&quot;</td><td>&quot;Obesity_Type_III&quot;</td></tr><tr><td>&quot;Female&quot;</td><td>23.0625</td><td>1.73945</td><td>133.346641</td><td>&quot;yes&quot;</td><td>&quot;yes&quot;</td><td>3</td><td>3</td><td>&quot;Sometimes&quot;</td><td>&quot;no&quot;</td><td>null</td><td>&quot;no&quot;</td><td>null</td><td>null</td><td>&quot;Sometimes&quot;</td><td>&quot;Public_Transportation&quot;</td><td>&quot;Obesity_Type_III&quot;</td></tr><tr><td>&quot;Female&quot;</td><td>23.0625</td><td>1.738836</td><td>133.472641</td><td>&quot;yes&quot;</td><td>&quot;yes&quot;</td><td>3</td><td>3</td><td>&quot;Sometimes&quot;</td><td>&quot;no&quot;</td><td>null</td><td>&quot;no&quot;</td><td>null</td><td>null</td><td>&quot;Sometimes&quot;</td><td>&quot;Public_Transportation&quot;</td><td>&quot;Obesity_Type_III&quot;</td></tr></tbody></table></div>"
            ]
          },
          "metadata": {},
          "execution_count": 54
        }
      ]
    },
    {
      "cell_type": "code",
      "source": [
        "# Finding duplicate rows\n",
        "data.is_duplicated()"
      ],
      "metadata": {
        "colab": {
          "base_uri": "https://localhost:8080/",
          "height": 421
        },
        "id": "v_6wPRghMXZo",
        "outputId": "8bd88d6e-bed7-4c2c-ddfb-3124e4a27ccf"
      },
      "execution_count": 55,
      "outputs": [
        {
          "output_type": "execute_result",
          "data": {
            "text/plain": [
              "shape: (2_111,)\n",
              "Series: '' [bool]\n",
              "[\n",
              "\tfalse\n",
              "\tfalse\n",
              "\tfalse\n",
              "\tfalse\n",
              "\tfalse\n",
              "\t…\n",
              "\tfalse\n",
              "\tfalse\n",
              "\tfalse\n",
              "\tfalse\n",
              "\tfalse\n",
              "]"
            ],
            "text/html": [
              "<div><style>\n",
              ".dataframe > thead > tr,\n",
              ".dataframe > tbody > tr {\n",
              "  text-align: right;\n",
              "  white-space: pre-wrap;\n",
              "}\n",
              "</style>\n",
              "<small>shape: (2_111,)</small><table border=\"1\" class=\"dataframe\"><thead><tr><th></th></tr><tr><td>bool</td></tr></thead><tbody><tr><td>false</td></tr><tr><td>false</td></tr><tr><td>false</td></tr><tr><td>false</td></tr><tr><td>false</td></tr><tr><td>&hellip;</td></tr><tr><td>false</td></tr><tr><td>false</td></tr><tr><td>false</td></tr><tr><td>false</td></tr><tr><td>false</td></tr></tbody></table></div>"
            ]
          },
          "metadata": {},
          "execution_count": 55
        }
      ]
    },
    {
      "cell_type": "code",
      "source": [
        "data.filter(data.is_duplicated())"
      ],
      "metadata": {
        "colab": {
          "base_uri": "https://localhost:8080/",
          "height": 458
        },
        "id": "iNzUZCl6Mk0O",
        "outputId": "8ea94fd0-68b7-4666-a236-3fc08b328c83"
      },
      "execution_count": 56,
      "outputs": [
        {
          "output_type": "execute_result",
          "data": {
            "text/plain": [
              "shape: (46, 17)\n",
              "┌────────┬──────┬────────┬────────┬───┬─────┬────────────┬────────────────────┬────────────────────┐\n",
              "│ Gender ┆ Age  ┆ Height ┆ Weight ┆ … ┆ TUE ┆ CALC       ┆ MTRANS             ┆ NObeyesdad         │\n",
              "│ ---    ┆ ---  ┆ ---    ┆ ---    ┆   ┆ --- ┆ ---        ┆ ---                ┆ ---                │\n",
              "│ str    ┆ i64  ┆ f64    ┆ f64    ┆   ┆ i64 ┆ str        ┆ str                ┆ str                │\n",
              "╞════════╪══════╪════════╪════════╪═══╪═════╪════════════╪════════════════════╪════════════════════╡\n",
              "│ Female ┆ 21   ┆ 1.52   ┆ 42.0   ┆ … ┆ 0   ┆ Sometimes  ┆ Public_Transportat ┆ Insufficient_Weigh │\n",
              "│        ┆      ┆        ┆        ┆   ┆     ┆            ┆ ion                ┆ t                  │\n",
              "│ Female ┆ 21   ┆ 1.52   ┆ 42.0   ┆ … ┆ 0   ┆ Sometimes  ┆ Public_Transportat ┆ Insufficient_Weigh │\n",
              "│        ┆      ┆        ┆        ┆   ┆     ┆            ┆ ion                ┆ t                  │\n",
              "│ Female ┆ 25   ┆ 1.57   ┆ 55.0   ┆ … ┆ 0   ┆ Sometimes  ┆ Public_Transportat ┆ Normal_Weight      │\n",
              "│        ┆      ┆        ┆        ┆   ┆     ┆            ┆ ion                ┆                    │\n",
              "│ Female ┆ 25   ┆ 1.57   ┆ 55.0   ┆ … ┆ 0   ┆ Sometimes  ┆ Public_Transportat ┆ Normal_Weight      │\n",
              "│        ┆      ┆        ┆        ┆   ┆     ┆            ┆ ion                ┆                    │\n",
              "│ Male   ┆ 21   ┆ 1.62   ┆ 70.0   ┆ … ┆ 0   ┆ Sometimes  ┆ Public_Transportat ┆ Overweight_Level_I │\n",
              "│        ┆      ┆        ┆        ┆   ┆     ┆            ┆ ion                ┆                    │\n",
              "│ …      ┆ …    ┆ …      ┆ …      ┆ … ┆ …   ┆ …          ┆ …                  ┆ …                  │\n",
              "│ Female ┆ null ┆ 1.7    ┆ 78.0   ┆ … ┆ 1   ┆ Frequently ┆ Automobile         ┆ Overweight_Level_I │\n",
              "│        ┆      ┆        ┆        ┆   ┆     ┆            ┆                    ┆ I                  │\n",
              "│ Male   ┆ null ┆ 1.65   ┆ 80.0   ┆ … ┆ 2   ┆ no         ┆ Public_Transportat ┆ Overweight_Level_I │\n",
              "│        ┆      ┆        ┆        ┆   ┆     ┆            ┆ ion                ┆ I                  │\n",
              "│ Female ┆ null ┆ 1.7    ┆ 78.0   ┆ … ┆ 1   ┆ Frequently ┆ Automobile         ┆ Overweight_Level_I │\n",
              "│        ┆      ┆        ┆        ┆   ┆     ┆            ┆                    ┆ I                  │\n",
              "│ Female ┆ null ┆ 1.7    ┆ 78.0   ┆ … ┆ 1   ┆ Frequently ┆ Automobile         ┆ Overweight_Level_I │\n",
              "│        ┆      ┆        ┆        ┆   ┆     ┆            ┆                    ┆ I                  │\n",
              "│ Male   ┆ null ┆ 1.65   ┆ 80.0   ┆ … ┆ 2   ┆ no         ┆ Public_Transportat ┆ Overweight_Level_I │\n",
              "│        ┆      ┆        ┆        ┆   ┆     ┆            ┆ ion                ┆ I                  │\n",
              "└────────┴──────┴────────┴────────┴───┴─────┴────────────┴────────────────────┴────────────────────┘"
            ],
            "text/html": [
              "<div><style>\n",
              ".dataframe > thead > tr,\n",
              ".dataframe > tbody > tr {\n",
              "  text-align: right;\n",
              "  white-space: pre-wrap;\n",
              "}\n",
              "</style>\n",
              "<small>shape: (46, 17)</small><table border=\"1\" class=\"dataframe\"><thead><tr><th>Gender</th><th>Age</th><th>Height</th><th>Weight</th><th>family_history_with_overweight</th><th>FAVC</th><th>FCVC</th><th>NCP</th><th>CAEC</th><th>SMOKE</th><th>CH2O</th><th>SCC</th><th>FAF</th><th>TUE</th><th>CALC</th><th>MTRANS</th><th>NObeyesdad</th></tr><tr><td>str</td><td>i64</td><td>f64</td><td>f64</td><td>str</td><td>str</td><td>i64</td><td>i64</td><td>str</td><td>str</td><td>i64</td><td>str</td><td>i64</td><td>i64</td><td>str</td><td>str</td><td>str</td></tr></thead><tbody><tr><td>&quot;Female&quot;</td><td>21</td><td>1.52</td><td>42.0</td><td>&quot;no&quot;</td><td>&quot;no&quot;</td><td>3</td><td>1</td><td>&quot;Frequently&quot;</td><td>&quot;no&quot;</td><td>1</td><td>&quot;no&quot;</td><td>0</td><td>0</td><td>&quot;Sometimes&quot;</td><td>&quot;Public_Transportation&quot;</td><td>&quot;Insufficient_Weight&quot;</td></tr><tr><td>&quot;Female&quot;</td><td>21</td><td>1.52</td><td>42.0</td><td>&quot;no&quot;</td><td>&quot;no&quot;</td><td>3</td><td>1</td><td>&quot;Frequently&quot;</td><td>&quot;no&quot;</td><td>1</td><td>&quot;no&quot;</td><td>0</td><td>0</td><td>&quot;Sometimes&quot;</td><td>&quot;Public_Transportation&quot;</td><td>&quot;Insufficient_Weight&quot;</td></tr><tr><td>&quot;Female&quot;</td><td>25</td><td>1.57</td><td>55.0</td><td>&quot;no&quot;</td><td>&quot;yes&quot;</td><td>2</td><td>1</td><td>&quot;Sometimes&quot;</td><td>&quot;no&quot;</td><td>2</td><td>&quot;no&quot;</td><td>2</td><td>0</td><td>&quot;Sometimes&quot;</td><td>&quot;Public_Transportation&quot;</td><td>&quot;Normal_Weight&quot;</td></tr><tr><td>&quot;Female&quot;</td><td>25</td><td>1.57</td><td>55.0</td><td>&quot;no&quot;</td><td>&quot;yes&quot;</td><td>2</td><td>1</td><td>&quot;Sometimes&quot;</td><td>&quot;no&quot;</td><td>2</td><td>&quot;no&quot;</td><td>2</td><td>0</td><td>&quot;Sometimes&quot;</td><td>&quot;Public_Transportation&quot;</td><td>&quot;Normal_Weight&quot;</td></tr><tr><td>&quot;Male&quot;</td><td>21</td><td>1.62</td><td>70.0</td><td>&quot;no&quot;</td><td>&quot;yes&quot;</td><td>2</td><td>1</td><td>&quot;no&quot;</td><td>&quot;no&quot;</td><td>3</td><td>&quot;no&quot;</td><td>1</td><td>0</td><td>&quot;Sometimes&quot;</td><td>&quot;Public_Transportation&quot;</td><td>&quot;Overweight_Level_I&quot;</td></tr><tr><td>&hellip;</td><td>&hellip;</td><td>&hellip;</td><td>&hellip;</td><td>&hellip;</td><td>&hellip;</td><td>&hellip;</td><td>&hellip;</td><td>&hellip;</td><td>&hellip;</td><td>&hellip;</td><td>&hellip;</td><td>&hellip;</td><td>&hellip;</td><td>&hellip;</td><td>&hellip;</td><td>&hellip;</td></tr><tr><td>&quot;Female&quot;</td><td>null</td><td>1.7</td><td>78.0</td><td>&quot;yes&quot;</td><td>&quot;yes&quot;</td><td>3</td><td>3</td><td>&quot;Sometimes&quot;</td><td>&quot;no&quot;</td><td>null</td><td>&quot;no&quot;</td><td>null</td><td>1</td><td>&quot;Frequently&quot;</td><td>&quot;Automobile&quot;</td><td>&quot;Overweight_Level_II&quot;</td></tr><tr><td>&quot;Male&quot;</td><td>null</td><td>1.65</td><td>80.0</td><td>&quot;yes&quot;</td><td>&quot;yes&quot;</td><td>2</td><td>3</td><td>&quot;Sometimes&quot;</td><td>&quot;no&quot;</td><td>2</td><td>&quot;no&quot;</td><td>null</td><td>2</td><td>&quot;no&quot;</td><td>&quot;Public_Transportation&quot;</td><td>&quot;Overweight_Level_II&quot;</td></tr><tr><td>&quot;Female&quot;</td><td>null</td><td>1.7</td><td>78.0</td><td>&quot;yes&quot;</td><td>&quot;yes&quot;</td><td>3</td><td>3</td><td>&quot;Sometimes&quot;</td><td>&quot;no&quot;</td><td>null</td><td>&quot;no&quot;</td><td>null</td><td>1</td><td>&quot;Frequently&quot;</td><td>&quot;Automobile&quot;</td><td>&quot;Overweight_Level_II&quot;</td></tr><tr><td>&quot;Female&quot;</td><td>null</td><td>1.7</td><td>78.0</td><td>&quot;yes&quot;</td><td>&quot;yes&quot;</td><td>3</td><td>3</td><td>&quot;Sometimes&quot;</td><td>&quot;no&quot;</td><td>null</td><td>&quot;no&quot;</td><td>null</td><td>1</td><td>&quot;Frequently&quot;</td><td>&quot;Automobile&quot;</td><td>&quot;Overweight_Level_II&quot;</td></tr><tr><td>&quot;Male&quot;</td><td>null</td><td>1.65</td><td>80.0</td><td>&quot;yes&quot;</td><td>&quot;yes&quot;</td><td>2</td><td>3</td><td>&quot;Sometimes&quot;</td><td>&quot;no&quot;</td><td>2</td><td>&quot;no&quot;</td><td>null</td><td>2</td><td>&quot;no&quot;</td><td>&quot;Public_Transportation&quot;</td><td>&quot;Overweight_Level_II&quot;</td></tr></tbody></table></div>"
            ]
          },
          "metadata": {},
          "execution_count": 56
        }
      ]
    },
    {
      "cell_type": "code",
      "source": [
        "# Dropping duplicate rows\n",
        "data.unique()"
      ],
      "metadata": {
        "colab": {
          "base_uri": "https://localhost:8080/",
          "height": 458
        },
        "id": "Q2xsoandM59D",
        "outputId": "e2d4cbd7-4d41-478b-91f2-02c941120d4e"
      },
      "execution_count": 57,
      "outputs": [
        {
          "output_type": "execute_result",
          "data": {
            "text/plain": [
              "shape: (2_079, 17)\n",
              "┌────────┬──────┬──────────┬────────────┬───┬──────┬───────────┬─────────────────┬─────────────────┐\n",
              "│ Gender ┆ Age  ┆ Height   ┆ Weight     ┆ … ┆ TUE  ┆ CALC      ┆ MTRANS          ┆ NObeyesdad      │\n",
              "│ ---    ┆ ---  ┆ ---      ┆ ---        ┆   ┆ ---  ┆ ---       ┆ ---             ┆ ---             │\n",
              "│ str    ┆ i64  ┆ f64      ┆ f64        ┆   ┆ i64  ┆ str       ┆ str             ┆ str             │\n",
              "╞════════╪══════╪══════════╪════════════╪═══╪══════╪═══════════╪═════════════════╪═════════════════╡\n",
              "│ Female ┆ null ┆ 1.768231 ┆ 75.62931   ┆ … ┆ 0    ┆ Sometimes ┆ Automobile      ┆ Overweight_Leve │\n",
              "│        ┆      ┆          ┆            ┆   ┆      ┆           ┆                 ┆ l_I             │\n",
              "│ Female ┆ 27   ┆ 1.6      ┆ 61.0       ┆ … ┆ 0    ┆ Sometimes ┆ Automobile      ┆ Normal_Weight   │\n",
              "│ Male   ┆ 18   ┆ 1.738702 ┆ 50.248677  ┆ … ┆ null ┆ Sometimes ┆ Public_Transpor ┆ Insufficient_We │\n",
              "│        ┆      ┆          ┆            ┆   ┆      ┆           ┆ tation          ┆ ight            │\n",
              "│ Male   ┆ null ┆ 1.735851 ┆ 109.889334 ┆ … ┆ 0    ┆ no        ┆ Automobile      ┆ Obesity_Type_II │\n",
              "│ Female ┆ 26   ┆ 1.602025 ┆ 104.899348 ┆ … ┆ null ┆ Sometimes ┆ Public_Transpor ┆ Obesity_Type_II │\n",
              "│        ┆      ┆          ┆            ┆   ┆      ┆           ┆ tation          ┆ I               │\n",
              "│ …      ┆ …    ┆ …        ┆ …          ┆ … ┆ …    ┆ …         ┆ …               ┆ …               │\n",
              "│ Male   ┆ null ┆ 1.87407  ┆ 128.867444 ┆ … ┆ null ┆ Sometimes ┆ Automobile      ┆ Obesity_Type_II │\n",
              "│ Male   ┆ null ┆ 1.81955  ┆ 120.775439 ┆ … ┆ null ┆ Sometimes ┆ Public_Transpor ┆ Obesity_Type_II │\n",
              "│        ┆      ┆          ┆            ┆   ┆      ┆           ┆ tation          ┆                 │\n",
              "│ Male   ┆ null ┆ 1.701634 ┆ 95.0       ┆ … ┆ null ┆ no        ┆ Public_Transpor ┆ Obesity_Type_I  │\n",
              "│        ┆      ┆          ┆            ┆   ┆      ┆           ┆ tation          ┆                 │\n",
              "│ Female ┆ null ┆ 1.573987 ┆ 44.316254  ┆ … ┆ 0    ┆ Sometimes ┆ Public_Transpor ┆ Insufficient_We │\n",
              "│        ┆      ┆          ┆            ┆   ┆      ┆           ┆ tation          ┆ ight            │\n",
              "│ Female ┆ null ┆ 1.736276 ┆ 130.927138 ┆ … ┆ null ┆ Sometimes ┆ Public_Transpor ┆ Obesity_Type_II │\n",
              "│        ┆      ┆          ┆            ┆   ┆      ┆           ┆ tation          ┆ I               │\n",
              "└────────┴──────┴──────────┴────────────┴───┴──────┴───────────┴─────────────────┴─────────────────┘"
            ],
            "text/html": [
              "<div><style>\n",
              ".dataframe > thead > tr,\n",
              ".dataframe > tbody > tr {\n",
              "  text-align: right;\n",
              "  white-space: pre-wrap;\n",
              "}\n",
              "</style>\n",
              "<small>shape: (2_079, 17)</small><table border=\"1\" class=\"dataframe\"><thead><tr><th>Gender</th><th>Age</th><th>Height</th><th>Weight</th><th>family_history_with_overweight</th><th>FAVC</th><th>FCVC</th><th>NCP</th><th>CAEC</th><th>SMOKE</th><th>CH2O</th><th>SCC</th><th>FAF</th><th>TUE</th><th>CALC</th><th>MTRANS</th><th>NObeyesdad</th></tr><tr><td>str</td><td>i64</td><td>f64</td><td>f64</td><td>str</td><td>str</td><td>i64</td><td>i64</td><td>str</td><td>str</td><td>i64</td><td>str</td><td>i64</td><td>i64</td><td>str</td><td>str</td><td>str</td></tr></thead><tbody><tr><td>&quot;Female&quot;</td><td>null</td><td>1.768231</td><td>75.62931</td><td>&quot;yes&quot;</td><td>&quot;yes&quot;</td><td>3</td><td>null</td><td>&quot;Sometimes&quot;</td><td>&quot;no&quot;</td><td>null</td><td>&quot;no&quot;</td><td>null</td><td>0</td><td>&quot;Sometimes&quot;</td><td>&quot;Automobile&quot;</td><td>&quot;Overweight_Level_I&quot;</td></tr><tr><td>&quot;Female&quot;</td><td>27</td><td>1.6</td><td>61.0</td><td>&quot;no&quot;</td><td>&quot;yes&quot;</td><td>3</td><td>3</td><td>&quot;Always&quot;</td><td>&quot;no&quot;</td><td>2</td><td>&quot;no&quot;</td><td>0</td><td>0</td><td>&quot;Sometimes&quot;</td><td>&quot;Automobile&quot;</td><td>&quot;Normal_Weight&quot;</td></tr><tr><td>&quot;Male&quot;</td><td>18</td><td>1.738702</td><td>50.248677</td><td>&quot;yes&quot;</td><td>&quot;yes&quot;</td><td>null</td><td>3</td><td>&quot;Sometimes&quot;</td><td>&quot;no&quot;</td><td>null</td><td>&quot;no&quot;</td><td>null</td><td>null</td><td>&quot;Sometimes&quot;</td><td>&quot;Public_Transportation&quot;</td><td>&quot;Insufficient_Weight&quot;</td></tr><tr><td>&quot;Male&quot;</td><td>null</td><td>1.735851</td><td>109.889334</td><td>&quot;yes&quot;</td><td>&quot;yes&quot;</td><td>null</td><td>null</td><td>&quot;Sometimes&quot;</td><td>&quot;no&quot;</td><td>null</td><td>&quot;no&quot;</td><td>null</td><td>0</td><td>&quot;no&quot;</td><td>&quot;Automobile&quot;</td><td>&quot;Obesity_Type_II&quot;</td></tr><tr><td>&quot;Female&quot;</td><td>26</td><td>1.602025</td><td>104.899348</td><td>&quot;yes&quot;</td><td>&quot;yes&quot;</td><td>3</td><td>3</td><td>&quot;Sometimes&quot;</td><td>&quot;no&quot;</td><td>null</td><td>&quot;no&quot;</td><td>0</td><td>null</td><td>&quot;Sometimes&quot;</td><td>&quot;Public_Transportation&quot;</td><td>&quot;Obesity_Type_III&quot;</td></tr><tr><td>&hellip;</td><td>&hellip;</td><td>&hellip;</td><td>&hellip;</td><td>&hellip;</td><td>&hellip;</td><td>&hellip;</td><td>&hellip;</td><td>&hellip;</td><td>&hellip;</td><td>&hellip;</td><td>&hellip;</td><td>&hellip;</td><td>&hellip;</td><td>&hellip;</td><td>&hellip;</td><td>&hellip;</td></tr><tr><td>&quot;Male&quot;</td><td>null</td><td>1.87407</td><td>128.867444</td><td>&quot;yes&quot;</td><td>&quot;yes&quot;</td><td>null</td><td>3</td><td>&quot;Sometimes&quot;</td><td>&quot;yes&quot;</td><td>null</td><td>&quot;no&quot;</td><td>null</td><td>null</td><td>&quot;Sometimes&quot;</td><td>&quot;Automobile&quot;</td><td>&quot;Obesity_Type_II&quot;</td></tr><tr><td>&quot;Male&quot;</td><td>null</td><td>1.81955</td><td>120.775439</td><td>&quot;yes&quot;</td><td>&quot;yes&quot;</td><td>null</td><td>null</td><td>&quot;Sometimes&quot;</td><td>&quot;no&quot;</td><td>null</td><td>&quot;no&quot;</td><td>null</td><td>null</td><td>&quot;Sometimes&quot;</td><td>&quot;Public_Transportation&quot;</td><td>&quot;Obesity_Type_II&quot;</td></tr><tr><td>&quot;Male&quot;</td><td>null</td><td>1.701634</td><td>95.0</td><td>&quot;yes&quot;</td><td>&quot;yes&quot;</td><td>2</td><td>3</td><td>&quot;Sometimes&quot;</td><td>&quot;no&quot;</td><td>null</td><td>&quot;no&quot;</td><td>null</td><td>null</td><td>&quot;no&quot;</td><td>&quot;Public_Transportation&quot;</td><td>&quot;Obesity_Type_I&quot;</td></tr><tr><td>&quot;Female&quot;</td><td>null</td><td>1.573987</td><td>44.316254</td><td>&quot;no&quot;</td><td>&quot;no&quot;</td><td>null</td><td>3</td><td>&quot;Frequently&quot;</td><td>&quot;no&quot;</td><td>null</td><td>&quot;yes&quot;</td><td>null</td><td>0</td><td>&quot;Sometimes&quot;</td><td>&quot;Public_Transportation&quot;</td><td>&quot;Insufficient_Weight&quot;</td></tr><tr><td>&quot;Female&quot;</td><td>null</td><td>1.736276</td><td>130.927138</td><td>&quot;yes&quot;</td><td>&quot;yes&quot;</td><td>3</td><td>3</td><td>&quot;Sometimes&quot;</td><td>&quot;no&quot;</td><td>null</td><td>&quot;no&quot;</td><td>null</td><td>null</td><td>&quot;Sometimes&quot;</td><td>&quot;Public_Transportation&quot;</td><td>&quot;Obesity_Type_III&quot;</td></tr></tbody></table></div>"
            ]
          },
          "metadata": {},
          "execution_count": 57
        }
      ]
    },
    {
      "cell_type": "markdown",
      "source": [
        "### Grouped aggregations"
      ],
      "metadata": {
        "id": "eUcDLB8krL7a"
      }
    },
    {
      "cell_type": "code",
      "source": [
        "# Counting values in a column\n",
        "count_data = data[\"MTRANS\"].value_counts(sort=True)\n",
        "count_data"
      ],
      "metadata": {
        "colab": {
          "base_uri": "https://localhost:8080/",
          "height": 252
        },
        "id": "bybNl-8iNsUS",
        "outputId": "a4f48be0-323a-4885-fd3f-edae763c0c1c"
      },
      "execution_count": 60,
      "outputs": [
        {
          "output_type": "execute_result",
          "data": {
            "text/plain": [
              "shape: (5, 2)\n",
              "┌───────────────────────┬───────┐\n",
              "│ MTRANS                ┆ count │\n",
              "│ ---                   ┆ ---   │\n",
              "│ str                   ┆ u32   │\n",
              "╞═══════════════════════╪═══════╡\n",
              "│ Public_Transportation ┆ 1580  │\n",
              "│ Automobile            ┆ 457   │\n",
              "│ Walking               ┆ 56    │\n",
              "│ Motorbike             ┆ 11    │\n",
              "│ Bike                  ┆ 7     │\n",
              "└───────────────────────┴───────┘"
            ],
            "text/html": [
              "<div><style>\n",
              ".dataframe > thead > tr,\n",
              ".dataframe > tbody > tr {\n",
              "  text-align: right;\n",
              "  white-space: pre-wrap;\n",
              "}\n",
              "</style>\n",
              "<small>shape: (5, 2)</small><table border=\"1\" class=\"dataframe\"><thead><tr><th>MTRANS</th><th>count</th></tr><tr><td>str</td><td>u32</td></tr></thead><tbody><tr><td>&quot;Public_Transportation&quot;</td><td>1580</td></tr><tr><td>&quot;Automobile&quot;</td><td>457</td></tr><tr><td>&quot;Walking&quot;</td><td>56</td></tr><tr><td>&quot;Motorbike&quot;</td><td>11</td></tr><tr><td>&quot;Bike&quot;</td><td>7</td></tr></tbody></table></div>"
            ]
          },
          "metadata": {},
          "execution_count": 60
        }
      ]
    },
    {
      "cell_type": "code",
      "source": [
        "# Visualizing aggregated data\n",
        "import plotly.express as px\n",
        "px.bar(count_data, x=\"MTRANS\", y=\"count\", title=\"Count of transportation type\")"
      ],
      "metadata": {
        "colab": {
          "base_uri": "https://localhost:8080/",
          "height": 542
        },
        "id": "49DQPex2sxUE",
        "outputId": "566ac99f-a1a0-4f83-b277-bb410bfef6a9"
      },
      "execution_count": 63,
      "outputs": [
        {
          "output_type": "display_data",
          "data": {
            "text/html": [
              "<html>\n",
              "<head><meta charset=\"utf-8\" /></head>\n",
              "<body>\n",
              "    <div>            <script src=\"https://cdnjs.cloudflare.com/ajax/libs/mathjax/2.7.5/MathJax.js?config=TeX-AMS-MML_SVG\"></script><script type=\"text/javascript\">if (window.MathJax && window.MathJax.Hub && window.MathJax.Hub.Config) {window.MathJax.Hub.Config({SVG: {font: \"STIX-Web\"}});}</script>                <script type=\"text/javascript\">window.PlotlyConfig = {MathJaxConfig: 'local'};</script>\n",
              "        <script charset=\"utf-8\" src=\"https://cdn.plot.ly/plotly-2.35.2.min.js\"></script>                <div id=\"a39a0576-2c9a-4254-a16f-b5774aeac92d\" class=\"plotly-graph-div\" style=\"height:525px; width:100%;\"></div>            <script type=\"text/javascript\">                                    window.PLOTLYENV=window.PLOTLYENV || {};                                    if (document.getElementById(\"a39a0576-2c9a-4254-a16f-b5774aeac92d\")) {                    Plotly.newPlot(                        \"a39a0576-2c9a-4254-a16f-b5774aeac92d\",                        [{\"alignmentgroup\":\"True\",\"hovertemplate\":\"MTRANS=%{x}\\u003cbr\\u003ecount=%{y}\\u003cextra\\u003e\\u003c\\u002fextra\\u003e\",\"legendgroup\":\"\",\"marker\":{\"color\":\"#636efa\",\"pattern\":{\"shape\":\"\"}},\"name\":\"\",\"offsetgroup\":\"\",\"orientation\":\"v\",\"showlegend\":false,\"textposition\":\"auto\",\"x\":[\"Public_Transportation\",\"Automobile\",\"Walking\",\"Motorbike\",\"Bike\"],\"xaxis\":\"x\",\"y\":[1580,457,56,11,7],\"yaxis\":\"y\",\"type\":\"bar\"}],                        {\"template\":{\"data\":{\"histogram2dcontour\":[{\"type\":\"histogram2dcontour\",\"colorbar\":{\"outlinewidth\":0,\"ticks\":\"\"},\"colorscale\":[[0.0,\"#0d0887\"],[0.1111111111111111,\"#46039f\"],[0.2222222222222222,\"#7201a8\"],[0.3333333333333333,\"#9c179e\"],[0.4444444444444444,\"#bd3786\"],[0.5555555555555556,\"#d8576b\"],[0.6666666666666666,\"#ed7953\"],[0.7777777777777778,\"#fb9f3a\"],[0.8888888888888888,\"#fdca26\"],[1.0,\"#f0f921\"]]}],\"choropleth\":[{\"type\":\"choropleth\",\"colorbar\":{\"outlinewidth\":0,\"ticks\":\"\"}}],\"histogram2d\":[{\"type\":\"histogram2d\",\"colorbar\":{\"outlinewidth\":0,\"ticks\":\"\"},\"colorscale\":[[0.0,\"#0d0887\"],[0.1111111111111111,\"#46039f\"],[0.2222222222222222,\"#7201a8\"],[0.3333333333333333,\"#9c179e\"],[0.4444444444444444,\"#bd3786\"],[0.5555555555555556,\"#d8576b\"],[0.6666666666666666,\"#ed7953\"],[0.7777777777777778,\"#fb9f3a\"],[0.8888888888888888,\"#fdca26\"],[1.0,\"#f0f921\"]]}],\"heatmap\":[{\"type\":\"heatmap\",\"colorbar\":{\"outlinewidth\":0,\"ticks\":\"\"},\"colorscale\":[[0.0,\"#0d0887\"],[0.1111111111111111,\"#46039f\"],[0.2222222222222222,\"#7201a8\"],[0.3333333333333333,\"#9c179e\"],[0.4444444444444444,\"#bd3786\"],[0.5555555555555556,\"#d8576b\"],[0.6666666666666666,\"#ed7953\"],[0.7777777777777778,\"#fb9f3a\"],[0.8888888888888888,\"#fdca26\"],[1.0,\"#f0f921\"]]}],\"heatmapgl\":[{\"type\":\"heatmapgl\",\"colorbar\":{\"outlinewidth\":0,\"ticks\":\"\"},\"colorscale\":[[0.0,\"#0d0887\"],[0.1111111111111111,\"#46039f\"],[0.2222222222222222,\"#7201a8\"],[0.3333333333333333,\"#9c179e\"],[0.4444444444444444,\"#bd3786\"],[0.5555555555555556,\"#d8576b\"],[0.6666666666666666,\"#ed7953\"],[0.7777777777777778,\"#fb9f3a\"],[0.8888888888888888,\"#fdca26\"],[1.0,\"#f0f921\"]]}],\"contourcarpet\":[{\"type\":\"contourcarpet\",\"colorbar\":{\"outlinewidth\":0,\"ticks\":\"\"}}],\"contour\":[{\"type\":\"contour\",\"colorbar\":{\"outlinewidth\":0,\"ticks\":\"\"},\"colorscale\":[[0.0,\"#0d0887\"],[0.1111111111111111,\"#46039f\"],[0.2222222222222222,\"#7201a8\"],[0.3333333333333333,\"#9c179e\"],[0.4444444444444444,\"#bd3786\"],[0.5555555555555556,\"#d8576b\"],[0.6666666666666666,\"#ed7953\"],[0.7777777777777778,\"#fb9f3a\"],[0.8888888888888888,\"#fdca26\"],[1.0,\"#f0f921\"]]}],\"surface\":[{\"type\":\"surface\",\"colorbar\":{\"outlinewidth\":0,\"ticks\":\"\"},\"colorscale\":[[0.0,\"#0d0887\"],[0.1111111111111111,\"#46039f\"],[0.2222222222222222,\"#7201a8\"],[0.3333333333333333,\"#9c179e\"],[0.4444444444444444,\"#bd3786\"],[0.5555555555555556,\"#d8576b\"],[0.6666666666666666,\"#ed7953\"],[0.7777777777777778,\"#fb9f3a\"],[0.8888888888888888,\"#fdca26\"],[1.0,\"#f0f921\"]]}],\"mesh3d\":[{\"type\":\"mesh3d\",\"colorbar\":{\"outlinewidth\":0,\"ticks\":\"\"}}],\"scatter\":[{\"fillpattern\":{\"fillmode\":\"overlay\",\"size\":10,\"solidity\":0.2},\"type\":\"scatter\"}],\"parcoords\":[{\"type\":\"parcoords\",\"line\":{\"colorbar\":{\"outlinewidth\":0,\"ticks\":\"\"}}}],\"scatterpolargl\":[{\"type\":\"scatterpolargl\",\"marker\":{\"colorbar\":{\"outlinewidth\":0,\"ticks\":\"\"}}}],\"bar\":[{\"error_x\":{\"color\":\"#2a3f5f\"},\"error_y\":{\"color\":\"#2a3f5f\"},\"marker\":{\"line\":{\"color\":\"#E5ECF6\",\"width\":0.5},\"pattern\":{\"fillmode\":\"overlay\",\"size\":10,\"solidity\":0.2}},\"type\":\"bar\"}],\"scattergeo\":[{\"type\":\"scattergeo\",\"marker\":{\"colorbar\":{\"outlinewidth\":0,\"ticks\":\"\"}}}],\"scatterpolar\":[{\"type\":\"scatterpolar\",\"marker\":{\"colorbar\":{\"outlinewidth\":0,\"ticks\":\"\"}}}],\"histogram\":[{\"marker\":{\"pattern\":{\"fillmode\":\"overlay\",\"size\":10,\"solidity\":0.2}},\"type\":\"histogram\"}],\"scattergl\":[{\"type\":\"scattergl\",\"marker\":{\"colorbar\":{\"outlinewidth\":0,\"ticks\":\"\"}}}],\"scatter3d\":[{\"type\":\"scatter3d\",\"line\":{\"colorbar\":{\"outlinewidth\":0,\"ticks\":\"\"}},\"marker\":{\"colorbar\":{\"outlinewidth\":0,\"ticks\":\"\"}}}],\"scattermapbox\":[{\"type\":\"scattermapbox\",\"marker\":{\"colorbar\":{\"outlinewidth\":0,\"ticks\":\"\"}}}],\"scatterternary\":[{\"type\":\"scatterternary\",\"marker\":{\"colorbar\":{\"outlinewidth\":0,\"ticks\":\"\"}}}],\"scattercarpet\":[{\"type\":\"scattercarpet\",\"marker\":{\"colorbar\":{\"outlinewidth\":0,\"ticks\":\"\"}}}],\"carpet\":[{\"aaxis\":{\"endlinecolor\":\"#2a3f5f\",\"gridcolor\":\"white\",\"linecolor\":\"white\",\"minorgridcolor\":\"white\",\"startlinecolor\":\"#2a3f5f\"},\"baxis\":{\"endlinecolor\":\"#2a3f5f\",\"gridcolor\":\"white\",\"linecolor\":\"white\",\"minorgridcolor\":\"white\",\"startlinecolor\":\"#2a3f5f\"},\"type\":\"carpet\"}],\"table\":[{\"cells\":{\"fill\":{\"color\":\"#EBF0F8\"},\"line\":{\"color\":\"white\"}},\"header\":{\"fill\":{\"color\":\"#C8D4E3\"},\"line\":{\"color\":\"white\"}},\"type\":\"table\"}],\"barpolar\":[{\"marker\":{\"line\":{\"color\":\"#E5ECF6\",\"width\":0.5},\"pattern\":{\"fillmode\":\"overlay\",\"size\":10,\"solidity\":0.2}},\"type\":\"barpolar\"}],\"pie\":[{\"automargin\":true,\"type\":\"pie\"}]},\"layout\":{\"autotypenumbers\":\"strict\",\"colorway\":[\"#636efa\",\"#EF553B\",\"#00cc96\",\"#ab63fa\",\"#FFA15A\",\"#19d3f3\",\"#FF6692\",\"#B6E880\",\"#FF97FF\",\"#FECB52\"],\"font\":{\"color\":\"#2a3f5f\"},\"hovermode\":\"closest\",\"hoverlabel\":{\"align\":\"left\"},\"paper_bgcolor\":\"white\",\"plot_bgcolor\":\"#E5ECF6\",\"polar\":{\"bgcolor\":\"#E5ECF6\",\"angularaxis\":{\"gridcolor\":\"white\",\"linecolor\":\"white\",\"ticks\":\"\"},\"radialaxis\":{\"gridcolor\":\"white\",\"linecolor\":\"white\",\"ticks\":\"\"}},\"ternary\":{\"bgcolor\":\"#E5ECF6\",\"aaxis\":{\"gridcolor\":\"white\",\"linecolor\":\"white\",\"ticks\":\"\"},\"baxis\":{\"gridcolor\":\"white\",\"linecolor\":\"white\",\"ticks\":\"\"},\"caxis\":{\"gridcolor\":\"white\",\"linecolor\":\"white\",\"ticks\":\"\"}},\"coloraxis\":{\"colorbar\":{\"outlinewidth\":0,\"ticks\":\"\"}},\"colorscale\":{\"sequential\":[[0.0,\"#0d0887\"],[0.1111111111111111,\"#46039f\"],[0.2222222222222222,\"#7201a8\"],[0.3333333333333333,\"#9c179e\"],[0.4444444444444444,\"#bd3786\"],[0.5555555555555556,\"#d8576b\"],[0.6666666666666666,\"#ed7953\"],[0.7777777777777778,\"#fb9f3a\"],[0.8888888888888888,\"#fdca26\"],[1.0,\"#f0f921\"]],\"sequentialminus\":[[0.0,\"#0d0887\"],[0.1111111111111111,\"#46039f\"],[0.2222222222222222,\"#7201a8\"],[0.3333333333333333,\"#9c179e\"],[0.4444444444444444,\"#bd3786\"],[0.5555555555555556,\"#d8576b\"],[0.6666666666666666,\"#ed7953\"],[0.7777777777777778,\"#fb9f3a\"],[0.8888888888888888,\"#fdca26\"],[1.0,\"#f0f921\"]],\"diverging\":[[0,\"#8e0152\"],[0.1,\"#c51b7d\"],[0.2,\"#de77ae\"],[0.3,\"#f1b6da\"],[0.4,\"#fde0ef\"],[0.5,\"#f7f7f7\"],[0.6,\"#e6f5d0\"],[0.7,\"#b8e186\"],[0.8,\"#7fbc41\"],[0.9,\"#4d9221\"],[1,\"#276419\"]]},\"xaxis\":{\"gridcolor\":\"white\",\"linecolor\":\"white\",\"ticks\":\"\",\"title\":{\"standoff\":15},\"zerolinecolor\":\"white\",\"automargin\":true,\"zerolinewidth\":2},\"yaxis\":{\"gridcolor\":\"white\",\"linecolor\":\"white\",\"ticks\":\"\",\"title\":{\"standoff\":15},\"zerolinecolor\":\"white\",\"automargin\":true,\"zerolinewidth\":2},\"scene\":{\"xaxis\":{\"backgroundcolor\":\"#E5ECF6\",\"gridcolor\":\"white\",\"linecolor\":\"white\",\"showbackground\":true,\"ticks\":\"\",\"zerolinecolor\":\"white\",\"gridwidth\":2},\"yaxis\":{\"backgroundcolor\":\"#E5ECF6\",\"gridcolor\":\"white\",\"linecolor\":\"white\",\"showbackground\":true,\"ticks\":\"\",\"zerolinecolor\":\"white\",\"gridwidth\":2},\"zaxis\":{\"backgroundcolor\":\"#E5ECF6\",\"gridcolor\":\"white\",\"linecolor\":\"white\",\"showbackground\":true,\"ticks\":\"\",\"zerolinecolor\":\"white\",\"gridwidth\":2}},\"shapedefaults\":{\"line\":{\"color\":\"#2a3f5f\"}},\"annotationdefaults\":{\"arrowcolor\":\"#2a3f5f\",\"arrowhead\":0,\"arrowwidth\":1},\"geo\":{\"bgcolor\":\"white\",\"landcolor\":\"#E5ECF6\",\"subunitcolor\":\"white\",\"showland\":true,\"showlakes\":true,\"lakecolor\":\"white\"},\"title\":{\"x\":0.05},\"mapbox\":{\"style\":\"light\"}}},\"xaxis\":{\"anchor\":\"y\",\"domain\":[0.0,1.0],\"title\":{\"text\":\"MTRANS\"}},\"yaxis\":{\"anchor\":\"x\",\"domain\":[0.0,1.0],\"title\":{\"text\":\"count\"}},\"legend\":{\"tracegroupgap\":0},\"title\":{\"text\":\"Count of transportation type\"},\"barmode\":\"relative\"},                        {\"responsive\": true}                    ).then(function(){\n",
              "                            \n",
              "var gd = document.getElementById('a39a0576-2c9a-4254-a16f-b5774aeac92d');\n",
              "var x = new MutationObserver(function (mutations, observer) {{\n",
              "        var display = window.getComputedStyle(gd).display;\n",
              "        if (!display || display === 'none') {{\n",
              "            console.log([gd, 'removed!']);\n",
              "            Plotly.purge(gd);\n",
              "            observer.disconnect();\n",
              "        }}\n",
              "}});\n",
              "\n",
              "// Listen for the removal of the full notebook cells\n",
              "var notebookContainer = gd.closest('#notebook-container');\n",
              "if (notebookContainer) {{\n",
              "    x.observe(notebookContainer, {childList: true});\n",
              "}}\n",
              "\n",
              "// Listen for the clearing of the current output cell\n",
              "var outputEl = gd.closest('.output');\n",
              "if (outputEl) {{\n",
              "    x.observe(outputEl, {childList: true});\n",
              "}}\n",
              "\n",
              "                        })                };                            </script>        </div>\n",
              "</body>\n",
              "</html>"
            ]
          },
          "metadata": {}
        }
      ]
    },
    {
      "cell_type": "code",
      "source": [
        "# Grouping and aggregating\n",
        "data.group_by(\"MTRANS\").agg(pl.col(\"Age\").mean())"
      ],
      "metadata": {
        "colab": {
          "base_uri": "https://localhost:8080/",
          "height": 252
        },
        "id": "9-NYSV1ltalc",
        "outputId": "27eeabd9-04c4-419e-f6c4-ed07e574eba1"
      },
      "execution_count": 64,
      "outputs": [
        {
          "output_type": "execute_result",
          "data": {
            "text/plain": [
              "shape: (5, 2)\n",
              "┌───────────────────────┬───────────┐\n",
              "│ MTRANS                ┆ Age       │\n",
              "│ ---                   ┆ ---       │\n",
              "│ str                   ┆ f64       │\n",
              "╞═══════════════════════╪═══════════╡\n",
              "│ Public_Transportation ┆ 21.923497 │\n",
              "│ Bike                  ┆ 24.714286 │\n",
              "│ Automobile            ┆ 28.815789 │\n",
              "│ Walking               ┆ 21.690909 │\n",
              "│ Motorbike             ┆ 26.090909 │\n",
              "└───────────────────────┴───────────┘"
            ],
            "text/html": [
              "<div><style>\n",
              ".dataframe > thead > tr,\n",
              ".dataframe > tbody > tr {\n",
              "  text-align: right;\n",
              "  white-space: pre-wrap;\n",
              "}\n",
              "</style>\n",
              "<small>shape: (5, 2)</small><table border=\"1\" class=\"dataframe\"><thead><tr><th>MTRANS</th><th>Age</th></tr><tr><td>str</td><td>f64</td></tr></thead><tbody><tr><td>&quot;Public_Transportation&quot;</td><td>21.923497</td></tr><tr><td>&quot;Bike&quot;</td><td>24.714286</td></tr><tr><td>&quot;Automobile&quot;</td><td>28.815789</td></tr><tr><td>&quot;Walking&quot;</td><td>21.690909</td></tr><tr><td>&quot;Motorbike&quot;</td><td>26.090909</td></tr></tbody></table></div>"
            ]
          },
          "metadata": {},
          "execution_count": 64
        }
      ]
    },
    {
      "cell_type": "code",
      "source": [
        "# Controlling group-by order\n",
        "data.group_by(\"MTRANS\").agg(pl.col(\"Age\").mean()).sort(\"MTRANS\")"
      ],
      "metadata": {
        "colab": {
          "base_uri": "https://localhost:8080/",
          "height": 252
        },
        "id": "pbxsqvEHt2lV",
        "outputId": "100b8a47-f26d-468d-c6de-d2d72dcd6d89"
      },
      "execution_count": 65,
      "outputs": [
        {
          "output_type": "execute_result",
          "data": {
            "text/plain": [
              "shape: (5, 2)\n",
              "┌───────────────────────┬───────────┐\n",
              "│ MTRANS                ┆ Age       │\n",
              "│ ---                   ┆ ---       │\n",
              "│ str                   ┆ f64       │\n",
              "╞═══════════════════════╪═══════════╡\n",
              "│ Automobile            ┆ 28.815789 │\n",
              "│ Bike                  ┆ 24.714286 │\n",
              "│ Motorbike             ┆ 26.090909 │\n",
              "│ Public_Transportation ┆ 21.923497 │\n",
              "│ Walking               ┆ 21.690909 │\n",
              "└───────────────────────┴───────────┘"
            ],
            "text/html": [
              "<div><style>\n",
              ".dataframe > thead > tr,\n",
              ".dataframe > tbody > tr {\n",
              "  text-align: right;\n",
              "  white-space: pre-wrap;\n",
              "}\n",
              "</style>\n",
              "<small>shape: (5, 2)</small><table border=\"1\" class=\"dataframe\"><thead><tr><th>MTRANS</th><th>Age</th></tr><tr><td>str</td><td>f64</td></tr></thead><tbody><tr><td>&quot;Automobile&quot;</td><td>28.815789</td></tr><tr><td>&quot;Bike&quot;</td><td>24.714286</td></tr><tr><td>&quot;Motorbike&quot;</td><td>26.090909</td></tr><tr><td>&quot;Public_Transportation&quot;</td><td>21.923497</td></tr><tr><td>&quot;Walking&quot;</td><td>21.690909</td></tr></tbody></table></div>"
            ]
          },
          "metadata": {},
          "execution_count": 65
        }
      ]
    },
    {
      "cell_type": "code",
      "source": [
        "data.group_by(\"MTRANS\", maintain_order=True).agg(pl.col(\"Age\").mean())"
      ],
      "metadata": {
        "colab": {
          "base_uri": "https://localhost:8080/",
          "height": 252
        },
        "id": "1q0sVt4vt_gL",
        "outputId": "8ca80777-4f74-40dd-9d5b-71ca594c5268"
      },
      "execution_count": 68,
      "outputs": [
        {
          "output_type": "execute_result",
          "data": {
            "text/plain": [
              "shape: (5, 2)\n",
              "┌───────────────────────┬───────────┐\n",
              "│ MTRANS                ┆ Age       │\n",
              "│ ---                   ┆ ---       │\n",
              "│ str                   ┆ f64       │\n",
              "╞═══════════════════════╪═══════════╡\n",
              "│ Public_Transportation ┆ 21.923497 │\n",
              "│ Walking               ┆ 21.690909 │\n",
              "│ Automobile            ┆ 28.815789 │\n",
              "│ Motorbike             ┆ 26.090909 │\n",
              "│ Bike                  ┆ 24.714286 │\n",
              "└───────────────────────┴───────────┘"
            ],
            "text/html": [
              "<div><style>\n",
              ".dataframe > thead > tr,\n",
              ".dataframe > tbody > tr {\n",
              "  text-align: right;\n",
              "  white-space: pre-wrap;\n",
              "}\n",
              "</style>\n",
              "<small>shape: (5, 2)</small><table border=\"1\" class=\"dataframe\"><thead><tr><th>MTRANS</th><th>Age</th></tr><tr><td>str</td><td>f64</td></tr></thead><tbody><tr><td>&quot;Public_Transportation&quot;</td><td>21.923497</td></tr><tr><td>&quot;Walking&quot;</td><td>21.690909</td></tr><tr><td>&quot;Automobile&quot;</td><td>28.815789</td></tr><tr><td>&quot;Motorbike&quot;</td><td>26.090909</td></tr><tr><td>&quot;Bike&quot;</td><td>24.714286</td></tr></tbody></table></div>"
            ]
          },
          "metadata": {},
          "execution_count": 68
        }
      ]
    },
    {
      "cell_type": "code",
      "source": [
        "# Multiple aggregations\n",
        "data.group_by(\"MTRANS\").agg(pl.col(\"Age\").mean(), pl.col(\"Weight\").mean())"
      ],
      "metadata": {
        "colab": {
          "base_uri": "https://localhost:8080/",
          "height": 252
        },
        "id": "E2qnfUI7ubB2",
        "outputId": "3b7330a3-7372-4d1a-b3bc-bf897aa63de8"
      },
      "execution_count": 70,
      "outputs": [
        {
          "output_type": "execute_result",
          "data": {
            "text/plain": [
              "shape: (5, 3)\n",
              "┌───────────────────────┬───────────┬───────────┐\n",
              "│ MTRANS                ┆ Age       ┆ Weight    │\n",
              "│ ---                   ┆ ---       ┆ ---       │\n",
              "│ str                   ┆ f64       ┆ f64       │\n",
              "╞═══════════════════════╪═══════════╪═══════════╡\n",
              "│ Public_Transportation ┆ 21.923497 ┆ 87.486712 │\n",
              "│ Automobile            ┆ 28.815789 ┆ 85.907619 │\n",
              "│ Bike                  ┆ 24.714286 ┆ 76.714286 │\n",
              "│ Motorbike             ┆ 26.090909 ┆ 73.090909 │\n",
              "│ Walking               ┆ 21.690909 ┆ 70.596108 │\n",
              "└───────────────────────┴───────────┴───────────┘"
            ],
            "text/html": [
              "<div><style>\n",
              ".dataframe > thead > tr,\n",
              ".dataframe > tbody > tr {\n",
              "  text-align: right;\n",
              "  white-space: pre-wrap;\n",
              "}\n",
              "</style>\n",
              "<small>shape: (5, 3)</small><table border=\"1\" class=\"dataframe\"><thead><tr><th>MTRANS</th><th>Age</th><th>Weight</th></tr><tr><td>str</td><td>f64</td><td>f64</td></tr></thead><tbody><tr><td>&quot;Public_Transportation&quot;</td><td>21.923497</td><td>87.486712</td></tr><tr><td>&quot;Automobile&quot;</td><td>28.815789</td><td>85.907619</td></tr><tr><td>&quot;Bike&quot;</td><td>24.714286</td><td>76.714286</td></tr><tr><td>&quot;Motorbike&quot;</td><td>26.090909</td><td>73.090909</td></tr><tr><td>&quot;Walking&quot;</td><td>21.690909</td><td>70.596108</td></tr></tbody></table></div>"
            ]
          },
          "metadata": {},
          "execution_count": 70
        }
      ]
    },
    {
      "cell_type": "code",
      "source": [
        "# Grouping by multiple columns\n",
        "out = (\n",
        "    data\n",
        "    .group_by([\"MTRANS\", \"Gender\"])\n",
        "    .agg(\n",
        "        pl.col(\"Age\").mean().alias(\"Age_mean\"),\n",
        "        pl.len().alias(\"number\")\n",
        "    )\n",
        ")\n",
        "out"
      ],
      "metadata": {
        "colab": {
          "base_uri": "https://localhost:8080/",
          "height": 376
        },
        "id": "Pxfww3e7vDSo",
        "outputId": "24cce4b8-ae8e-4fea-b15b-065cb9ab6ee2"
      },
      "execution_count": 75,
      "outputs": [
        {
          "output_type": "execute_result",
          "data": {
            "text/plain": [
              "shape: (9, 4)\n",
              "┌───────────────────────┬────────┬───────────┬────────┐\n",
              "│ MTRANS                ┆ Gender ┆ Age_mean  ┆ number │\n",
              "│ ---                   ┆ ---    ┆ ---       ┆ ---    │\n",
              "│ str                   ┆ str    ┆ f64       ┆ u32    │\n",
              "╞═══════════════════════╪════════╪═══════════╪════════╡\n",
              "│ Walking               ┆ Male   ┆ 22.5      ┆ 35     │\n",
              "│ Automobile            ┆ Female ┆ 29.56     ┆ 166    │\n",
              "│ Motorbike             ┆ Female ┆ 30.0      ┆ 2      │\n",
              "│ Motorbike             ┆ Male   ┆ 25.222222 ┆ 9      │\n",
              "│ Bike                  ┆ Male   ┆ 24.714286 ┆ 7      │\n",
              "│ Walking               ┆ Female ┆ 20.380952 ┆ 21     │\n",
              "│ Automobile            ┆ Male   ┆ 28.234375 ┆ 291    │\n",
              "│ Public_Transportation ┆ Male   ┆ 20.869048 ┆ 726    │\n",
              "│ Public_Transportation ┆ Female ┆ 22.818182 ┆ 854    │\n",
              "└───────────────────────┴────────┴───────────┴────────┘"
            ],
            "text/html": [
              "<div><style>\n",
              ".dataframe > thead > tr,\n",
              ".dataframe > tbody > tr {\n",
              "  text-align: right;\n",
              "  white-space: pre-wrap;\n",
              "}\n",
              "</style>\n",
              "<small>shape: (9, 4)</small><table border=\"1\" class=\"dataframe\"><thead><tr><th>MTRANS</th><th>Gender</th><th>Age_mean</th><th>number</th></tr><tr><td>str</td><td>str</td><td>f64</td><td>u32</td></tr></thead><tbody><tr><td>&quot;Walking&quot;</td><td>&quot;Male&quot;</td><td>22.5</td><td>35</td></tr><tr><td>&quot;Automobile&quot;</td><td>&quot;Female&quot;</td><td>29.56</td><td>166</td></tr><tr><td>&quot;Motorbike&quot;</td><td>&quot;Female&quot;</td><td>30.0</td><td>2</td></tr><tr><td>&quot;Motorbike&quot;</td><td>&quot;Male&quot;</td><td>25.222222</td><td>9</td></tr><tr><td>&quot;Bike&quot;</td><td>&quot;Male&quot;</td><td>24.714286</td><td>7</td></tr><tr><td>&quot;Walking&quot;</td><td>&quot;Female&quot;</td><td>20.380952</td><td>21</td></tr><tr><td>&quot;Automobile&quot;</td><td>&quot;Male&quot;</td><td>28.234375</td><td>291</td></tr><tr><td>&quot;Public_Transportation&quot;</td><td>&quot;Male&quot;</td><td>20.869048</td><td>726</td></tr><tr><td>&quot;Public_Transportation&quot;</td><td>&quot;Female&quot;</td><td>22.818182</td><td>854</td></tr></tbody></table></div>"
            ]
          },
          "metadata": {},
          "execution_count": 75
        }
      ]
    },
    {
      "cell_type": "markdown",
      "source": [
        "### Long and wide format"
      ],
      "metadata": {
        "id": "HdTxm5VZ1Xx1"
      }
    },
    {
      "cell_type": "code",
      "source": [
        "data_test = data.with_row_index(\"Id\")"
      ],
      "metadata": {
        "id": "u6Uvcdhz1acW"
      },
      "execution_count": 79,
      "outputs": []
    },
    {
      "cell_type": "code",
      "source": [
        "data_test"
      ],
      "metadata": {
        "colab": {
          "base_uri": "https://localhost:8080/",
          "height": 458
        },
        "id": "shTHHwWH1yaQ",
        "outputId": "eb453b58-d0cd-4b05-c84c-a80dcfebc2fd"
      },
      "execution_count": 80,
      "outputs": [
        {
          "output_type": "execute_result",
          "data": {
            "text/plain": [
              "shape: (2_111, 18)\n",
              "┌──────┬────────┬──────┬──────────┬───┬──────┬────────────┬────────────────────┬───────────────────┐\n",
              "│ Id   ┆ Gender ┆ Age  ┆ Height   ┆ … ┆ TUE  ┆ CALC       ┆ MTRANS             ┆ NObeyesdad        │\n",
              "│ ---  ┆ ---    ┆ ---  ┆ ---      ┆   ┆ ---  ┆ ---        ┆ ---                ┆ ---               │\n",
              "│ u32  ┆ str    ┆ i64  ┆ f64      ┆   ┆ i64  ┆ str        ┆ str                ┆ str               │\n",
              "╞══════╪════════╪══════╪══════════╪═══╪══════╪════════════╪════════════════════╪═══════════════════╡\n",
              "│ 0    ┆ Female ┆ 21   ┆ 1.62     ┆ … ┆ 1    ┆ no         ┆ Public_Transportat ┆ Normal_Weight     │\n",
              "│      ┆        ┆      ┆          ┆   ┆      ┆            ┆ ion                ┆                   │\n",
              "│ 1    ┆ Female ┆ 21   ┆ 1.52     ┆ … ┆ 0    ┆ Sometimes  ┆ Public_Transportat ┆ Normal_Weight     │\n",
              "│      ┆        ┆      ┆          ┆   ┆      ┆            ┆ ion                ┆                   │\n",
              "│ 2    ┆ Male   ┆ 23   ┆ 1.8      ┆ … ┆ 1    ┆ Frequently ┆ Public_Transportat ┆ Normal_Weight     │\n",
              "│      ┆        ┆      ┆          ┆   ┆      ┆            ┆ ion                ┆                   │\n",
              "│ 3    ┆ Male   ┆ 27   ┆ 1.8      ┆ … ┆ 0    ┆ Frequently ┆ Walking            ┆ Overweight_Level_ │\n",
              "│      ┆        ┆      ┆          ┆   ┆      ┆            ┆                    ┆ I                 │\n",
              "│ 4    ┆ Male   ┆ 22   ┆ 1.78     ┆ … ┆ 0    ┆ Sometimes  ┆ Public_Transportat ┆ Overweight_Level_ │\n",
              "│      ┆        ┆      ┆          ┆   ┆      ┆            ┆ ion                ┆ II                │\n",
              "│ …    ┆ …      ┆ …    ┆ …        ┆ … ┆ …    ┆ …          ┆ …                  ┆ …                 │\n",
              "│ 2106 ┆ Female ┆ null ┆ 1.71073  ┆ … ┆ null ┆ Sometimes  ┆ Public_Transportat ┆ Obesity_Type_III  │\n",
              "│      ┆        ┆      ┆          ┆   ┆      ┆            ┆ ion                ┆                   │\n",
              "│ 2107 ┆ Female ┆ null ┆ 1.748584 ┆ … ┆ null ┆ Sometimes  ┆ Public_Transportat ┆ Obesity_Type_III  │\n",
              "│      ┆        ┆      ┆          ┆   ┆      ┆            ┆ ion                ┆                   │\n",
              "│ 2108 ┆ Female ┆ null ┆ 1.752206 ┆ … ┆ null ┆ Sometimes  ┆ Public_Transportat ┆ Obesity_Type_III  │\n",
              "│      ┆        ┆      ┆          ┆   ┆      ┆            ┆ ion                ┆                   │\n",
              "│ 2109 ┆ Female ┆ null ┆ 1.73945  ┆ … ┆ null ┆ Sometimes  ┆ Public_Transportat ┆ Obesity_Type_III  │\n",
              "│      ┆        ┆      ┆          ┆   ┆      ┆            ┆ ion                ┆                   │\n",
              "│ 2110 ┆ Female ┆ null ┆ 1.738836 ┆ … ┆ null ┆ Sometimes  ┆ Public_Transportat ┆ Obesity_Type_III  │\n",
              "│      ┆        ┆      ┆          ┆   ┆      ┆            ┆ ion                ┆                   │\n",
              "└──────┴────────┴──────┴──────────┴───┴──────┴────────────┴────────────────────┴───────────────────┘"
            ],
            "text/html": [
              "<div><style>\n",
              ".dataframe > thead > tr,\n",
              ".dataframe > tbody > tr {\n",
              "  text-align: right;\n",
              "  white-space: pre-wrap;\n",
              "}\n",
              "</style>\n",
              "<small>shape: (2_111, 18)</small><table border=\"1\" class=\"dataframe\"><thead><tr><th>Id</th><th>Gender</th><th>Age</th><th>Height</th><th>Weight</th><th>family_history_with_overweight</th><th>FAVC</th><th>FCVC</th><th>NCP</th><th>CAEC</th><th>SMOKE</th><th>CH2O</th><th>SCC</th><th>FAF</th><th>TUE</th><th>CALC</th><th>MTRANS</th><th>NObeyesdad</th></tr><tr><td>u32</td><td>str</td><td>i64</td><td>f64</td><td>f64</td><td>str</td><td>str</td><td>i64</td><td>i64</td><td>str</td><td>str</td><td>i64</td><td>str</td><td>i64</td><td>i64</td><td>str</td><td>str</td><td>str</td></tr></thead><tbody><tr><td>0</td><td>&quot;Female&quot;</td><td>21</td><td>1.62</td><td>64.0</td><td>&quot;yes&quot;</td><td>&quot;no&quot;</td><td>2</td><td>3</td><td>&quot;Sometimes&quot;</td><td>&quot;no&quot;</td><td>2</td><td>&quot;no&quot;</td><td>0</td><td>1</td><td>&quot;no&quot;</td><td>&quot;Public_Transportation&quot;</td><td>&quot;Normal_Weight&quot;</td></tr><tr><td>1</td><td>&quot;Female&quot;</td><td>21</td><td>1.52</td><td>56.0</td><td>&quot;yes&quot;</td><td>&quot;no&quot;</td><td>3</td><td>3</td><td>&quot;Sometimes&quot;</td><td>&quot;yes&quot;</td><td>3</td><td>&quot;yes&quot;</td><td>3</td><td>0</td><td>&quot;Sometimes&quot;</td><td>&quot;Public_Transportation&quot;</td><td>&quot;Normal_Weight&quot;</td></tr><tr><td>2</td><td>&quot;Male&quot;</td><td>23</td><td>1.8</td><td>77.0</td><td>&quot;yes&quot;</td><td>&quot;no&quot;</td><td>2</td><td>3</td><td>&quot;Sometimes&quot;</td><td>&quot;no&quot;</td><td>2</td><td>&quot;no&quot;</td><td>2</td><td>1</td><td>&quot;Frequently&quot;</td><td>&quot;Public_Transportation&quot;</td><td>&quot;Normal_Weight&quot;</td></tr><tr><td>3</td><td>&quot;Male&quot;</td><td>27</td><td>1.8</td><td>87.0</td><td>&quot;no&quot;</td><td>&quot;no&quot;</td><td>3</td><td>3</td><td>&quot;Sometimes&quot;</td><td>&quot;no&quot;</td><td>2</td><td>&quot;no&quot;</td><td>2</td><td>0</td><td>&quot;Frequently&quot;</td><td>&quot;Walking&quot;</td><td>&quot;Overweight_Level_I&quot;</td></tr><tr><td>4</td><td>&quot;Male&quot;</td><td>22</td><td>1.78</td><td>89.8</td><td>&quot;no&quot;</td><td>&quot;no&quot;</td><td>2</td><td>1</td><td>&quot;Sometimes&quot;</td><td>&quot;no&quot;</td><td>2</td><td>&quot;no&quot;</td><td>0</td><td>0</td><td>&quot;Sometimes&quot;</td><td>&quot;Public_Transportation&quot;</td><td>&quot;Overweight_Level_II&quot;</td></tr><tr><td>&hellip;</td><td>&hellip;</td><td>&hellip;</td><td>&hellip;</td><td>&hellip;</td><td>&hellip;</td><td>&hellip;</td><td>&hellip;</td><td>&hellip;</td><td>&hellip;</td><td>&hellip;</td><td>&hellip;</td><td>&hellip;</td><td>&hellip;</td><td>&hellip;</td><td>&hellip;</td><td>&hellip;</td><td>&hellip;</td></tr><tr><td>2106</td><td>&quot;Female&quot;</td><td>null</td><td>1.71073</td><td>131.408528</td><td>&quot;yes&quot;</td><td>&quot;yes&quot;</td><td>3</td><td>3</td><td>&quot;Sometimes&quot;</td><td>&quot;no&quot;</td><td>null</td><td>&quot;no&quot;</td><td>null</td><td>null</td><td>&quot;Sometimes&quot;</td><td>&quot;Public_Transportation&quot;</td><td>&quot;Obesity_Type_III&quot;</td></tr><tr><td>2107</td><td>&quot;Female&quot;</td><td>null</td><td>1.748584</td><td>133.742943</td><td>&quot;yes&quot;</td><td>&quot;yes&quot;</td><td>3</td><td>3</td><td>&quot;Sometimes&quot;</td><td>&quot;no&quot;</td><td>null</td><td>&quot;no&quot;</td><td>null</td><td>null</td><td>&quot;Sometimes&quot;</td><td>&quot;Public_Transportation&quot;</td><td>&quot;Obesity_Type_III&quot;</td></tr><tr><td>2108</td><td>&quot;Female&quot;</td><td>null</td><td>1.752206</td><td>133.689352</td><td>&quot;yes&quot;</td><td>&quot;yes&quot;</td><td>3</td><td>3</td><td>&quot;Sometimes&quot;</td><td>&quot;no&quot;</td><td>null</td><td>&quot;no&quot;</td><td>null</td><td>null</td><td>&quot;Sometimes&quot;</td><td>&quot;Public_Transportation&quot;</td><td>&quot;Obesity_Type_III&quot;</td></tr><tr><td>2109</td><td>&quot;Female&quot;</td><td>null</td><td>1.73945</td><td>133.346641</td><td>&quot;yes&quot;</td><td>&quot;yes&quot;</td><td>3</td><td>3</td><td>&quot;Sometimes&quot;</td><td>&quot;no&quot;</td><td>null</td><td>&quot;no&quot;</td><td>null</td><td>null</td><td>&quot;Sometimes&quot;</td><td>&quot;Public_Transportation&quot;</td><td>&quot;Obesity_Type_III&quot;</td></tr><tr><td>2110</td><td>&quot;Female&quot;</td><td>null</td><td>1.738836</td><td>133.472641</td><td>&quot;yes&quot;</td><td>&quot;yes&quot;</td><td>3</td><td>3</td><td>&quot;Sometimes&quot;</td><td>&quot;no&quot;</td><td>null</td><td>&quot;no&quot;</td><td>null</td><td>null</td><td>&quot;Sometimes&quot;</td><td>&quot;Public_Transportation&quot;</td><td>&quot;Obesity_Type_III&quot;</td></tr></tbody></table></div>"
            ]
          },
          "metadata": {},
          "execution_count": 80
        }
      ]
    },
    {
      "cell_type": "code",
      "source": [
        "# Pivoting to wide\n",
        "data_wide = out.pivot(on=\"MTRANS\", index=\"Gender\", values=\"number\")\n",
        "data_wide"
      ],
      "metadata": {
        "colab": {
          "base_uri": "https://localhost:8080/",
          "height": 159
        },
        "id": "ecyBPg8G2Q-x",
        "outputId": "59ed751f-df3b-4840-e510-bccca30d10ae"
      },
      "execution_count": 84,
      "outputs": [
        {
          "output_type": "execute_result",
          "data": {
            "text/plain": [
              "shape: (2, 6)\n",
              "┌────────┬─────────┬────────────┬───────────┬──────┬───────────────────────┐\n",
              "│ Gender ┆ Walking ┆ Automobile ┆ Motorbike ┆ Bike ┆ Public_Transportation │\n",
              "│ ---    ┆ ---     ┆ ---        ┆ ---       ┆ ---  ┆ ---                   │\n",
              "│ str    ┆ u32     ┆ u32        ┆ u32       ┆ u32  ┆ u32                   │\n",
              "╞════════╪═════════╪════════════╪═══════════╪══════╪═══════════════════════╡\n",
              "│ Male   ┆ 35      ┆ 291        ┆ 9         ┆ 7    ┆ 726                   │\n",
              "│ Female ┆ 21      ┆ 166        ┆ 2         ┆ null ┆ 854                   │\n",
              "└────────┴─────────┴────────────┴───────────┴──────┴───────────────────────┘"
            ],
            "text/html": [
              "<div><style>\n",
              ".dataframe > thead > tr,\n",
              ".dataframe > tbody > tr {\n",
              "  text-align: right;\n",
              "  white-space: pre-wrap;\n",
              "}\n",
              "</style>\n",
              "<small>shape: (2, 6)</small><table border=\"1\" class=\"dataframe\"><thead><tr><th>Gender</th><th>Walking</th><th>Automobile</th><th>Motorbike</th><th>Bike</th><th>Public_Transportation</th></tr><tr><td>str</td><td>u32</td><td>u32</td><td>u32</td><td>u32</td><td>u32</td></tr></thead><tbody><tr><td>&quot;Male&quot;</td><td>35</td><td>291</td><td>9</td><td>7</td><td>726</td></tr><tr><td>&quot;Female&quot;</td><td>21</td><td>166</td><td>2</td><td>null</td><td>854</td></tr></tbody></table></div>"
            ]
          },
          "metadata": {},
          "execution_count": 84
        }
      ]
    },
    {
      "cell_type": "code",
      "source": [
        "# Unpivoting from wide to long\n",
        "data_long = data_wide.unpivot(index=\"Gender\", on=[\"Walking\", \"Automobile\", \"Motorbike\",\t\"Bike\",\t\"Public_Transportation\"])\n",
        "data_long"
      ],
      "metadata": {
        "colab": {
          "base_uri": "https://localhost:8080/",
          "height": 407
        },
        "id": "bl997iqd319R",
        "outputId": "fce01049-9730-4ce5-c4fd-be56a380c07f"
      },
      "execution_count": 87,
      "outputs": [
        {
          "output_type": "execute_result",
          "data": {
            "text/plain": [
              "shape: (10, 3)\n",
              "┌────────┬───────────────────────┬───────┐\n",
              "│ Gender ┆ variable              ┆ value │\n",
              "│ ---    ┆ ---                   ┆ ---   │\n",
              "│ str    ┆ str                   ┆ u32   │\n",
              "╞════════╪═══════════════════════╪═══════╡\n",
              "│ Male   ┆ Walking               ┆ 35    │\n",
              "│ Female ┆ Walking               ┆ 21    │\n",
              "│ Male   ┆ Automobile            ┆ 291   │\n",
              "│ Female ┆ Automobile            ┆ 166   │\n",
              "│ Male   ┆ Motorbike             ┆ 9     │\n",
              "│ Female ┆ Motorbike             ┆ 2     │\n",
              "│ Male   ┆ Bike                  ┆ 7     │\n",
              "│ Female ┆ Bike                  ┆ null  │\n",
              "│ Male   ┆ Public_Transportation ┆ 726   │\n",
              "│ Female ┆ Public_Transportation ┆ 854   │\n",
              "└────────┴───────────────────────┴───────┘"
            ],
            "text/html": [
              "<div><style>\n",
              ".dataframe > thead > tr,\n",
              ".dataframe > tbody > tr {\n",
              "  text-align: right;\n",
              "  white-space: pre-wrap;\n",
              "}\n",
              "</style>\n",
              "<small>shape: (10, 3)</small><table border=\"1\" class=\"dataframe\"><thead><tr><th>Gender</th><th>variable</th><th>value</th></tr><tr><td>str</td><td>str</td><td>u32</td></tr></thead><tbody><tr><td>&quot;Male&quot;</td><td>&quot;Walking&quot;</td><td>35</td></tr><tr><td>&quot;Female&quot;</td><td>&quot;Walking&quot;</td><td>21</td></tr><tr><td>&quot;Male&quot;</td><td>&quot;Automobile&quot;</td><td>291</td></tr><tr><td>&quot;Female&quot;</td><td>&quot;Automobile&quot;</td><td>166</td></tr><tr><td>&quot;Male&quot;</td><td>&quot;Motorbike&quot;</td><td>9</td></tr><tr><td>&quot;Female&quot;</td><td>&quot;Motorbike&quot;</td><td>2</td></tr><tr><td>&quot;Male&quot;</td><td>&quot;Bike&quot;</td><td>7</td></tr><tr><td>&quot;Female&quot;</td><td>&quot;Bike&quot;</td><td>null</td></tr><tr><td>&quot;Male&quot;</td><td>&quot;Public_Transportation&quot;</td><td>726</td></tr><tr><td>&quot;Female&quot;</td><td>&quot;Public_Transportation&quot;</td><td>854</td></tr></tbody></table></div>"
            ]
          },
          "metadata": {},
          "execution_count": 87
        }
      ]
    },
    {
      "cell_type": "code",
      "source": [
        "# Unpivoting from wide to long\n",
        "data_long_1 = data_wide.unpivot(index=\"Gender\", on=[\"Walking\", \"Automobile\", \"Motorbike\",\t\"Bike\",\t\"Public_Transportation\"], variable_name=\"Transportation type\", value_name=\"Counts\")\n",
        "data_long_1"
      ],
      "metadata": {
        "colab": {
          "base_uri": "https://localhost:8080/",
          "height": 407
        },
        "id": "3OCoox9g50xV",
        "outputId": "2978e2b4-2fb4-4a5f-b7ab-2d35dcdd1ede"
      },
      "execution_count": 88,
      "outputs": [
        {
          "output_type": "execute_result",
          "data": {
            "text/plain": [
              "shape: (10, 3)\n",
              "┌────────┬───────────────────────┬────────┐\n",
              "│ Gender ┆ Transportation type   ┆ Counts │\n",
              "│ ---    ┆ ---                   ┆ ---    │\n",
              "│ str    ┆ str                   ┆ u32    │\n",
              "╞════════╪═══════════════════════╪════════╡\n",
              "│ Male   ┆ Walking               ┆ 35     │\n",
              "│ Female ┆ Walking               ┆ 21     │\n",
              "│ Male   ┆ Automobile            ┆ 291    │\n",
              "│ Female ┆ Automobile            ┆ 166    │\n",
              "│ Male   ┆ Motorbike             ┆ 9      │\n",
              "│ Female ┆ Motorbike             ┆ 2      │\n",
              "│ Male   ┆ Bike                  ┆ 7      │\n",
              "│ Female ┆ Bike                  ┆ null   │\n",
              "│ Male   ┆ Public_Transportation ┆ 726    │\n",
              "│ Female ┆ Public_Transportation ┆ 854    │\n",
              "└────────┴───────────────────────┴────────┘"
            ],
            "text/html": [
              "<div><style>\n",
              ".dataframe > thead > tr,\n",
              ".dataframe > tbody > tr {\n",
              "  text-align: right;\n",
              "  white-space: pre-wrap;\n",
              "}\n",
              "</style>\n",
              "<small>shape: (10, 3)</small><table border=\"1\" class=\"dataframe\"><thead><tr><th>Gender</th><th>Transportation type</th><th>Counts</th></tr><tr><td>str</td><td>str</td><td>u32</td></tr></thead><tbody><tr><td>&quot;Male&quot;</td><td>&quot;Walking&quot;</td><td>35</td></tr><tr><td>&quot;Female&quot;</td><td>&quot;Walking&quot;</td><td>21</td></tr><tr><td>&quot;Male&quot;</td><td>&quot;Automobile&quot;</td><td>291</td></tr><tr><td>&quot;Female&quot;</td><td>&quot;Automobile&quot;</td><td>166</td></tr><tr><td>&quot;Male&quot;</td><td>&quot;Motorbike&quot;</td><td>9</td></tr><tr><td>&quot;Female&quot;</td><td>&quot;Motorbike&quot;</td><td>2</td></tr><tr><td>&quot;Male&quot;</td><td>&quot;Bike&quot;</td><td>7</td></tr><tr><td>&quot;Female&quot;</td><td>&quot;Bike&quot;</td><td>null</td></tr><tr><td>&quot;Male&quot;</td><td>&quot;Public_Transportation&quot;</td><td>726</td></tr><tr><td>&quot;Female&quot;</td><td>&quot;Public_Transportation&quot;</td><td>854</td></tr></tbody></table></div>"
            ]
          },
          "metadata": {},
          "execution_count": 88
        }
      ]
    }
  ]
}